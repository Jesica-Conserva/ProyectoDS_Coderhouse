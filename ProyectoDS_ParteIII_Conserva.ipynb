{
  "nbformat": 4,
  "nbformat_minor": 0,
  "metadata": {
    "colab": {
      "provenance": [],
      "toc_visible": true,
      "authorship_tag": "ABX9TyN53pY5PMXrOo8ZBO0r6Iw3",
      "include_colab_link": true
    },
    "kernelspec": {
      "name": "python3",
      "display_name": "Python 3"
    },
    "language_info": {
      "name": "python"
    }
  },
  "cells": [
    {
      "cell_type": "markdown",
      "metadata": {
        "id": "view-in-github",
        "colab_type": "text"
      },
      "source": [
        "<a href=\"https://colab.research.google.com/github/Jesica-Conserva/ProyectoDS_Coderhouse/blob/main/ProyectoDS_ParteIII_Conserva.ipynb\" target=\"_parent\"><img src=\"https://colab.research.google.com/assets/colab-badge.svg\" alt=\"Open In Colab\"/></a>"
      ]
    },
    {
      "cell_type": "markdown",
      "source": [
        "# **Presentación del proyecto**"
      ],
      "metadata": {
        "id": "VCs_qKgTRkOh"
      }
    },
    {
      "cell_type": "markdown",
      "source": [
        "## Descripción\n",
        "\n",
        "La depresión es un síndrome caracterizado por una profunda tristeza y por la inhibición de funciones psiquicas, a veces con trastornos neurodegenerativos; según la definición de la Real Academia Española (RAE). Por tal motivo, este proyecto tiene como finalidad estudiar la condición de la depresión y los factores posibles que pueden llevar a desencadenarla; con el fin de crear proyectos o tomar medidas tendientes a reducir la misma.\n",
        "Según la OPS (Organización Panamericada de la Salud), la depresión predispone al ataque cardíaco y a la diabetes, lo que a su vez incrementa la depresión. Entre los factores de riesgo a considerar están: el bajo nivel socioeconómico, el consumo de alcohol y otras sustancias, y el alto nivel de estrés."
      ],
      "metadata": {
        "id": "I3p6o7OnJHFt"
      }
    },
    {
      "cell_type": "markdown",
      "source": [
        "## Público objetivo\n",
        "Si bien como audiencia objetivo principal son aquellos organismos de salud de cualquier estado o nación que quieran hacer frente a dicha problemática, este proyecto podría consultarlo cualquier persona con conocimientos (o sin ellos) sobre la ciencia de datos. Para ello se utilizará el lenguaje Python (con el uso de bibliotecas como Pandas y NumPy) para la creación de código y, para la creación de gráficos se utilizarán bibliotecas como MatPlotLib y Seaborn."
      ],
      "metadata": {
        "id": "WhWwEA7zR3Sn"
      }
    },
    {
      "cell_type": "markdown",
      "source": [
        "## Contexto Comercial y Analítico"
      ],
      "metadata": {
        "id": "65oyetl4d8w8"
      }
    },
    {
      "cell_type": "markdown",
      "source": [
        "El análisis del presente dataset se centra básicamente en la predicción de los factores más relevantes para saber si una persona puede o no, a futuro, sufrir de depresión, con el fin de poder subsanar o prevenir dicho síndrome.\n",
        "El dataset propuesto cuenta con datos relevantes al nivel académico, factores de riesgo como el sedentarismo, el consumo de alcohol, los patrones de sueño, si la persona es o no fumadora, historial médico de enfermedades mentales, familiares, enfermedades subyacentes, etc."
      ],
      "metadata": {
        "id": "kFr2E0tZeDzC"
      }
    },
    {
      "cell_type": "markdown",
      "source": [
        "## Problemática a resolver\n",
        "La problemática a resolver será poder predecir las características o factores externos que intervienen en el desarrollo del citado síndrome; en base al estilo y forma de vida de cada uno de los individuos.\n",
        "Para ello se realizará un aprendizaje supervisado dado que existen en el dataset las variables etiquetadas indispensables para lograr tal fin."
      ],
      "metadata": {
        "id": "C_PM02qsLHyo"
      }
    },
    {
      "cell_type": "markdown",
      "source": [
        "# **Lectura de datos**"
      ],
      "metadata": {
        "id": "SGknfPLSf6FG"
      }
    },
    {
      "cell_type": "markdown",
      "source": [
        "### **Importación de librerías necesarias**"
      ],
      "metadata": {
        "id": "KjzsofZIf8cn"
      }
    },
    {
      "cell_type": "code",
      "execution_count": null,
      "metadata": {
        "id": "7O8kn6LhJu6P"
      },
      "outputs": [],
      "source": [
        "# Importo las librerías a utilizar\n",
        "import pandas as pd\n",
        "import numpy as np\n",
        "import matplotlib.pyplot as plt\n",
        "from matplotlib import cm\n",
        "from matplotlib import colors as mcolors\n",
        "import seaborn as sns\n"
      ]
    },
    {
      "cell_type": "markdown",
      "source": [
        "### **Configuración del entorno de Python en Google Colab**"
      ],
      "metadata": {
        "id": "wb_6y_hVgOjU"
      }
    },
    {
      "cell_type": "code",
      "source": [
        "from google.colab import drive\n",
        "drive.mount('/content/drive')"
      ],
      "metadata": {
        "colab": {
          "base_uri": "https://localhost:8080/"
        },
        "id": "cvxS2yj0gKsF",
        "outputId": "57510b38-fbef-43d2-baea-2329d29ac872"
      },
      "execution_count": null,
      "outputs": [
        {
          "output_type": "stream",
          "name": "stdout",
          "text": [
            "Drive already mounted at /content/drive; to attempt to forcibly remount, call drive.mount(\"/content/drive\", force_remount=True).\n"
          ]
        }
      ]
    },
    {
      "cell_type": "code",
      "source": [
        "%pwd drive\n"
      ],
      "metadata": {
        "colab": {
          "base_uri": "https://localhost:8080/",
          "height": 35
        },
        "id": "EU62J8tlPlok",
        "outputId": "55cde139-04d5-4e93-e75b-779b3f640997"
      },
      "execution_count": null,
      "outputs": [
        {
          "output_type": "execute_result",
          "data": {
            "text/plain": [
              "'/content'"
            ],
            "application/vnd.google.colaboratory.intrinsic+json": {
              "type": "string"
            }
          },
          "metadata": {},
          "execution_count": 87
        }
      ]
    },
    {
      "cell_type": "code",
      "source": [
        "%ls drive/MyDrive/Coderhouse/"
      ],
      "metadata": {
        "colab": {
          "base_uri": "https://localhost:8080/"
        },
        "id": "AU01GQIYPtU5",
        "outputId": "f4c8b142-9aea-46ec-b33f-321e28685d82"
      },
      "execution_count": null,
      "outputs": [
        {
          "output_type": "stream",
          "name": "stdout",
          "text": [
            "'Copia de Most Streamed Spotify Songs 2024.1.gsheet'   spotify1.csv        spotify2.csv\n",
            "'Copia de spotify2024.csv'                             spotify1viejo.csv   Spotify.csv.gsheet\n",
            " depression_data.csv                                   spotify2024.csv\n"
          ]
        }
      ]
    },
    {
      "cell_type": "markdown",
      "source": [
        "### **Lectura del dataset**"
      ],
      "metadata": {
        "id": "GtGqXW4igW-q"
      }
    },
    {
      "cell_type": "code",
      "source": [
        "#Importo repositorios para dar formato de tabla a la información del CSV\n",
        "from google.colab import data_table\n",
        "from vega_datasets import data\n",
        "data_table.enable_dataframe_formatter()\n",
        "\n",
        "depresion_df = pd.read_csv('/content/drive/MyDrive/Coderhouse/depression_data.csv')"
      ],
      "metadata": {
        "id": "MTVDa_58PzmS"
      },
      "execution_count": null,
      "outputs": []
    },
    {
      "cell_type": "markdown",
      "source": [
        "### **Análisis inicial del dataset**"
      ],
      "metadata": {
        "id": "p8dRONhRggqK"
      }
    },
    {
      "cell_type": "code",
      "source": [
        "depresion_df.shape"
      ],
      "metadata": {
        "colab": {
          "base_uri": "https://localhost:8080/"
        },
        "id": "B75SwS32goIP",
        "outputId": "7e2dacbc-49ba-4b87-c8bb-daf8600b7406"
      },
      "execution_count": null,
      "outputs": [
        {
          "output_type": "execute_result",
          "data": {
            "text/plain": [
              "(413768, 16)"
            ]
          },
          "metadata": {},
          "execution_count": 90
        }
      ]
    },
    {
      "cell_type": "code",
      "source": [
        "#Solicito la información del DF\n",
        "depresion_df.info()"
      ],
      "metadata": {
        "colab": {
          "base_uri": "https://localhost:8080/"
        },
        "id": "2RGKUlSRQLqw",
        "outputId": "4ef7c814-bb73-42d2-b920-19a718b5d38c"
      },
      "execution_count": null,
      "outputs": [
        {
          "output_type": "stream",
          "name": "stdout",
          "text": [
            "<class 'pandas.core.frame.DataFrame'>\n",
            "RangeIndex: 413768 entries, 0 to 413767\n",
            "Data columns (total 16 columns):\n",
            " #   Column                        Non-Null Count   Dtype  \n",
            "---  ------                        --------------   -----  \n",
            " 0   Name                          413768 non-null  object \n",
            " 1   Age                           413768 non-null  int64  \n",
            " 2   Marital Status                413768 non-null  object \n",
            " 3   Education Level               413768 non-null  object \n",
            " 4   Number of Children            413768 non-null  int64  \n",
            " 5   Smoking Status                413768 non-null  object \n",
            " 6   Physical Activity Level       413768 non-null  object \n",
            " 7   Employment Status             413768 non-null  object \n",
            " 8   Income                        413768 non-null  float64\n",
            " 9   Alcohol Consumption           413768 non-null  object \n",
            " 10  Dietary Habits                413768 non-null  object \n",
            " 11  Sleep Patterns                413768 non-null  object \n",
            " 12  History of Mental Illness     413768 non-null  object \n",
            " 13  History of Substance Abuse    413768 non-null  object \n",
            " 14  Family History of Depression  413768 non-null  object \n",
            " 15  Chronic Medical Conditions    413768 non-null  object \n",
            "dtypes: float64(1), int64(2), object(13)\n",
            "memory usage: 50.5+ MB\n"
          ]
        }
      ]
    },
    {
      "cell_type": "code",
      "source": [
        "depresion_df.head(15)"
      ],
      "metadata": {
        "id": "z5FytNe3bhIq",
        "outputId": "a1926756-384e-4e0e-819a-b707de697f61",
        "colab": {
          "base_uri": "https://localhost:8080/",
          "height": 697
        }
      },
      "execution_count": null,
      "outputs": [
        {
          "output_type": "execute_result",
          "data": {
            "text/plain": [
              "                   Name  Age Marital Status    Education Level  \\\n",
              "0      Christine Barker   31        Married  Bachelor's Degree   \n",
              "1      Jacqueline Lewis   55        Married        High School   \n",
              "2        Shannon Church   78        Widowed    Master's Degree   \n",
              "3        Charles Jordan   58       Divorced    Master's Degree   \n",
              "4          Michael Rich   18         Single        High School   \n",
              "5            Kathy Hill   20         Single        High School   \n",
              "6       Crystal Delgado   60        Widowed   Associate Degree   \n",
              "7        Charles Kaiser   31         Single        High School   \n",
              "8        Kathryn Taylor   50       Divorced  Bachelor's Degree   \n",
              "9   Alexander Hernandez   77        Married  Bachelor's Degree   \n",
              "10         Scott Butler   70        Married        High School   \n",
              "11         Anthony Rowe   59        Married  Bachelor's Degree   \n",
              "12          Megan Haley   33        Married  Bachelor's Degree   \n",
              "13        Anne Gonzalez   70        Widowed    Master's Degree   \n",
              "14           Linda Bush   66        Widowed  Bachelor's Degree   \n",
              "\n",
              "    Number of Children Smoking Status Physical Activity Level  \\\n",
              "0                    2     Non-smoker                  Active   \n",
              "1                    1     Non-smoker               Sedentary   \n",
              "2                    1     Non-smoker               Sedentary   \n",
              "3                    3     Non-smoker                Moderate   \n",
              "4                    0     Non-smoker               Sedentary   \n",
              "5                    0         Former                  Active   \n",
              "6                    1     Non-smoker               Sedentary   \n",
              "7                    0     Non-smoker                  Active   \n",
              "8                    0     Non-smoker                  Active   \n",
              "9                    2     Non-smoker               Sedentary   \n",
              "10                   1     Non-smoker                Moderate   \n",
              "11                   1     Non-smoker               Sedentary   \n",
              "12                   4     Non-smoker               Sedentary   \n",
              "13                   1     Non-smoker                Moderate   \n",
              "14                   1     Non-smoker               Sedentary   \n",
              "\n",
              "   Employment Status     Income Alcohol Consumption Dietary Habits  \\\n",
              "0         Unemployed   26265.67            Moderate       Moderate   \n",
              "1           Employed   42710.36                High      Unhealthy   \n",
              "2           Employed  125332.79                 Low      Unhealthy   \n",
              "3         Unemployed    9992.78            Moderate       Moderate   \n",
              "4         Unemployed    8595.08                 Low       Moderate   \n",
              "5           Employed   44448.91                 Low      Unhealthy   \n",
              "6         Unemployed   22565.47            Moderate       Moderate   \n",
              "7           Employed   39608.18            Moderate      Unhealthy   \n",
              "8           Employed   93360.07            Moderate        Healthy   \n",
              "9           Employed   77597.84                 Low      Unhealthy   \n",
              "10        Unemployed   28528.97            Moderate       Moderate   \n",
              "11          Employed   61225.16            Moderate      Unhealthy   \n",
              "12        Unemployed   10145.10            Moderate       Moderate   \n",
              "13        Unemployed   13428.05                High        Healthy   \n",
              "14        Unemployed   16853.76            Moderate       Moderate   \n",
              "\n",
              "   Sleep Patterns History of Mental Illness History of Substance Abuse  \\\n",
              "0            Fair                       Yes                         No   \n",
              "1            Fair                       Yes                         No   \n",
              "2            Good                        No                         No   \n",
              "3            Poor                        No                         No   \n",
              "4            Fair                       Yes                         No   \n",
              "5            Fair                        No                        Yes   \n",
              "6            Poor                        No                        Yes   \n",
              "7            Good                        No                         No   \n",
              "8            Good                        No                        Yes   \n",
              "9            Poor                       Yes                         No   \n",
              "10           Fair                       Yes                        Yes   \n",
              "11           Fair                        No                         No   \n",
              "12           Fair                       Yes                         No   \n",
              "13           Fair                        No                         No   \n",
              "14           Fair                        No                         No   \n",
              "\n",
              "   Family History of Depression Chronic Medical Conditions  \n",
              "0                           Yes                        Yes  \n",
              "1                            No                        Yes  \n",
              "2                           Yes                         No  \n",
              "3                            No                         No  \n",
              "4                           Yes                        Yes  \n",
              "5                            No                         No  \n",
              "6                            No                         No  \n",
              "7                            No                         No  \n",
              "8                            No                        Yes  \n",
              "9                            No                         No  \n",
              "10                           No                        Yes  \n",
              "11                           No                         No  \n",
              "12                           No                         No  \n",
              "13                           No                        Yes  \n",
              "14                          Yes                        Yes  "
            ],
            "text/html": [
              "\n",
              "  <div id=\"df-e73dae37-23f4-408e-ac04-c754c07d421c\" class=\"colab-df-container\">\n",
              "    <div>\n",
              "<style scoped>\n",
              "    .dataframe tbody tr th:only-of-type {\n",
              "        vertical-align: middle;\n",
              "    }\n",
              "\n",
              "    .dataframe tbody tr th {\n",
              "        vertical-align: top;\n",
              "    }\n",
              "\n",
              "    .dataframe thead th {\n",
              "        text-align: right;\n",
              "    }\n",
              "</style>\n",
              "<table border=\"1\" class=\"dataframe\">\n",
              "  <thead>\n",
              "    <tr style=\"text-align: right;\">\n",
              "      <th></th>\n",
              "      <th>Name</th>\n",
              "      <th>Age</th>\n",
              "      <th>Marital Status</th>\n",
              "      <th>Education Level</th>\n",
              "      <th>Number of Children</th>\n",
              "      <th>Smoking Status</th>\n",
              "      <th>Physical Activity Level</th>\n",
              "      <th>Employment Status</th>\n",
              "      <th>Income</th>\n",
              "      <th>Alcohol Consumption</th>\n",
              "      <th>Dietary Habits</th>\n",
              "      <th>Sleep Patterns</th>\n",
              "      <th>History of Mental Illness</th>\n",
              "      <th>History of Substance Abuse</th>\n",
              "      <th>Family History of Depression</th>\n",
              "      <th>Chronic Medical Conditions</th>\n",
              "    </tr>\n",
              "  </thead>\n",
              "  <tbody>\n",
              "    <tr>\n",
              "      <th>0</th>\n",
              "      <td>Christine Barker</td>\n",
              "      <td>31</td>\n",
              "      <td>Married</td>\n",
              "      <td>Bachelor's Degree</td>\n",
              "      <td>2</td>\n",
              "      <td>Non-smoker</td>\n",
              "      <td>Active</td>\n",
              "      <td>Unemployed</td>\n",
              "      <td>26265.67</td>\n",
              "      <td>Moderate</td>\n",
              "      <td>Moderate</td>\n",
              "      <td>Fair</td>\n",
              "      <td>Yes</td>\n",
              "      <td>No</td>\n",
              "      <td>Yes</td>\n",
              "      <td>Yes</td>\n",
              "    </tr>\n",
              "    <tr>\n",
              "      <th>1</th>\n",
              "      <td>Jacqueline Lewis</td>\n",
              "      <td>55</td>\n",
              "      <td>Married</td>\n",
              "      <td>High School</td>\n",
              "      <td>1</td>\n",
              "      <td>Non-smoker</td>\n",
              "      <td>Sedentary</td>\n",
              "      <td>Employed</td>\n",
              "      <td>42710.36</td>\n",
              "      <td>High</td>\n",
              "      <td>Unhealthy</td>\n",
              "      <td>Fair</td>\n",
              "      <td>Yes</td>\n",
              "      <td>No</td>\n",
              "      <td>No</td>\n",
              "      <td>Yes</td>\n",
              "    </tr>\n",
              "    <tr>\n",
              "      <th>2</th>\n",
              "      <td>Shannon Church</td>\n",
              "      <td>78</td>\n",
              "      <td>Widowed</td>\n",
              "      <td>Master's Degree</td>\n",
              "      <td>1</td>\n",
              "      <td>Non-smoker</td>\n",
              "      <td>Sedentary</td>\n",
              "      <td>Employed</td>\n",
              "      <td>125332.79</td>\n",
              "      <td>Low</td>\n",
              "      <td>Unhealthy</td>\n",
              "      <td>Good</td>\n",
              "      <td>No</td>\n",
              "      <td>No</td>\n",
              "      <td>Yes</td>\n",
              "      <td>No</td>\n",
              "    </tr>\n",
              "    <tr>\n",
              "      <th>3</th>\n",
              "      <td>Charles Jordan</td>\n",
              "      <td>58</td>\n",
              "      <td>Divorced</td>\n",
              "      <td>Master's Degree</td>\n",
              "      <td>3</td>\n",
              "      <td>Non-smoker</td>\n",
              "      <td>Moderate</td>\n",
              "      <td>Unemployed</td>\n",
              "      <td>9992.78</td>\n",
              "      <td>Moderate</td>\n",
              "      <td>Moderate</td>\n",
              "      <td>Poor</td>\n",
              "      <td>No</td>\n",
              "      <td>No</td>\n",
              "      <td>No</td>\n",
              "      <td>No</td>\n",
              "    </tr>\n",
              "    <tr>\n",
              "      <th>4</th>\n",
              "      <td>Michael Rich</td>\n",
              "      <td>18</td>\n",
              "      <td>Single</td>\n",
              "      <td>High School</td>\n",
              "      <td>0</td>\n",
              "      <td>Non-smoker</td>\n",
              "      <td>Sedentary</td>\n",
              "      <td>Unemployed</td>\n",
              "      <td>8595.08</td>\n",
              "      <td>Low</td>\n",
              "      <td>Moderate</td>\n",
              "      <td>Fair</td>\n",
              "      <td>Yes</td>\n",
              "      <td>No</td>\n",
              "      <td>Yes</td>\n",
              "      <td>Yes</td>\n",
              "    </tr>\n",
              "    <tr>\n",
              "      <th>5</th>\n",
              "      <td>Kathy Hill</td>\n",
              "      <td>20</td>\n",
              "      <td>Single</td>\n",
              "      <td>High School</td>\n",
              "      <td>0</td>\n",
              "      <td>Former</td>\n",
              "      <td>Active</td>\n",
              "      <td>Employed</td>\n",
              "      <td>44448.91</td>\n",
              "      <td>Low</td>\n",
              "      <td>Unhealthy</td>\n",
              "      <td>Fair</td>\n",
              "      <td>No</td>\n",
              "      <td>Yes</td>\n",
              "      <td>No</td>\n",
              "      <td>No</td>\n",
              "    </tr>\n",
              "    <tr>\n",
              "      <th>6</th>\n",
              "      <td>Crystal Delgado</td>\n",
              "      <td>60</td>\n",
              "      <td>Widowed</td>\n",
              "      <td>Associate Degree</td>\n",
              "      <td>1</td>\n",
              "      <td>Non-smoker</td>\n",
              "      <td>Sedentary</td>\n",
              "      <td>Unemployed</td>\n",
              "      <td>22565.47</td>\n",
              "      <td>Moderate</td>\n",
              "      <td>Moderate</td>\n",
              "      <td>Poor</td>\n",
              "      <td>No</td>\n",
              "      <td>Yes</td>\n",
              "      <td>No</td>\n",
              "      <td>No</td>\n",
              "    </tr>\n",
              "    <tr>\n",
              "      <th>7</th>\n",
              "      <td>Charles Kaiser</td>\n",
              "      <td>31</td>\n",
              "      <td>Single</td>\n",
              "      <td>High School</td>\n",
              "      <td>0</td>\n",
              "      <td>Non-smoker</td>\n",
              "      <td>Active</td>\n",
              "      <td>Employed</td>\n",
              "      <td>39608.18</td>\n",
              "      <td>Moderate</td>\n",
              "      <td>Unhealthy</td>\n",
              "      <td>Good</td>\n",
              "      <td>No</td>\n",
              "      <td>No</td>\n",
              "      <td>No</td>\n",
              "      <td>No</td>\n",
              "    </tr>\n",
              "    <tr>\n",
              "      <th>8</th>\n",
              "      <td>Kathryn Taylor</td>\n",
              "      <td>50</td>\n",
              "      <td>Divorced</td>\n",
              "      <td>Bachelor's Degree</td>\n",
              "      <td>0</td>\n",
              "      <td>Non-smoker</td>\n",
              "      <td>Active</td>\n",
              "      <td>Employed</td>\n",
              "      <td>93360.07</td>\n",
              "      <td>Moderate</td>\n",
              "      <td>Healthy</td>\n",
              "      <td>Good</td>\n",
              "      <td>No</td>\n",
              "      <td>Yes</td>\n",
              "      <td>No</td>\n",
              "      <td>Yes</td>\n",
              "    </tr>\n",
              "    <tr>\n",
              "      <th>9</th>\n",
              "      <td>Alexander Hernandez</td>\n",
              "      <td>77</td>\n",
              "      <td>Married</td>\n",
              "      <td>Bachelor's Degree</td>\n",
              "      <td>2</td>\n",
              "      <td>Non-smoker</td>\n",
              "      <td>Sedentary</td>\n",
              "      <td>Employed</td>\n",
              "      <td>77597.84</td>\n",
              "      <td>Low</td>\n",
              "      <td>Unhealthy</td>\n",
              "      <td>Poor</td>\n",
              "      <td>Yes</td>\n",
              "      <td>No</td>\n",
              "      <td>No</td>\n",
              "      <td>No</td>\n",
              "    </tr>\n",
              "    <tr>\n",
              "      <th>10</th>\n",
              "      <td>Scott Butler</td>\n",
              "      <td>70</td>\n",
              "      <td>Married</td>\n",
              "      <td>High School</td>\n",
              "      <td>1</td>\n",
              "      <td>Non-smoker</td>\n",
              "      <td>Moderate</td>\n",
              "      <td>Unemployed</td>\n",
              "      <td>28528.97</td>\n",
              "      <td>Moderate</td>\n",
              "      <td>Moderate</td>\n",
              "      <td>Fair</td>\n",
              "      <td>Yes</td>\n",
              "      <td>Yes</td>\n",
              "      <td>No</td>\n",
              "      <td>Yes</td>\n",
              "    </tr>\n",
              "    <tr>\n",
              "      <th>11</th>\n",
              "      <td>Anthony Rowe</td>\n",
              "      <td>59</td>\n",
              "      <td>Married</td>\n",
              "      <td>Bachelor's Degree</td>\n",
              "      <td>1</td>\n",
              "      <td>Non-smoker</td>\n",
              "      <td>Sedentary</td>\n",
              "      <td>Employed</td>\n",
              "      <td>61225.16</td>\n",
              "      <td>Moderate</td>\n",
              "      <td>Unhealthy</td>\n",
              "      <td>Fair</td>\n",
              "      <td>No</td>\n",
              "      <td>No</td>\n",
              "      <td>No</td>\n",
              "      <td>No</td>\n",
              "    </tr>\n",
              "    <tr>\n",
              "      <th>12</th>\n",
              "      <td>Megan Haley</td>\n",
              "      <td>33</td>\n",
              "      <td>Married</td>\n",
              "      <td>Bachelor's Degree</td>\n",
              "      <td>4</td>\n",
              "      <td>Non-smoker</td>\n",
              "      <td>Sedentary</td>\n",
              "      <td>Unemployed</td>\n",
              "      <td>10145.10</td>\n",
              "      <td>Moderate</td>\n",
              "      <td>Moderate</td>\n",
              "      <td>Fair</td>\n",
              "      <td>Yes</td>\n",
              "      <td>No</td>\n",
              "      <td>No</td>\n",
              "      <td>No</td>\n",
              "    </tr>\n",
              "    <tr>\n",
              "      <th>13</th>\n",
              "      <td>Anne Gonzalez</td>\n",
              "      <td>70</td>\n",
              "      <td>Widowed</td>\n",
              "      <td>Master's Degree</td>\n",
              "      <td>1</td>\n",
              "      <td>Non-smoker</td>\n",
              "      <td>Moderate</td>\n",
              "      <td>Unemployed</td>\n",
              "      <td>13428.05</td>\n",
              "      <td>High</td>\n",
              "      <td>Healthy</td>\n",
              "      <td>Fair</td>\n",
              "      <td>No</td>\n",
              "      <td>No</td>\n",
              "      <td>No</td>\n",
              "      <td>Yes</td>\n",
              "    </tr>\n",
              "    <tr>\n",
              "      <th>14</th>\n",
              "      <td>Linda Bush</td>\n",
              "      <td>66</td>\n",
              "      <td>Widowed</td>\n",
              "      <td>Bachelor's Degree</td>\n",
              "      <td>1</td>\n",
              "      <td>Non-smoker</td>\n",
              "      <td>Sedentary</td>\n",
              "      <td>Unemployed</td>\n",
              "      <td>16853.76</td>\n",
              "      <td>Moderate</td>\n",
              "      <td>Moderate</td>\n",
              "      <td>Fair</td>\n",
              "      <td>No</td>\n",
              "      <td>No</td>\n",
              "      <td>Yes</td>\n",
              "      <td>Yes</td>\n",
              "    </tr>\n",
              "  </tbody>\n",
              "</table>\n",
              "</div>\n",
              "    <div class=\"colab-df-buttons\">\n",
              "\n",
              "  <div class=\"colab-df-container\">\n",
              "    <button class=\"colab-df-convert\" onclick=\"convertToInteractive('df-e73dae37-23f4-408e-ac04-c754c07d421c')\"\n",
              "            title=\"Convert this dataframe to an interactive table.\"\n",
              "            style=\"display:none;\">\n",
              "\n",
              "  <svg xmlns=\"http://www.w3.org/2000/svg\" height=\"24px\" viewBox=\"0 -960 960 960\">\n",
              "    <path d=\"M120-120v-720h720v720H120Zm60-500h600v-160H180v160Zm220 220h160v-160H400v160Zm0 220h160v-160H400v160ZM180-400h160v-160H180v160Zm440 0h160v-160H620v160ZM180-180h160v-160H180v160Zm440 0h160v-160H620v160Z\"/>\n",
              "  </svg>\n",
              "    </button>\n",
              "\n",
              "  <style>\n",
              "    .colab-df-container {\n",
              "      display:flex;\n",
              "      gap: 12px;\n",
              "    }\n",
              "\n",
              "    .colab-df-convert {\n",
              "      background-color: #E8F0FE;\n",
              "      border: none;\n",
              "      border-radius: 50%;\n",
              "      cursor: pointer;\n",
              "      display: none;\n",
              "      fill: #1967D2;\n",
              "      height: 32px;\n",
              "      padding: 0 0 0 0;\n",
              "      width: 32px;\n",
              "    }\n",
              "\n",
              "    .colab-df-convert:hover {\n",
              "      background-color: #E2EBFA;\n",
              "      box-shadow: 0px 1px 2px rgba(60, 64, 67, 0.3), 0px 1px 3px 1px rgba(60, 64, 67, 0.15);\n",
              "      fill: #174EA6;\n",
              "    }\n",
              "\n",
              "    .colab-df-buttons div {\n",
              "      margin-bottom: 4px;\n",
              "    }\n",
              "\n",
              "    [theme=dark] .colab-df-convert {\n",
              "      background-color: #3B4455;\n",
              "      fill: #D2E3FC;\n",
              "    }\n",
              "\n",
              "    [theme=dark] .colab-df-convert:hover {\n",
              "      background-color: #434B5C;\n",
              "      box-shadow: 0px 1px 3px 1px rgba(0, 0, 0, 0.15);\n",
              "      filter: drop-shadow(0px 1px 2px rgba(0, 0, 0, 0.3));\n",
              "      fill: #FFFFFF;\n",
              "    }\n",
              "  </style>\n",
              "\n",
              "    <script>\n",
              "      const buttonEl =\n",
              "        document.querySelector('#df-e73dae37-23f4-408e-ac04-c754c07d421c button.colab-df-convert');\n",
              "      buttonEl.style.display =\n",
              "        google.colab.kernel.accessAllowed ? 'block' : 'none';\n",
              "\n",
              "      async function convertToInteractive(key) {\n",
              "        const element = document.querySelector('#df-e73dae37-23f4-408e-ac04-c754c07d421c');\n",
              "        const dataTable =\n",
              "          await google.colab.kernel.invokeFunction('convertToInteractive',\n",
              "                                                    [key], {});\n",
              "        if (!dataTable) return;\n",
              "\n",
              "        const docLinkHtml = 'Like what you see? Visit the ' +\n",
              "          '<a target=\"_blank\" href=https://colab.research.google.com/notebooks/data_table.ipynb>data table notebook</a>'\n",
              "          + ' to learn more about interactive tables.';\n",
              "        element.innerHTML = '';\n",
              "        dataTable['output_type'] = 'display_data';\n",
              "        await google.colab.output.renderOutput(dataTable, element);\n",
              "        const docLink = document.createElement('div');\n",
              "        docLink.innerHTML = docLinkHtml;\n",
              "        element.appendChild(docLink);\n",
              "      }\n",
              "    </script>\n",
              "  </div>\n",
              "\n",
              "\n",
              "<div id=\"df-895b46c6-6191-4c5a-85d9-52f970327eaf\">\n",
              "  <button class=\"colab-df-quickchart\" onclick=\"quickchart('df-895b46c6-6191-4c5a-85d9-52f970327eaf')\"\n",
              "            title=\"Suggest charts\"\n",
              "            style=\"display:none;\">\n",
              "\n",
              "<svg xmlns=\"http://www.w3.org/2000/svg\" height=\"24px\"viewBox=\"0 0 24 24\"\n",
              "     width=\"24px\">\n",
              "    <g>\n",
              "        <path d=\"M19 3H5c-1.1 0-2 .9-2 2v14c0 1.1.9 2 2 2h14c1.1 0 2-.9 2-2V5c0-1.1-.9-2-2-2zM9 17H7v-7h2v7zm4 0h-2V7h2v10zm4 0h-2v-4h2v4z\"/>\n",
              "    </g>\n",
              "</svg>\n",
              "  </button>\n",
              "\n",
              "<style>\n",
              "  .colab-df-quickchart {\n",
              "      --bg-color: #E8F0FE;\n",
              "      --fill-color: #1967D2;\n",
              "      --hover-bg-color: #E2EBFA;\n",
              "      --hover-fill-color: #174EA6;\n",
              "      --disabled-fill-color: #AAA;\n",
              "      --disabled-bg-color: #DDD;\n",
              "  }\n",
              "\n",
              "  [theme=dark] .colab-df-quickchart {\n",
              "      --bg-color: #3B4455;\n",
              "      --fill-color: #D2E3FC;\n",
              "      --hover-bg-color: #434B5C;\n",
              "      --hover-fill-color: #FFFFFF;\n",
              "      --disabled-bg-color: #3B4455;\n",
              "      --disabled-fill-color: #666;\n",
              "  }\n",
              "\n",
              "  .colab-df-quickchart {\n",
              "    background-color: var(--bg-color);\n",
              "    border: none;\n",
              "    border-radius: 50%;\n",
              "    cursor: pointer;\n",
              "    display: none;\n",
              "    fill: var(--fill-color);\n",
              "    height: 32px;\n",
              "    padding: 0;\n",
              "    width: 32px;\n",
              "  }\n",
              "\n",
              "  .colab-df-quickchart:hover {\n",
              "    background-color: var(--hover-bg-color);\n",
              "    box-shadow: 0 1px 2px rgba(60, 64, 67, 0.3), 0 1px 3px 1px rgba(60, 64, 67, 0.15);\n",
              "    fill: var(--button-hover-fill-color);\n",
              "  }\n",
              "\n",
              "  .colab-df-quickchart-complete:disabled,\n",
              "  .colab-df-quickchart-complete:disabled:hover {\n",
              "    background-color: var(--disabled-bg-color);\n",
              "    fill: var(--disabled-fill-color);\n",
              "    box-shadow: none;\n",
              "  }\n",
              "\n",
              "  .colab-df-spinner {\n",
              "    border: 2px solid var(--fill-color);\n",
              "    border-color: transparent;\n",
              "    border-bottom-color: var(--fill-color);\n",
              "    animation:\n",
              "      spin 1s steps(1) infinite;\n",
              "  }\n",
              "\n",
              "  @keyframes spin {\n",
              "    0% {\n",
              "      border-color: transparent;\n",
              "      border-bottom-color: var(--fill-color);\n",
              "      border-left-color: var(--fill-color);\n",
              "    }\n",
              "    20% {\n",
              "      border-color: transparent;\n",
              "      border-left-color: var(--fill-color);\n",
              "      border-top-color: var(--fill-color);\n",
              "    }\n",
              "    30% {\n",
              "      border-color: transparent;\n",
              "      border-left-color: var(--fill-color);\n",
              "      border-top-color: var(--fill-color);\n",
              "      border-right-color: var(--fill-color);\n",
              "    }\n",
              "    40% {\n",
              "      border-color: transparent;\n",
              "      border-right-color: var(--fill-color);\n",
              "      border-top-color: var(--fill-color);\n",
              "    }\n",
              "    60% {\n",
              "      border-color: transparent;\n",
              "      border-right-color: var(--fill-color);\n",
              "    }\n",
              "    80% {\n",
              "      border-color: transparent;\n",
              "      border-right-color: var(--fill-color);\n",
              "      border-bottom-color: var(--fill-color);\n",
              "    }\n",
              "    90% {\n",
              "      border-color: transparent;\n",
              "      border-bottom-color: var(--fill-color);\n",
              "    }\n",
              "  }\n",
              "</style>\n",
              "\n",
              "  <script>\n",
              "    async function quickchart(key) {\n",
              "      const quickchartButtonEl =\n",
              "        document.querySelector('#' + key + ' button');\n",
              "      quickchartButtonEl.disabled = true;  // To prevent multiple clicks.\n",
              "      quickchartButtonEl.classList.add('colab-df-spinner');\n",
              "      try {\n",
              "        const charts = await google.colab.kernel.invokeFunction(\n",
              "            'suggestCharts', [key], {});\n",
              "      } catch (error) {\n",
              "        console.error('Error during call to suggestCharts:', error);\n",
              "      }\n",
              "      quickchartButtonEl.classList.remove('colab-df-spinner');\n",
              "      quickchartButtonEl.classList.add('colab-df-quickchart-complete');\n",
              "    }\n",
              "    (() => {\n",
              "      let quickchartButtonEl =\n",
              "        document.querySelector('#df-895b46c6-6191-4c5a-85d9-52f970327eaf button');\n",
              "      quickchartButtonEl.style.display =\n",
              "        google.colab.kernel.accessAllowed ? 'block' : 'none';\n",
              "    })();\n",
              "  </script>\n",
              "</div>\n",
              "\n",
              "    </div>\n",
              "  </div>\n"
            ],
            "application/vnd.google.colaboratory.intrinsic+json": {
              "type": "dataframe",
              "variable_name": "depresion_df"
            },
            "application/vnd.google.colaboratory.module+javascript": "\n      import \"https://ssl.gstatic.com/colaboratory/data_table/f565ec32c7e6656f/data_table.js\";\n\n      const table = window.createDataTable({\n        data: [[{\n            'v': 0,\n            'f': \"0\",\n        },\n\"Christine Barker\",\n{\n            'v': 31,\n            'f': \"31\",\n        },\n\"Married\",\n\"Bachelor's Degree\",\n{\n            'v': 2,\n            'f': \"2\",\n        },\n\"Non-smoker\",\n\"Active\",\n\"Unemployed\",\n{\n            'v': 26265.67,\n            'f': \"26265.67\",\n        },\n\"Moderate\",\n\"Moderate\",\n\"Fair\",\n\"Yes\",\n\"No\",\n\"Yes\",\n\"Yes\"],\n [{\n            'v': 1,\n            'f': \"1\",\n        },\n\"Jacqueline Lewis\",\n{\n            'v': 55,\n            'f': \"55\",\n        },\n\"Married\",\n\"High School\",\n{\n            'v': 1,\n            'f': \"1\",\n        },\n\"Non-smoker\",\n\"Sedentary\",\n\"Employed\",\n{\n            'v': 42710.36,\n            'f': \"42710.36\",\n        },\n\"High\",\n\"Unhealthy\",\n\"Fair\",\n\"Yes\",\n\"No\",\n\"No\",\n\"Yes\"],\n [{\n            'v': 2,\n            'f': \"2\",\n        },\n\"Shannon Church\",\n{\n            'v': 78,\n            'f': \"78\",\n        },\n\"Widowed\",\n\"Master's Degree\",\n{\n            'v': 1,\n            'f': \"1\",\n        },\n\"Non-smoker\",\n\"Sedentary\",\n\"Employed\",\n{\n            'v': 125332.79,\n            'f': \"125332.79\",\n        },\n\"Low\",\n\"Unhealthy\",\n\"Good\",\n\"No\",\n\"No\",\n\"Yes\",\n\"No\"],\n [{\n            'v': 3,\n            'f': \"3\",\n        },\n\"Charles Jordan\",\n{\n            'v': 58,\n            'f': \"58\",\n        },\n\"Divorced\",\n\"Master's Degree\",\n{\n            'v': 3,\n            'f': \"3\",\n        },\n\"Non-smoker\",\n\"Moderate\",\n\"Unemployed\",\n{\n            'v': 9992.78,\n            'f': \"9992.78\",\n        },\n\"Moderate\",\n\"Moderate\",\n\"Poor\",\n\"No\",\n\"No\",\n\"No\",\n\"No\"],\n [{\n            'v': 4,\n            'f': \"4\",\n        },\n\"Michael Rich\",\n{\n            'v': 18,\n            'f': \"18\",\n        },\n\"Single\",\n\"High School\",\n{\n            'v': 0,\n            'f': \"0\",\n        },\n\"Non-smoker\",\n\"Sedentary\",\n\"Unemployed\",\n{\n            'v': 8595.08,\n            'f': \"8595.08\",\n        },\n\"Low\",\n\"Moderate\",\n\"Fair\",\n\"Yes\",\n\"No\",\n\"Yes\",\n\"Yes\"],\n [{\n            'v': 5,\n            'f': \"5\",\n        },\n\"Kathy Hill\",\n{\n            'v': 20,\n            'f': \"20\",\n        },\n\"Single\",\n\"High School\",\n{\n            'v': 0,\n            'f': \"0\",\n        },\n\"Former\",\n\"Active\",\n\"Employed\",\n{\n            'v': 44448.91,\n            'f': \"44448.91\",\n        },\n\"Low\",\n\"Unhealthy\",\n\"Fair\",\n\"No\",\n\"Yes\",\n\"No\",\n\"No\"],\n [{\n            'v': 6,\n            'f': \"6\",\n        },\n\"Crystal Delgado\",\n{\n            'v': 60,\n            'f': \"60\",\n        },\n\"Widowed\",\n\"Associate Degree\",\n{\n            'v': 1,\n            'f': \"1\",\n        },\n\"Non-smoker\",\n\"Sedentary\",\n\"Unemployed\",\n{\n            'v': 22565.47,\n            'f': \"22565.47\",\n        },\n\"Moderate\",\n\"Moderate\",\n\"Poor\",\n\"No\",\n\"Yes\",\n\"No\",\n\"No\"],\n [{\n            'v': 7,\n            'f': \"7\",\n        },\n\"Charles Kaiser\",\n{\n            'v': 31,\n            'f': \"31\",\n        },\n\"Single\",\n\"High School\",\n{\n            'v': 0,\n            'f': \"0\",\n        },\n\"Non-smoker\",\n\"Active\",\n\"Employed\",\n{\n            'v': 39608.18,\n            'f': \"39608.18\",\n        },\n\"Moderate\",\n\"Unhealthy\",\n\"Good\",\n\"No\",\n\"No\",\n\"No\",\n\"No\"],\n [{\n            'v': 8,\n            'f': \"8\",\n        },\n\"Kathryn Taylor\",\n{\n            'v': 50,\n            'f': \"50\",\n        },\n\"Divorced\",\n\"Bachelor's Degree\",\n{\n            'v': 0,\n            'f': \"0\",\n        },\n\"Non-smoker\",\n\"Active\",\n\"Employed\",\n{\n            'v': 93360.07,\n            'f': \"93360.07\",\n        },\n\"Moderate\",\n\"Healthy\",\n\"Good\",\n\"No\",\n\"Yes\",\n\"No\",\n\"Yes\"],\n [{\n            'v': 9,\n            'f': \"9\",\n        },\n\"Alexander Hernandez\",\n{\n            'v': 77,\n            'f': \"77\",\n        },\n\"Married\",\n\"Bachelor's Degree\",\n{\n            'v': 2,\n            'f': \"2\",\n        },\n\"Non-smoker\",\n\"Sedentary\",\n\"Employed\",\n{\n            'v': 77597.84,\n            'f': \"77597.84\",\n        },\n\"Low\",\n\"Unhealthy\",\n\"Poor\",\n\"Yes\",\n\"No\",\n\"No\",\n\"No\"],\n [{\n            'v': 10,\n            'f': \"10\",\n        },\n\"Scott Butler\",\n{\n            'v': 70,\n            'f': \"70\",\n        },\n\"Married\",\n\"High School\",\n{\n            'v': 1,\n            'f': \"1\",\n        },\n\"Non-smoker\",\n\"Moderate\",\n\"Unemployed\",\n{\n            'v': 28528.97,\n            'f': \"28528.97\",\n        },\n\"Moderate\",\n\"Moderate\",\n\"Fair\",\n\"Yes\",\n\"Yes\",\n\"No\",\n\"Yes\"],\n [{\n            'v': 11,\n            'f': \"11\",\n        },\n\"Anthony Rowe\",\n{\n            'v': 59,\n            'f': \"59\",\n        },\n\"Married\",\n\"Bachelor's Degree\",\n{\n            'v': 1,\n            'f': \"1\",\n        },\n\"Non-smoker\",\n\"Sedentary\",\n\"Employed\",\n{\n            'v': 61225.16,\n            'f': \"61225.16\",\n        },\n\"Moderate\",\n\"Unhealthy\",\n\"Fair\",\n\"No\",\n\"No\",\n\"No\",\n\"No\"],\n [{\n            'v': 12,\n            'f': \"12\",\n        },\n\"Megan Haley\",\n{\n            'v': 33,\n            'f': \"33\",\n        },\n\"Married\",\n\"Bachelor's Degree\",\n{\n            'v': 4,\n            'f': \"4\",\n        },\n\"Non-smoker\",\n\"Sedentary\",\n\"Unemployed\",\n{\n            'v': 10145.1,\n            'f': \"10145.1\",\n        },\n\"Moderate\",\n\"Moderate\",\n\"Fair\",\n\"Yes\",\n\"No\",\n\"No\",\n\"No\"],\n [{\n            'v': 13,\n            'f': \"13\",\n        },\n\"Anne Gonzalez\",\n{\n            'v': 70,\n            'f': \"70\",\n        },\n\"Widowed\",\n\"Master's Degree\",\n{\n            'v': 1,\n            'f': \"1\",\n        },\n\"Non-smoker\",\n\"Moderate\",\n\"Unemployed\",\n{\n            'v': 13428.05,\n            'f': \"13428.05\",\n        },\n\"High\",\n\"Healthy\",\n\"Fair\",\n\"No\",\n\"No\",\n\"No\",\n\"Yes\"],\n [{\n            'v': 14,\n            'f': \"14\",\n        },\n\"Linda Bush\",\n{\n            'v': 66,\n            'f': \"66\",\n        },\n\"Widowed\",\n\"Bachelor's Degree\",\n{\n            'v': 1,\n            'f': \"1\",\n        },\n\"Non-smoker\",\n\"Sedentary\",\n\"Unemployed\",\n{\n            'v': 16853.76,\n            'f': \"16853.76\",\n        },\n\"Moderate\",\n\"Moderate\",\n\"Fair\",\n\"No\",\n\"No\",\n\"Yes\",\n\"Yes\"]],\n        columns: [[\"number\", \"index\"], [\"string\", \"Name\"], [\"number\", \"Age\"], [\"string\", \"Marital Status\"], [\"string\", \"Education Level\"], [\"number\", \"Number of Children\"], [\"string\", \"Smoking Status\"], [\"string\", \"Physical Activity Level\"], [\"string\", \"Employment Status\"], [\"number\", \"Income\"], [\"string\", \"Alcohol Consumption\"], [\"string\", \"Dietary Habits\"], [\"string\", \"Sleep Patterns\"], [\"string\", \"History of Mental Illness\"], [\"string\", \"History of Substance Abuse\"], [\"string\", \"Family History of Depression\"], [\"string\", \"Chronic Medical Conditions\"]],\n        columnOptions: [{\"width\": \"1px\", \"className\": \"index_column\"}],\n        rowsPerPage: 25,\n        helpUrl: \"https://colab.research.google.com/notebooks/data_table.ipynb\",\n        suppressOutputScrolling: true,\n        minimumWidth: undefined,\n      });\n\n      function appendQuickchartButton(parentElement) {\n        let quickchartButtonContainerElement = document.createElement('div');\n        quickchartButtonContainerElement.innerHTML = `\n<div id=\"df-da56b26e-a4d5-4930-aedd-13e6c4f1d0a1\">\n  <button class=\"colab-df-quickchart\" onclick=\"quickchart('df-da56b26e-a4d5-4930-aedd-13e6c4f1d0a1')\"\n            title=\"Suggest charts\"\n            style=\"display:none;\">\n    \n<svg xmlns=\"http://www.w3.org/2000/svg\" height=\"24px\"viewBox=\"0 0 24 24\"\n     width=\"24px\">\n    <g>\n        <path d=\"M19 3H5c-1.1 0-2 .9-2 2v14c0 1.1.9 2 2 2h14c1.1 0 2-.9 2-2V5c0-1.1-.9-2-2-2zM9 17H7v-7h2v7zm4 0h-2V7h2v10zm4 0h-2v-4h2v4z\"/>\n    </g>\n</svg>\n  </button>\n  \n<style>\n  .colab-df-quickchart {\n      --bg-color: #E8F0FE;\n      --fill-color: #1967D2;\n      --hover-bg-color: #E2EBFA;\n      --hover-fill-color: #174EA6;\n      --disabled-fill-color: #AAA;\n      --disabled-bg-color: #DDD;\n  }\n\n  [theme=dark] .colab-df-quickchart {\n      --bg-color: #3B4455;\n      --fill-color: #D2E3FC;\n      --hover-bg-color: #434B5C;\n      --hover-fill-color: #FFFFFF;\n      --disabled-bg-color: #3B4455;\n      --disabled-fill-color: #666;\n  }\n\n  .colab-df-quickchart {\n    background-color: var(--bg-color);\n    border: none;\n    border-radius: 50%;\n    cursor: pointer;\n    display: none;\n    fill: var(--fill-color);\n    height: 32px;\n    padding: 0;\n    width: 32px;\n  }\n\n  .colab-df-quickchart:hover {\n    background-color: var(--hover-bg-color);\n    box-shadow: 0 1px 2px rgba(60, 64, 67, 0.3), 0 1px 3px 1px rgba(60, 64, 67, 0.15);\n    fill: var(--button-hover-fill-color);\n  }\n\n  .colab-df-quickchart-complete:disabled,\n  .colab-df-quickchart-complete:disabled:hover {\n    background-color: var(--disabled-bg-color);\n    fill: var(--disabled-fill-color);\n    box-shadow: none;\n  }\n\n  .colab-df-spinner {\n    border: 2px solid var(--fill-color);\n    border-color: transparent;\n    border-bottom-color: var(--fill-color);\n    animation:\n      spin 1s steps(1) infinite;\n  }\n\n  @keyframes spin {\n    0% {\n      border-color: transparent;\n      border-bottom-color: var(--fill-color);\n      border-left-color: var(--fill-color);\n    }\n    20% {\n      border-color: transparent;\n      border-left-color: var(--fill-color);\n      border-top-color: var(--fill-color);\n    }\n    30% {\n      border-color: transparent;\n      border-left-color: var(--fill-color);\n      border-top-color: var(--fill-color);\n      border-right-color: var(--fill-color);\n    }\n    40% {\n      border-color: transparent;\n      border-right-color: var(--fill-color);\n      border-top-color: var(--fill-color);\n    }\n    60% {\n      border-color: transparent;\n      border-right-color: var(--fill-color);\n    }\n    80% {\n      border-color: transparent;\n      border-right-color: var(--fill-color);\n      border-bottom-color: var(--fill-color);\n    }\n    90% {\n      border-color: transparent;\n      border-bottom-color: var(--fill-color);\n    }\n  }\n</style>\n\n  <script>\n    async function quickchart(key) {\n      const quickchartButtonEl =\n        document.querySelector('#' + key + ' button');\n      quickchartButtonEl.disabled = true;  // To prevent multiple clicks.\n      quickchartButtonEl.classList.add('colab-df-spinner');\n      try {\n        const charts = await google.colab.kernel.invokeFunction(\n            'suggestCharts', [key], {});\n      } catch (error) {\n        console.error('Error during call to suggestCharts:', error);\n      }\n      quickchartButtonEl.classList.remove('colab-df-spinner');\n      quickchartButtonEl.classList.add('colab-df-quickchart-complete');\n    }\n    (() => {\n      let quickchartButtonEl =\n        document.querySelector('#df-da56b26e-a4d5-4930-aedd-13e6c4f1d0a1 button');\n      quickchartButtonEl.style.display =\n        google.colab.kernel.accessAllowed ? 'block' : 'none';\n    })();\n  </script>\n</div>`;\n        parentElement.appendChild(quickchartButtonContainerElement);\n      }\n\n      appendQuickchartButton(table);\n    "
          },
          "metadata": {},
          "execution_count": 92
        }
      ]
    },
    {
      "cell_type": "code",
      "source": [
        "# Solicito información para corroborar los cuartiles\n",
        "depresion_df.describe()"
      ],
      "metadata": {
        "colab": {
          "base_uri": "https://localhost:8080/",
          "height": 294
        },
        "id": "v3Bzk8TAQtAt",
        "outputId": "4c36d41e-2d8a-4697-dd88-f918aeceaf57"
      },
      "execution_count": null,
      "outputs": [
        {
          "output_type": "execute_result",
          "data": {
            "text/plain": [
              "                 Age  Number of Children         Income\n",
              "count  413768.000000       413768.000000  413768.000000\n",
              "mean       49.000713            1.298972   50661.707971\n",
              "std        18.158759            1.237054   40624.100565\n",
              "min        18.000000            0.000000       0.410000\n",
              "25%        33.000000            0.000000   21001.030000\n",
              "50%        49.000000            1.000000   37520.135000\n",
              "75%        65.000000            2.000000   76616.300000\n",
              "max        80.000000            4.000000  209995.220000"
            ],
            "text/html": [
              "\n",
              "  <div id=\"df-a6c38d30-d996-4797-9aae-c0d4f1c8251d\" class=\"colab-df-container\">\n",
              "    <div>\n",
              "<style scoped>\n",
              "    .dataframe tbody tr th:only-of-type {\n",
              "        vertical-align: middle;\n",
              "    }\n",
              "\n",
              "    .dataframe tbody tr th {\n",
              "        vertical-align: top;\n",
              "    }\n",
              "\n",
              "    .dataframe thead th {\n",
              "        text-align: right;\n",
              "    }\n",
              "</style>\n",
              "<table border=\"1\" class=\"dataframe\">\n",
              "  <thead>\n",
              "    <tr style=\"text-align: right;\">\n",
              "      <th></th>\n",
              "      <th>Age</th>\n",
              "      <th>Number of Children</th>\n",
              "      <th>Income</th>\n",
              "    </tr>\n",
              "  </thead>\n",
              "  <tbody>\n",
              "    <tr>\n",
              "      <th>count</th>\n",
              "      <td>413768.000000</td>\n",
              "      <td>413768.000000</td>\n",
              "      <td>413768.000000</td>\n",
              "    </tr>\n",
              "    <tr>\n",
              "      <th>mean</th>\n",
              "      <td>49.000713</td>\n",
              "      <td>1.298972</td>\n",
              "      <td>50661.707971</td>\n",
              "    </tr>\n",
              "    <tr>\n",
              "      <th>std</th>\n",
              "      <td>18.158759</td>\n",
              "      <td>1.237054</td>\n",
              "      <td>40624.100565</td>\n",
              "    </tr>\n",
              "    <tr>\n",
              "      <th>min</th>\n",
              "      <td>18.000000</td>\n",
              "      <td>0.000000</td>\n",
              "      <td>0.410000</td>\n",
              "    </tr>\n",
              "    <tr>\n",
              "      <th>25%</th>\n",
              "      <td>33.000000</td>\n",
              "      <td>0.000000</td>\n",
              "      <td>21001.030000</td>\n",
              "    </tr>\n",
              "    <tr>\n",
              "      <th>50%</th>\n",
              "      <td>49.000000</td>\n",
              "      <td>1.000000</td>\n",
              "      <td>37520.135000</td>\n",
              "    </tr>\n",
              "    <tr>\n",
              "      <th>75%</th>\n",
              "      <td>65.000000</td>\n",
              "      <td>2.000000</td>\n",
              "      <td>76616.300000</td>\n",
              "    </tr>\n",
              "    <tr>\n",
              "      <th>max</th>\n",
              "      <td>80.000000</td>\n",
              "      <td>4.000000</td>\n",
              "      <td>209995.220000</td>\n",
              "    </tr>\n",
              "  </tbody>\n",
              "</table>\n",
              "</div>\n",
              "    <div class=\"colab-df-buttons\">\n",
              "\n",
              "  <div class=\"colab-df-container\">\n",
              "    <button class=\"colab-df-convert\" onclick=\"convertToInteractive('df-a6c38d30-d996-4797-9aae-c0d4f1c8251d')\"\n",
              "            title=\"Convert this dataframe to an interactive table.\"\n",
              "            style=\"display:none;\">\n",
              "\n",
              "  <svg xmlns=\"http://www.w3.org/2000/svg\" height=\"24px\" viewBox=\"0 -960 960 960\">\n",
              "    <path d=\"M120-120v-720h720v720H120Zm60-500h600v-160H180v160Zm220 220h160v-160H400v160Zm0 220h160v-160H400v160ZM180-400h160v-160H180v160Zm440 0h160v-160H620v160ZM180-180h160v-160H180v160Zm440 0h160v-160H620v160Z\"/>\n",
              "  </svg>\n",
              "    </button>\n",
              "\n",
              "  <style>\n",
              "    .colab-df-container {\n",
              "      display:flex;\n",
              "      gap: 12px;\n",
              "    }\n",
              "\n",
              "    .colab-df-convert {\n",
              "      background-color: #E8F0FE;\n",
              "      border: none;\n",
              "      border-radius: 50%;\n",
              "      cursor: pointer;\n",
              "      display: none;\n",
              "      fill: #1967D2;\n",
              "      height: 32px;\n",
              "      padding: 0 0 0 0;\n",
              "      width: 32px;\n",
              "    }\n",
              "\n",
              "    .colab-df-convert:hover {\n",
              "      background-color: #E2EBFA;\n",
              "      box-shadow: 0px 1px 2px rgba(60, 64, 67, 0.3), 0px 1px 3px 1px rgba(60, 64, 67, 0.15);\n",
              "      fill: #174EA6;\n",
              "    }\n",
              "\n",
              "    .colab-df-buttons div {\n",
              "      margin-bottom: 4px;\n",
              "    }\n",
              "\n",
              "    [theme=dark] .colab-df-convert {\n",
              "      background-color: #3B4455;\n",
              "      fill: #D2E3FC;\n",
              "    }\n",
              "\n",
              "    [theme=dark] .colab-df-convert:hover {\n",
              "      background-color: #434B5C;\n",
              "      box-shadow: 0px 1px 3px 1px rgba(0, 0, 0, 0.15);\n",
              "      filter: drop-shadow(0px 1px 2px rgba(0, 0, 0, 0.3));\n",
              "      fill: #FFFFFF;\n",
              "    }\n",
              "  </style>\n",
              "\n",
              "    <script>\n",
              "      const buttonEl =\n",
              "        document.querySelector('#df-a6c38d30-d996-4797-9aae-c0d4f1c8251d button.colab-df-convert');\n",
              "      buttonEl.style.display =\n",
              "        google.colab.kernel.accessAllowed ? 'block' : 'none';\n",
              "\n",
              "      async function convertToInteractive(key) {\n",
              "        const element = document.querySelector('#df-a6c38d30-d996-4797-9aae-c0d4f1c8251d');\n",
              "        const dataTable =\n",
              "          await google.colab.kernel.invokeFunction('convertToInteractive',\n",
              "                                                    [key], {});\n",
              "        if (!dataTable) return;\n",
              "\n",
              "        const docLinkHtml = 'Like what you see? Visit the ' +\n",
              "          '<a target=\"_blank\" href=https://colab.research.google.com/notebooks/data_table.ipynb>data table notebook</a>'\n",
              "          + ' to learn more about interactive tables.';\n",
              "        element.innerHTML = '';\n",
              "        dataTable['output_type'] = 'display_data';\n",
              "        await google.colab.output.renderOutput(dataTable, element);\n",
              "        const docLink = document.createElement('div');\n",
              "        docLink.innerHTML = docLinkHtml;\n",
              "        element.appendChild(docLink);\n",
              "      }\n",
              "    </script>\n",
              "  </div>\n",
              "\n",
              "\n",
              "<div id=\"df-9fb322cf-fa50-424b-8c32-8bd069705990\">\n",
              "  <button class=\"colab-df-quickchart\" onclick=\"quickchart('df-9fb322cf-fa50-424b-8c32-8bd069705990')\"\n",
              "            title=\"Suggest charts\"\n",
              "            style=\"display:none;\">\n",
              "\n",
              "<svg xmlns=\"http://www.w3.org/2000/svg\" height=\"24px\"viewBox=\"0 0 24 24\"\n",
              "     width=\"24px\">\n",
              "    <g>\n",
              "        <path d=\"M19 3H5c-1.1 0-2 .9-2 2v14c0 1.1.9 2 2 2h14c1.1 0 2-.9 2-2V5c0-1.1-.9-2-2-2zM9 17H7v-7h2v7zm4 0h-2V7h2v10zm4 0h-2v-4h2v4z\"/>\n",
              "    </g>\n",
              "</svg>\n",
              "  </button>\n",
              "\n",
              "<style>\n",
              "  .colab-df-quickchart {\n",
              "      --bg-color: #E8F0FE;\n",
              "      --fill-color: #1967D2;\n",
              "      --hover-bg-color: #E2EBFA;\n",
              "      --hover-fill-color: #174EA6;\n",
              "      --disabled-fill-color: #AAA;\n",
              "      --disabled-bg-color: #DDD;\n",
              "  }\n",
              "\n",
              "  [theme=dark] .colab-df-quickchart {\n",
              "      --bg-color: #3B4455;\n",
              "      --fill-color: #D2E3FC;\n",
              "      --hover-bg-color: #434B5C;\n",
              "      --hover-fill-color: #FFFFFF;\n",
              "      --disabled-bg-color: #3B4455;\n",
              "      --disabled-fill-color: #666;\n",
              "  }\n",
              "\n",
              "  .colab-df-quickchart {\n",
              "    background-color: var(--bg-color);\n",
              "    border: none;\n",
              "    border-radius: 50%;\n",
              "    cursor: pointer;\n",
              "    display: none;\n",
              "    fill: var(--fill-color);\n",
              "    height: 32px;\n",
              "    padding: 0;\n",
              "    width: 32px;\n",
              "  }\n",
              "\n",
              "  .colab-df-quickchart:hover {\n",
              "    background-color: var(--hover-bg-color);\n",
              "    box-shadow: 0 1px 2px rgba(60, 64, 67, 0.3), 0 1px 3px 1px rgba(60, 64, 67, 0.15);\n",
              "    fill: var(--button-hover-fill-color);\n",
              "  }\n",
              "\n",
              "  .colab-df-quickchart-complete:disabled,\n",
              "  .colab-df-quickchart-complete:disabled:hover {\n",
              "    background-color: var(--disabled-bg-color);\n",
              "    fill: var(--disabled-fill-color);\n",
              "    box-shadow: none;\n",
              "  }\n",
              "\n",
              "  .colab-df-spinner {\n",
              "    border: 2px solid var(--fill-color);\n",
              "    border-color: transparent;\n",
              "    border-bottom-color: var(--fill-color);\n",
              "    animation:\n",
              "      spin 1s steps(1) infinite;\n",
              "  }\n",
              "\n",
              "  @keyframes spin {\n",
              "    0% {\n",
              "      border-color: transparent;\n",
              "      border-bottom-color: var(--fill-color);\n",
              "      border-left-color: var(--fill-color);\n",
              "    }\n",
              "    20% {\n",
              "      border-color: transparent;\n",
              "      border-left-color: var(--fill-color);\n",
              "      border-top-color: var(--fill-color);\n",
              "    }\n",
              "    30% {\n",
              "      border-color: transparent;\n",
              "      border-left-color: var(--fill-color);\n",
              "      border-top-color: var(--fill-color);\n",
              "      border-right-color: var(--fill-color);\n",
              "    }\n",
              "    40% {\n",
              "      border-color: transparent;\n",
              "      border-right-color: var(--fill-color);\n",
              "      border-top-color: var(--fill-color);\n",
              "    }\n",
              "    60% {\n",
              "      border-color: transparent;\n",
              "      border-right-color: var(--fill-color);\n",
              "    }\n",
              "    80% {\n",
              "      border-color: transparent;\n",
              "      border-right-color: var(--fill-color);\n",
              "      border-bottom-color: var(--fill-color);\n",
              "    }\n",
              "    90% {\n",
              "      border-color: transparent;\n",
              "      border-bottom-color: var(--fill-color);\n",
              "    }\n",
              "  }\n",
              "</style>\n",
              "\n",
              "  <script>\n",
              "    async function quickchart(key) {\n",
              "      const quickchartButtonEl =\n",
              "        document.querySelector('#' + key + ' button');\n",
              "      quickchartButtonEl.disabled = true;  // To prevent multiple clicks.\n",
              "      quickchartButtonEl.classList.add('colab-df-spinner');\n",
              "      try {\n",
              "        const charts = await google.colab.kernel.invokeFunction(\n",
              "            'suggestCharts', [key], {});\n",
              "      } catch (error) {\n",
              "        console.error('Error during call to suggestCharts:', error);\n",
              "      }\n",
              "      quickchartButtonEl.classList.remove('colab-df-spinner');\n",
              "      quickchartButtonEl.classList.add('colab-df-quickchart-complete');\n",
              "    }\n",
              "    (() => {\n",
              "      let quickchartButtonEl =\n",
              "        document.querySelector('#df-9fb322cf-fa50-424b-8c32-8bd069705990 button');\n",
              "      quickchartButtonEl.style.display =\n",
              "        google.colab.kernel.accessAllowed ? 'block' : 'none';\n",
              "    })();\n",
              "  </script>\n",
              "</div>\n",
              "\n",
              "    </div>\n",
              "  </div>\n"
            ],
            "application/vnd.google.colaboratory.intrinsic+json": {
              "type": "dataframe",
              "summary": "{\n  \"name\": \"depresion_df\",\n  \"rows\": 8,\n  \"fields\": [\n    {\n      \"column\": \"Age\",\n      \"properties\": {\n        \"dtype\": \"number\",\n        \"std\": 146273.31447144298,\n        \"min\": 18.0,\n        \"max\": 413768.0,\n        \"num_unique_values\": 8,\n        \"samples\": [\n          49.00071295991957,\n          49.0,\n          413768.0\n        ],\n        \"semantic_type\": \"\",\n        \"description\": \"\"\n      }\n    },\n    {\n      \"column\": \"Number of Children\",\n      \"properties\": {\n        \"dtype\": \"number\",\n        \"std\": 146288.59768244028,\n        \"min\": 0.0,\n        \"max\": 413768.0,\n        \"num_unique_values\": 7,\n        \"samples\": [\n          413768.0,\n          1.2989718876278493,\n          2.0\n        ],\n        \"semantic_type\": \"\",\n        \"description\": \"\"\n      }\n    },\n    {\n      \"column\": \"Income\",\n      \"properties\": {\n        \"dtype\": \"number\",\n        \"std\": 139839.45708123568,\n        \"min\": 0.41,\n        \"max\": 413768.0,\n        \"num_unique_values\": 8,\n        \"samples\": [\n          50661.70797130275,\n          37520.134999999995,\n          413768.0\n        ],\n        \"semantic_type\": \"\",\n        \"description\": \"\"\n      }\n    }\n  ]\n}"
            },
            "application/vnd.google.colaboratory.module+javascript": "\n      import \"https://ssl.gstatic.com/colaboratory/data_table/f565ec32c7e6656f/data_table.js\";\n\n      const table = window.createDataTable({\n        data: [[\"count\",\n{\n            'v': 413768.0,\n            'f': \"413768.0\",\n        },\n{\n            'v': 413768.0,\n            'f': \"413768.0\",\n        },\n{\n            'v': 413768.0,\n            'f': \"413768.0\",\n        }],\n [\"mean\",\n{\n            'v': 49.00071295991957,\n            'f': \"49.00071295991957\",\n        },\n{\n            'v': 1.2989718876278493,\n            'f': \"1.2989718876278493\",\n        },\n{\n            'v': 50661.70797130275,\n            'f': \"50661.70797130275\",\n        }],\n [\"std\",\n{\n            'v': 18.158759370459084,\n            'f': \"18.158759370459084\",\n        },\n{\n            'v': 1.2370539679549246,\n            'f': \"1.2370539679549246\",\n        },\n{\n            'v': 40624.10056474354,\n            'f': \"40624.10056474354\",\n        }],\n [\"min\",\n{\n            'v': 18.0,\n            'f': \"18.0\",\n        },\n{\n            'v': 0.0,\n            'f': \"0.0\",\n        },\n{\n            'v': 0.41,\n            'f': \"0.41\",\n        }],\n [\"25%\",\n{\n            'v': 33.0,\n            'f': \"33.0\",\n        },\n{\n            'v': 0.0,\n            'f': \"0.0\",\n        },\n{\n            'v': 21001.03,\n            'f': \"21001.03\",\n        }],\n [\"50%\",\n{\n            'v': 49.0,\n            'f': \"49.0\",\n        },\n{\n            'v': 1.0,\n            'f': \"1.0\",\n        },\n{\n            'v': 37520.134999999995,\n            'f': \"37520.134999999995\",\n        }],\n [\"75%\",\n{\n            'v': 65.0,\n            'f': \"65.0\",\n        },\n{\n            'v': 2.0,\n            'f': \"2.0\",\n        },\n{\n            'v': 76616.3,\n            'f': \"76616.3\",\n        }],\n [\"max\",\n{\n            'v': 80.0,\n            'f': \"80.0\",\n        },\n{\n            'v': 4.0,\n            'f': \"4.0\",\n        },\n{\n            'v': 209995.22,\n            'f': \"209995.22\",\n        }]],\n        columns: [[\"string\", \"index\"], [\"number\", \"Age\"], [\"number\", \"Number of Children\"], [\"number\", \"Income\"]],\n        columnOptions: [{\"width\": \"1px\", \"className\": \"index_column\"}],\n        rowsPerPage: 25,\n        helpUrl: \"https://colab.research.google.com/notebooks/data_table.ipynb\",\n        suppressOutputScrolling: true,\n        minimumWidth: undefined,\n      });\n\n      function appendQuickchartButton(parentElement) {\n        let quickchartButtonContainerElement = document.createElement('div');\n        quickchartButtonContainerElement.innerHTML = `\n<div id=\"df-d75944ca-9343-4ee1-8924-0e78e573864a\">\n  <button class=\"colab-df-quickchart\" onclick=\"quickchart('df-d75944ca-9343-4ee1-8924-0e78e573864a')\"\n            title=\"Suggest charts\"\n            style=\"display:none;\">\n    \n<svg xmlns=\"http://www.w3.org/2000/svg\" height=\"24px\"viewBox=\"0 0 24 24\"\n     width=\"24px\">\n    <g>\n        <path d=\"M19 3H5c-1.1 0-2 .9-2 2v14c0 1.1.9 2 2 2h14c1.1 0 2-.9 2-2V5c0-1.1-.9-2-2-2zM9 17H7v-7h2v7zm4 0h-2V7h2v10zm4 0h-2v-4h2v4z\"/>\n    </g>\n</svg>\n  </button>\n  \n<style>\n  .colab-df-quickchart {\n      --bg-color: #E8F0FE;\n      --fill-color: #1967D2;\n      --hover-bg-color: #E2EBFA;\n      --hover-fill-color: #174EA6;\n      --disabled-fill-color: #AAA;\n      --disabled-bg-color: #DDD;\n  }\n\n  [theme=dark] .colab-df-quickchart {\n      --bg-color: #3B4455;\n      --fill-color: #D2E3FC;\n      --hover-bg-color: #434B5C;\n      --hover-fill-color: #FFFFFF;\n      --disabled-bg-color: #3B4455;\n      --disabled-fill-color: #666;\n  }\n\n  .colab-df-quickchart {\n    background-color: var(--bg-color);\n    border: none;\n    border-radius: 50%;\n    cursor: pointer;\n    display: none;\n    fill: var(--fill-color);\n    height: 32px;\n    padding: 0;\n    width: 32px;\n  }\n\n  .colab-df-quickchart:hover {\n    background-color: var(--hover-bg-color);\n    box-shadow: 0 1px 2px rgba(60, 64, 67, 0.3), 0 1px 3px 1px rgba(60, 64, 67, 0.15);\n    fill: var(--button-hover-fill-color);\n  }\n\n  .colab-df-quickchart-complete:disabled,\n  .colab-df-quickchart-complete:disabled:hover {\n    background-color: var(--disabled-bg-color);\n    fill: var(--disabled-fill-color);\n    box-shadow: none;\n  }\n\n  .colab-df-spinner {\n    border: 2px solid var(--fill-color);\n    border-color: transparent;\n    border-bottom-color: var(--fill-color);\n    animation:\n      spin 1s steps(1) infinite;\n  }\n\n  @keyframes spin {\n    0% {\n      border-color: transparent;\n      border-bottom-color: var(--fill-color);\n      border-left-color: var(--fill-color);\n    }\n    20% {\n      border-color: transparent;\n      border-left-color: var(--fill-color);\n      border-top-color: var(--fill-color);\n    }\n    30% {\n      border-color: transparent;\n      border-left-color: var(--fill-color);\n      border-top-color: var(--fill-color);\n      border-right-color: var(--fill-color);\n    }\n    40% {\n      border-color: transparent;\n      border-right-color: var(--fill-color);\n      border-top-color: var(--fill-color);\n    }\n    60% {\n      border-color: transparent;\n      border-right-color: var(--fill-color);\n    }\n    80% {\n      border-color: transparent;\n      border-right-color: var(--fill-color);\n      border-bottom-color: var(--fill-color);\n    }\n    90% {\n      border-color: transparent;\n      border-bottom-color: var(--fill-color);\n    }\n  }\n</style>\n\n  <script>\n    async function quickchart(key) {\n      const quickchartButtonEl =\n        document.querySelector('#' + key + ' button');\n      quickchartButtonEl.disabled = true;  // To prevent multiple clicks.\n      quickchartButtonEl.classList.add('colab-df-spinner');\n      try {\n        const charts = await google.colab.kernel.invokeFunction(\n            'suggestCharts', [key], {});\n      } catch (error) {\n        console.error('Error during call to suggestCharts:', error);\n      }\n      quickchartButtonEl.classList.remove('colab-df-spinner');\n      quickchartButtonEl.classList.add('colab-df-quickchart-complete');\n    }\n    (() => {\n      let quickchartButtonEl =\n        document.querySelector('#df-d75944ca-9343-4ee1-8924-0e78e573864a button');\n      quickchartButtonEl.style.display =\n        google.colab.kernel.accessAllowed ? 'block' : 'none';\n    })();\n  </script>\n</div>`;\n        parentElement.appendChild(quickchartButtonContainerElement);\n      }\n\n      appendQuickchartButton(table);\n    "
          },
          "metadata": {},
          "execution_count": 93
        }
      ]
    },
    {
      "cell_type": "code",
      "source": [
        "depresion_df.columns"
      ],
      "metadata": {
        "colab": {
          "base_uri": "https://localhost:8080/"
        },
        "id": "2NulU0_4Nstu",
        "outputId": "54115051-4609-44bb-c6a4-1a2f6afe7d4f"
      },
      "execution_count": null,
      "outputs": [
        {
          "output_type": "execute_result",
          "data": {
            "text/plain": [
              "Index(['Name', 'Age', 'Marital Status', 'Education Level',\n",
              "       'Number of Children', 'Smoking Status', 'Physical Activity Level',\n",
              "       'Employment Status', 'Income', 'Alcohol Consumption', 'Dietary Habits',\n",
              "       'Sleep Patterns', 'History of Mental Illness',\n",
              "       'History of Substance Abuse', 'Family History of Depression',\n",
              "       'Chronic Medical Conditions'],\n",
              "      dtype='object')"
            ]
          },
          "metadata": {},
          "execution_count": 94
        }
      ]
    },
    {
      "cell_type": "markdown",
      "source": [
        "## **Diccionario de variables**\n",
        "\n",
        "\n",
        "*   **Nombre** = nombre del participante\n",
        "* **Age** = edad\n",
        "* **Marital Status** = estado civil\n",
        "* **Education Level** = nivel de educación\n",
        "* **Number of children** = cantidad de hijos\n",
        "* **Smoking Status** = Fumador: Si=1, No= 0\n",
        "* **Physical Activity Level** = nivel de actividad física\n",
        "* **Employment Status** = Empleado = 1, Desempleado = 0\n",
        "* **Income** = Ingresos\n",
        "* **Alcohol Consumption** = Consumo de alcohol\n",
        "* **Dietary Habits** = Hábitos alimenticios\n",
        "* **Sleep Patterns** = Hábitos de sueño\n",
        "* **History of Mental Illness** = Historia médica de enfermedades mentales\n",
        "* **History of Substance Abuse** = Historial médico sobre abuso de sustancias\n",
        "* **Family History of Depression** = Historial médico familiar sobre depresión\n",
        "* **Chronic Medical Conditions** = condiciones médicas crónicas\n",
        "\n"
      ],
      "metadata": {
        "id": "wewTIaSNN-kk"
      }
    },
    {
      "cell_type": "markdown",
      "source": [
        "# **Limpieza y transformación de datos**"
      ],
      "metadata": {
        "id": "4wXCdgCBc7Gg"
      }
    },
    {
      "cell_type": "markdown",
      "source": [
        "### **Valores outliers**"
      ],
      "metadata": {
        "id": "1a7h5lr2dCDH"
      }
    },
    {
      "cell_type": "markdown",
      "source": [
        "Dado que las categorías más preponderantes para el análisis son categóricas y fueron transformadas a variables numéricas, no se puede visualizar correctamente los outliers para el presente proyecto."
      ],
      "metadata": {
        "id": "p639wFn1eq5f"
      }
    },
    {
      "cell_type": "markdown",
      "source": [
        "### **Valores nulos**"
      ],
      "metadata": {
        "id": "rYqlKbmre6Pf"
      }
    },
    {
      "cell_type": "markdown",
      "source": [
        "Tal como se puede ver en la información del dataset, no hay valores nulos que haya que modificar o eliminar."
      ],
      "metadata": {
        "id": "HTQhg1ZZe9Mm"
      }
    },
    {
      "cell_type": "markdown",
      "source": [
        "# **EDA: Análisis Exploratorio de Datos**"
      ],
      "metadata": {
        "id": "uJDmUtl1Z5Kc"
      }
    },
    {
      "cell_type": "markdown",
      "source": [
        "## Análisis univariado"
      ],
      "metadata": {
        "id": "cGzNRXl6aATs"
      }
    },
    {
      "cell_type": "code",
      "source": [
        "#Analizo cómo está distribuido el porcentaje de fumadores dentro del dataset\n",
        "smoking_counts = depresion_df['Smoking Status'].value_counts()\n",
        "\n",
        "plt.figure(figsize=(6, 6))\n",
        "plt.pie(smoking_counts, labels=smoking_counts.index, autopct='%1.1f%%', startangle=140, colors=sns.color_palette(\"rainbow\", len(smoking_counts)))\n",
        "\n",
        "plt.title('Distribución de fumadores')\n",
        "\n",
        "plt.show()"
      ],
      "metadata": {
        "id": "dsG-zzCiaGak",
        "colab": {
          "base_uri": "https://localhost:8080/",
          "height": 521
        },
        "outputId": "83fd0724-1cd8-4e8b-8de6-9616bdb3df43"
      },
      "execution_count": null,
      "outputs": [
        {
          "output_type": "display_data",
          "data": {
            "text/plain": [
              "<Figure size 600x600 with 1 Axes>"
            ],
            "image/png": "[encoded data removed]"
          },
          "metadata": {}
        }
      ]
    },
    {
      "cell_type": "code",
      "source": [
        "#Analizo la actividad física realizada en función de la edad\n",
        "plt.figure(figsize=(10, 6))\n",
        "sns.boxplot(data=depresion_df, x='Physical Activity Level', y= 'Age',palette=\"rainbow\")\n",
        "plt.title('Nivel de Actividad Física')\n",
        "plt.show()"
      ],
      "metadata": {
        "colab": {
          "base_uri": "https://localhost:8080/",
          "height": 651
        },
        "id": "Rm93PHE_PbIj",
        "outputId": "41ed082b-b9de-46b3-9b5c-6a07974b530d"
      },
      "execution_count": null,
      "outputs": [
        {
          "output_type": "stream",
          "name": "stderr",
          "text": [
            "<ipython-input-96-938a454b3779>:3: FutureWarning: \n",
            "\n",
            "Passing `palette` without assigning `hue` is deprecated and will be removed in v0.14.0. Assign the `x` variable to `hue` and set `legend=False` for the same effect.\n",
            "\n",
            "  sns.boxplot(data=depresion_df, x='Physical Activity Level', y= 'Age',palette=\"rainbow\")\n"
          ]
        },
        {
          "output_type": "display_data",
          "data": {
            "text/plain": [
              "<Figure size 1000x600 with 1 Axes>"
            ],
            "image/png": "[encoded data removed]"
          },
          "metadata": {}
        }
      ]
    },
    {
      "cell_type": "code",
      "source": [
        "#Analizo cómo está distribuido el porcentaje de personas con enfermedades mentales dentro del dataset\n",
        "mental_illness = depresion_df['History of Mental Illness'].value_counts()\n",
        "\n",
        "plt.figure(figsize=(6, 6))\n",
        "plt.pie(mental_illness, labels=mental_illness.index, autopct='%1.1f%%', startangle=140, colors=sns.color_palette(\"rainbow\", len(mental_illness)))\n",
        "\n",
        "plt.title('Distribución de personas con enfermedades mentales')\n",
        "\n",
        "plt.show()"
      ],
      "metadata": {
        "colab": {
          "base_uri": "https://localhost:8080/",
          "height": 521
        },
        "id": "9Qa4qy8nVoeQ",
        "outputId": "d69673c4-70df-4570-c52e-f6091a0133d9"
      },
      "execution_count": null,
      "outputs": [
        {
          "output_type": "display_data",
          "data": {
            "text/plain": [
              "<Figure size 600x600 with 1 Axes>"
            ],
            "image/png": "[encoded data removed]"
          },
          "metadata": {}
        }
      ]
    },
    {
      "cell_type": "markdown",
      "source": [
        "## Análisis bivariado"
      ],
      "metadata": {
        "id": "JSibBtYvdT-0"
      }
    },
    {
      "cell_type": "code",
      "source": [
        "#Analizo la relación existente entre el nivel educativo y el ingreso obtenido (buscando outliers)\n",
        "plt.figure(figsize=(10, 5))\n",
        "sns.boxplot(data=depresion_df, x='Education Level', y='Income', palette=\"rainbow\")\n",
        "plt.title('Income vs Education Level')\n",
        "plt.xlabel('Education Level')\n",
        "plt.ylabel('Income')\n",
        "plt.show()"
      ],
      "metadata": {
        "colab": {
          "base_uri": "https://localhost:8080/",
          "height": 574
        },
        "id": "z22ajxhXdSjF",
        "outputId": "2b6a1d13-8a78-4c66-fc8f-4a8a1272f3c8"
      },
      "execution_count": null,
      "outputs": [
        {
          "output_type": "stream",
          "name": "stderr",
          "text": [
            "<ipython-input-98-614322fb6e8a>:3: FutureWarning: \n",
            "\n",
            "Passing `palette` without assigning `hue` is deprecated and will be removed in v0.14.0. Assign the `x` variable to `hue` and set `legend=False` for the same effect.\n",
            "\n",
            "  sns.boxplot(data=depresion_df, x='Education Level', y='Income', palette=\"rainbow\")\n"
          ]
        },
        {
          "output_type": "display_data",
          "data": {
            "text/plain": [
              "<Figure size 1000x500 with 1 Axes>"
            ],
            "image/png": "[encoded data removed]"
          },
          "metadata": {}
        }
      ]
    },
    {
      "cell_type": "code",
      "source": [
        "#Cantidad de empleados/desempleados en función del nivel de estudios\n",
        "plt.figure(figsize=(10, 8))\n",
        "sns.countplot(x='Education Level', hue='Employment Status', data=depresion_df, palette=\"rainbow\")\n",
        "plt.title('Proporción de Empleabilidad por Nivel Educativo')\n",
        "plt.xticks(rotation=45)\n",
        "plt.legend(title='Empleabilidad')\n",
        "plt.show()"
      ],
      "metadata": {
        "colab": {
          "base_uri": "https://localhost:8080/",
          "height": 804
        },
        "id": "j_Z3McxuSM1x",
        "outputId": "f960a7db-950f-492c-a12a-47e13ebfdd14"
      },
      "execution_count": null,
      "outputs": [
        {
          "output_type": "display_data",
          "data": {
            "text/plain": [
              "<Figure size 1000x800 with 1 Axes>"
            ],
            "image/png": "[encoded data removed]"
          },
          "metadata": {}
        }
      ]
    },
    {
      "cell_type": "markdown",
      "source": [
        "## **Análisis multivariado**"
      ],
      "metadata": {
        "id": "ZBkTvB0ag_qR"
      }
    },
    {
      "cell_type": "code",
      "source": [
        "plt.figure(figsize=(10, 8))\n",
        "correlation_matrix = depresion_df[['Smoking Status', 'Alcohol Consumption', 'Dietary Habits',\n",
        "       'Sleep Patterns', 'History of Mental Illness',\n",
        "       'History of Substance Abuse','Riesgo_Depresion']].corr()\n",
        "sns.heatmap(correlation_matrix, annot=True, cmap='rainbow', vmin=-1, vmax=1)\n",
        "plt.title('Matriz de Correlación')\n",
        "plt.show()"
      ],
      "metadata": {
        "colab": {
          "base_uri": "https://localhost:8080/",
          "height": 876
        },
        "id": "Kp9HevMYWIg9",
        "outputId": "49020d5a-930d-4e8f-e321-dc4ecbdf058f"
      },
      "execution_count": null,
      "outputs": [
        {
          "output_type": "display_data",
          "data": {
            "text/plain": [
              "<Figure size 1000x800 with 2 Axes>"
            ],
            "image/png": "[encoded data removed]"
          },
          "metadata": {}
        }
      ]
    },
    {
      "cell_type": "markdown",
      "source": [
        "# **Preprocesamiento de Datos**"
      ],
      "metadata": {
        "id": "x2F-KDPzS9c3"
      }
    },
    {
      "cell_type": "markdown",
      "source": [
        "Se procede al cambio de variables categóricas por numéricas en cada una de las columnas a ser utilizadas para el análisis. Para ello se utiliza la librería Pandas, importada al inicio del Notebook."
      ],
      "metadata": {
        "id": "mZzuJpV6TOVG"
      }
    },
    {
      "cell_type": "code",
      "source": [
        "depresion_df.loc[depresion_df['Smoking Status'] == 'Non-smoker', 'Smoking Status'] = 0\n",
        "depresion_df.loc[depresion_df['Smoking Status'] == 'Former', 'Smoking Status'] = 1\n",
        "depresion_df.loc[depresion_df['Smoking Status'] == 'Current', 'Smoking Status'] = 2"
      ],
      "metadata": {
        "id": "EoIq5x7WTIc8"
      },
      "execution_count": null,
      "outputs": []
    },
    {
      "cell_type": "code",
      "source": [
        "depresion_df.loc[depresion_df['Physical Activity Level'] == 'Sedentary', 'Physical Activity Level'] = 0\n",
        "depresion_df.loc[depresion_df['Physical Activity Level'] == 'Active', 'Physical Activity Level'] = 1\n",
        "depresion_df.loc[depresion_df['Physical Activity Level'] == 'Moderate', 'Physical Activity Level'] = 2\n"
      ],
      "metadata": {
        "id": "yaFzRFo1TZ9A"
      },
      "execution_count": null,
      "outputs": []
    },
    {
      "cell_type": "code",
      "source": [
        "depresion_df.loc[depresion_df['Employment Status'] == 'Employed', 'Employment Status'] = 1\n",
        "depresion_df.loc[depresion_df['Employment Status'] == 'Unemployed', 'Employment Status'] = 0"
      ],
      "metadata": {
        "id": "_dhFO4FbW-sG"
      },
      "execution_count": null,
      "outputs": []
    },
    {
      "cell_type": "code",
      "source": [
        "depresion_df.loc[depresion_df['Alcohol Consumption'] == 'Low', 'Alcohol Consumption'] = 0\n",
        "depresion_df.loc[depresion_df['Alcohol Consumption'] == 'Moderate', 'Alcohol Consumption'] = 1\n",
        "depresion_df.loc[depresion_df['Alcohol Consumption'] == 'High', 'Alcohol Consumption'] = 2"
      ],
      "metadata": {
        "id": "XXjXUdp1XABZ"
      },
      "execution_count": null,
      "outputs": []
    },
    {
      "cell_type": "code",
      "source": [
        "depresion_df.loc[depresion_df['Dietary Habits'] == 'Unhealthy', 'Dietary Habits'] = 0\n",
        "depresion_df.loc[depresion_df['Dietary Habits'] == 'Moderate', 'Dietary Habits'] = 1\n",
        "depresion_df.loc[depresion_df['Dietary Habits'] == 'Healthy', 'Dietary Habits'] = 2"
      ],
      "metadata": {
        "id": "qDaAiyx2XCF5"
      },
      "execution_count": null,
      "outputs": []
    },
    {
      "cell_type": "code",
      "source": [
        "depresion_df.loc[depresion_df['Sleep Patterns'] == 'Poor', 'Sleep Patterns'] = 0\n",
        "depresion_df.loc[depresion_df['Sleep Patterns'] == 'Fair', 'Sleep Patterns'] = 1\n",
        "depresion_df.loc[depresion_df['Sleep Patterns'] == 'Good', 'Sleep Patterns'] = 2"
      ],
      "metadata": {
        "id": "avkpjgywXD7M"
      },
      "execution_count": null,
      "outputs": []
    },
    {
      "cell_type": "code",
      "source": [
        "depresion_df.loc[depresion_df['History of Mental Illness'] == 'Yes', 'History of Mental Illness'] = 1\n",
        "depresion_df.loc[depresion_df['History of Mental Illness'] == 'No', 'History of Mental Illness'] = 0"
      ],
      "metadata": {
        "id": "KozApVm6XFi8"
      },
      "execution_count": null,
      "outputs": []
    },
    {
      "cell_type": "code",
      "source": [
        "depresion_df.loc[depresion_df['History of Substance Abuse'] == 'Yes', 'History of Substance Abuse'] = 1\n",
        "depresion_df.loc[depresion_df['History of Substance Abuse'] == 'No', 'History of Substance Abuse'] = 0"
      ],
      "metadata": {
        "id": "BIP-g-NOXSez"
      },
      "execution_count": null,
      "outputs": []
    },
    {
      "cell_type": "code",
      "source": [
        "depresion_df.loc[depresion_df['Family History of Depression'] == 'Yes', 'Family History of Depression'] = 1\n",
        "depresion_df.loc[depresion_df['Family History of Depression'] == 'No', 'Family History of Depression'] = 0"
      ],
      "metadata": {
        "id": "vBxcBVL5Xcey"
      },
      "execution_count": null,
      "outputs": []
    },
    {
      "cell_type": "code",
      "source": [
        "depresion_df.loc[depresion_df['Chronic Medical Conditions'] == 'Yes', 'Chronic Medical Conditions'] = 1\n",
        "depresion_df.loc[depresion_df['Chronic Medical Conditions'] == 'No', 'Chronic Medical Conditions'] = 0"
      ],
      "metadata": {
        "id": "SByqDQDcXmnh"
      },
      "execution_count": null,
      "outputs": []
    },
    {
      "cell_type": "code",
      "source": [
        "depresion_df.head(15)"
      ],
      "metadata": {
        "colab": {
          "base_uri": "https://localhost:8080/",
          "height": 697
        },
        "id": "iijAVV-7XzRv",
        "outputId": "6c77b39a-30e7-447f-ecde-c04ca8fb8da5"
      },
      "execution_count": null,
      "outputs": [
        {
          "output_type": "execute_result",
          "data": {
            "text/plain": [
              "                   Name  Age Marital Status    Education Level  \\\n",
              "0      Christine Barker   31        Married  Bachelor's Degree   \n",
              "1      Jacqueline Lewis   55        Married        High School   \n",
              "2        Shannon Church   78        Widowed    Master's Degree   \n",
              "3        Charles Jordan   58       Divorced    Master's Degree   \n",
              "4          Michael Rich   18         Single        High School   \n",
              "5            Kathy Hill   20         Single        High School   \n",
              "6       Crystal Delgado   60        Widowed   Associate Degree   \n",
              "7        Charles Kaiser   31         Single        High School   \n",
              "8        Kathryn Taylor   50       Divorced  Bachelor's Degree   \n",
              "9   Alexander Hernandez   77        Married  Bachelor's Degree   \n",
              "10         Scott Butler   70        Married        High School   \n",
              "11         Anthony Rowe   59        Married  Bachelor's Degree   \n",
              "12          Megan Haley   33        Married  Bachelor's Degree   \n",
              "13        Anne Gonzalez   70        Widowed    Master's Degree   \n",
              "14           Linda Bush   66        Widowed  Bachelor's Degree   \n",
              "\n",
              "    Number of Children Smoking Status Physical Activity Level  \\\n",
              "0                    2              0                       1   \n",
              "1                    1              0                       0   \n",
              "2                    1              0                       0   \n",
              "3                    3              0                       2   \n",
              "4                    0              0                       0   \n",
              "5                    0              1                       1   \n",
              "6                    1              0                       0   \n",
              "7                    0              0                       1   \n",
              "8                    0              0                       1   \n",
              "9                    2              0                       0   \n",
              "10                   1              0                       2   \n",
              "11                   1              0                       0   \n",
              "12                   4              0                       0   \n",
              "13                   1              0                       2   \n",
              "14                   1              0                       0   \n",
              "\n",
              "   Employment Status     Income Alcohol Consumption Dietary Habits  \\\n",
              "0                  0   26265.67                   1              1   \n",
              "1                  1   42710.36                   2              0   \n",
              "2                  1  125332.79                   0              0   \n",
              "3                  0    9992.78                   1              1   \n",
              "4                  0    8595.08                   0              1   \n",
              "5                  1   44448.91                   0              0   \n",
              "6                  0   22565.47                   1              1   \n",
              "7                  1   39608.18                   1              0   \n",
              "8                  1   93360.07                   1              2   \n",
              "9                  1   77597.84                   0              0   \n",
              "10                 0   28528.97                   1              1   \n",
              "11                 1   61225.16                   1              0   \n",
              "12                 0   10145.10                   1              1   \n",
              "13                 0   13428.05                   2              2   \n",
              "14                 0   16853.76                   1              1   \n",
              "\n",
              "   Sleep Patterns History of Mental Illness History of Substance Abuse  \\\n",
              "0               1                         1                          0   \n",
              "1               1                         1                          0   \n",
              "2               2                         0                          0   \n",
              "3               0                         0                          0   \n",
              "4               1                         1                          0   \n",
              "5               1                         0                          1   \n",
              "6               0                         0                          1   \n",
              "7               2                         0                          0   \n",
              "8               2                         0                          1   \n",
              "9               0                         1                          0   \n",
              "10              1                         1                          1   \n",
              "11              1                         0                          0   \n",
              "12              1                         1                          0   \n",
              "13              1                         0                          0   \n",
              "14              1                         0                          0   \n",
              "\n",
              "   Family History of Depression Chronic Medical Conditions  \n",
              "0                             1                          1  \n",
              "1                             0                          1  \n",
              "2                             1                          0  \n",
              "3                             0                          0  \n",
              "4                             1                          1  \n",
              "5                             0                          0  \n",
              "6                             0                          0  \n",
              "7                             0                          0  \n",
              "8                             0                          1  \n",
              "9                             0                          0  \n",
              "10                            0                          1  \n",
              "11                            0                          0  \n",
              "12                            0                          0  \n",
              "13                            0                          1  \n",
              "14                            1                          1  "
            ],
            "text/html": [
              "\n",
              "  <div id=\"df-2ed29d9d-130d-473d-8bea-cb38e4d7f4ce\" class=\"colab-df-container\">\n",
              "    <div>\n",
              "<style scoped>\n",
              "    .dataframe tbody tr th:only-of-type {\n",
              "        vertical-align: middle;\n",
              "    }\n",
              "\n",
              "    .dataframe tbody tr th {\n",
              "        vertical-align: top;\n",
              "    }\n",
              "\n",
              "    .dataframe thead th {\n",
              "        text-align: right;\n",
              "    }\n",
              "</style>\n",
              "<table border=\"1\" class=\"dataframe\">\n",
              "  <thead>\n",
              "    <tr style=\"text-align: right;\">\n",
              "      <th></th>\n",
              "      <th>Name</th>\n",
              "      <th>Age</th>\n",
              "      <th>Marital Status</th>\n",
              "      <th>Education Level</th>\n",
              "      <th>Number of Children</th>\n",
              "      <th>Smoking Status</th>\n",
              "      <th>Physical Activity Level</th>\n",
              "      <th>Employment Status</th>\n",
              "      <th>Income</th>\n",
              "      <th>Alcohol Consumption</th>\n",
              "      <th>Dietary Habits</th>\n",
              "      <th>Sleep Patterns</th>\n",
              "      <th>History of Mental Illness</th>\n",
              "      <th>History of Substance Abuse</th>\n",
              "      <th>Family History of Depression</th>\n",
              "      <th>Chronic Medical Conditions</th>\n",
              "    </tr>\n",
              "  </thead>\n",
              "  <tbody>\n",
              "    <tr>\n",
              "      <th>0</th>\n",
              "      <td>Christine Barker</td>\n",
              "      <td>31</td>\n",
              "      <td>Married</td>\n",
              "      <td>Bachelor's Degree</td>\n",
              "      <td>2</td>\n",
              "      <td>0</td>\n",
              "      <td>1</td>\n",
              "      <td>0</td>\n",
              "      <td>26265.67</td>\n",
              "      <td>1</td>\n",
              "      <td>1</td>\n",
              "      <td>1</td>\n",
              "      <td>1</td>\n",
              "      <td>0</td>\n",
              "      <td>1</td>\n",
              "      <td>1</td>\n",
              "    </tr>\n",
              "    <tr>\n",
              "      <th>1</th>\n",
              "      <td>Jacqueline Lewis</td>\n",
              "      <td>55</td>\n",
              "      <td>Married</td>\n",
              "      <td>High School</td>\n",
              "      <td>1</td>\n",
              "      <td>0</td>\n",
              "      <td>0</td>\n",
              "      <td>1</td>\n",
              "      <td>42710.36</td>\n",
              "      <td>2</td>\n",
              "      <td>0</td>\n",
              "      <td>1</td>\n",
              "      <td>1</td>\n",
              "      <td>0</td>\n",
              "      <td>0</td>\n",
              "      <td>1</td>\n",
              "    </tr>\n",
              "    <tr>\n",
              "      <th>2</th>\n",
              "      <td>Shannon Church</td>\n",
              "      <td>78</td>\n",
              "      <td>Widowed</td>\n",
              "      <td>Master's Degree</td>\n",
              "      <td>1</td>\n",
              "      <td>0</td>\n",
              "      <td>0</td>\n",
              "      <td>1</td>\n",
              "      <td>125332.79</td>\n",
              "      <td>0</td>\n",
              "      <td>0</td>\n",
              "      <td>2</td>\n",
              "      <td>0</td>\n",
              "      <td>0</td>\n",
              "      <td>1</td>\n",
              "      <td>0</td>\n",
              "    </tr>\n",
              "    <tr>\n",
              "      <th>3</th>\n",
              "      <td>Charles Jordan</td>\n",
              "      <td>58</td>\n",
              "      <td>Divorced</td>\n",
              "      <td>Master's Degree</td>\n",
              "      <td>3</td>\n",
              "      <td>0</td>\n",
              "      <td>2</td>\n",
              "      <td>0</td>\n",
              "      <td>9992.78</td>\n",
              "      <td>1</td>\n",
              "      <td>1</td>\n",
              "      <td>0</td>\n",
              "      <td>0</td>\n",
              "      <td>0</td>\n",
              "      <td>0</td>\n",
              "      <td>0</td>\n",
              "    </tr>\n",
              "    <tr>\n",
              "      <th>4</th>\n",
              "      <td>Michael Rich</td>\n",
              "      <td>18</td>\n",
              "      <td>Single</td>\n",
              "      <td>High School</td>\n",
              "      <td>0</td>\n",
              "      <td>0</td>\n",
              "      <td>0</td>\n",
              "      <td>0</td>\n",
              "      <td>8595.08</td>\n",
              "      <td>0</td>\n",
              "      <td>1</td>\n",
              "      <td>1</td>\n",
              "      <td>1</td>\n",
              "      <td>0</td>\n",
              "      <td>1</td>\n",
              "      <td>1</td>\n",
              "    </tr>\n",
              "    <tr>\n",
              "      <th>5</th>\n",
              "      <td>Kathy Hill</td>\n",
              "      <td>20</td>\n",
              "      <td>Single</td>\n",
              "      <td>High School</td>\n",
              "      <td>0</td>\n",
              "      <td>1</td>\n",
              "      <td>1</td>\n",
              "      <td>1</td>\n",
              "      <td>44448.91</td>\n",
              "      <td>0</td>\n",
              "      <td>0</td>\n",
              "      <td>1</td>\n",
              "      <td>0</td>\n",
              "      <td>1</td>\n",
              "      <td>0</td>\n",
              "      <td>0</td>\n",
              "    </tr>\n",
              "    <tr>\n",
              "      <th>6</th>\n",
              "      <td>Crystal Delgado</td>\n",
              "      <td>60</td>\n",
              "      <td>Widowed</td>\n",
              "      <td>Associate Degree</td>\n",
              "      <td>1</td>\n",
              "      <td>0</td>\n",
              "      <td>0</td>\n",
              "      <td>0</td>\n",
              "      <td>22565.47</td>\n",
              "      <td>1</td>\n",
              "      <td>1</td>\n",
              "      <td>0</td>\n",
              "      <td>0</td>\n",
              "      <td>1</td>\n",
              "      <td>0</td>\n",
              "      <td>0</td>\n",
              "    </tr>\n",
              "    <tr>\n",
              "      <th>7</th>\n",
              "      <td>Charles Kaiser</td>\n",
              "      <td>31</td>\n",
              "      <td>Single</td>\n",
              "      <td>High School</td>\n",
              "      <td>0</td>\n",
              "      <td>0</td>\n",
              "      <td>1</td>\n",
              "      <td>1</td>\n",
              "      <td>39608.18</td>\n",
              "      <td>1</td>\n",
              "      <td>0</td>\n",
              "      <td>2</td>\n",
              "      <td>0</td>\n",
              "      <td>0</td>\n",
              "      <td>0</td>\n",
              "      <td>0</td>\n",
              "    </tr>\n",
              "    <tr>\n",
              "      <th>8</th>\n",
              "      <td>Kathryn Taylor</td>\n",
              "      <td>50</td>\n",
              "      <td>Divorced</td>\n",
              "      <td>Bachelor's Degree</td>\n",
              "      <td>0</td>\n",
              "      <td>0</td>\n",
              "      <td>1</td>\n",
              "      <td>1</td>\n",
              "      <td>93360.07</td>\n",
              "      <td>1</td>\n",
              "      <td>2</td>\n",
              "      <td>2</td>\n",
              "      <td>0</td>\n",
              "      <td>1</td>\n",
              "      <td>0</td>\n",
              "      <td>1</td>\n",
              "    </tr>\n",
              "    <tr>\n",
              "      <th>9</th>\n",
              "      <td>Alexander Hernandez</td>\n",
              "      <td>77</td>\n",
              "      <td>Married</td>\n",
              "      <td>Bachelor's Degree</td>\n",
              "      <td>2</td>\n",
              "      <td>0</td>\n",
              "      <td>0</td>\n",
              "      <td>1</td>\n",
              "      <td>77597.84</td>\n",
              "      <td>0</td>\n",
              "      <td>0</td>\n",
              "      <td>0</td>\n",
              "      <td>1</td>\n",
              "      <td>0</td>\n",
              "      <td>0</td>\n",
              "      <td>0</td>\n",
              "    </tr>\n",
              "    <tr>\n",
              "      <th>10</th>\n",
              "      <td>Scott Butler</td>\n",
              "      <td>70</td>\n",
              "      <td>Married</td>\n",
              "      <td>High School</td>\n",
              "      <td>1</td>\n",
              "      <td>0</td>\n",
              "      <td>2</td>\n",
              "      <td>0</td>\n",
              "      <td>28528.97</td>\n",
              "      <td>1</td>\n",
              "      <td>1</td>\n",
              "      <td>1</td>\n",
              "      <td>1</td>\n",
              "      <td>1</td>\n",
              "      <td>0</td>\n",
              "      <td>1</td>\n",
              "    </tr>\n",
              "    <tr>\n",
              "      <th>11</th>\n",
              "      <td>Anthony Rowe</td>\n",
              "      <td>59</td>\n",
              "      <td>Married</td>\n",
              "      <td>Bachelor's Degree</td>\n",
              "      <td>1</td>\n",
              "      <td>0</td>\n",
              "      <td>0</td>\n",
              "      <td>1</td>\n",
              "      <td>61225.16</td>\n",
              "      <td>1</td>\n",
              "      <td>0</td>\n",
              "      <td>1</td>\n",
              "      <td>0</td>\n",
              "      <td>0</td>\n",
              "      <td>0</td>\n",
              "      <td>0</td>\n",
              "    </tr>\n",
              "    <tr>\n",
              "      <th>12</th>\n",
              "      <td>Megan Haley</td>\n",
              "      <td>33</td>\n",
              "      <td>Married</td>\n",
              "      <td>Bachelor's Degree</td>\n",
              "      <td>4</td>\n",
              "      <td>0</td>\n",
              "      <td>0</td>\n",
              "      <td>0</td>\n",
              "      <td>10145.10</td>\n",
              "      <td>1</td>\n",
              "      <td>1</td>\n",
              "      <td>1</td>\n",
              "      <td>1</td>\n",
              "      <td>0</td>\n",
              "      <td>0</td>\n",
              "      <td>0</td>\n",
              "    </tr>\n",
              "    <tr>\n",
              "      <th>13</th>\n",
              "      <td>Anne Gonzalez</td>\n",
              "      <td>70</td>\n",
              "      <td>Widowed</td>\n",
              "      <td>Master's Degree</td>\n",
              "      <td>1</td>\n",
              "      <td>0</td>\n",
              "      <td>2</td>\n",
              "      <td>0</td>\n",
              "      <td>13428.05</td>\n",
              "      <td>2</td>\n",
              "      <td>2</td>\n",
              "      <td>1</td>\n",
              "      <td>0</td>\n",
              "      <td>0</td>\n",
              "      <td>0</td>\n",
              "      <td>1</td>\n",
              "    </tr>\n",
              "    <tr>\n",
              "      <th>14</th>\n",
              "      <td>Linda Bush</td>\n",
              "      <td>66</td>\n",
              "      <td>Widowed</td>\n",
              "      <td>Bachelor's Degree</td>\n",
              "      <td>1</td>\n",
              "      <td>0</td>\n",
              "      <td>0</td>\n",
              "      <td>0</td>\n",
              "      <td>16853.76</td>\n",
              "      <td>1</td>\n",
              "      <td>1</td>\n",
              "      <td>1</td>\n",
              "      <td>0</td>\n",
              "      <td>0</td>\n",
              "      <td>1</td>\n",
              "      <td>1</td>\n",
              "    </tr>\n",
              "  </tbody>\n",
              "</table>\n",
              "</div>\n",
              "    <div class=\"colab-df-buttons\">\n",
              "\n",
              "  <div class=\"colab-df-container\">\n",
              "    <button class=\"colab-df-convert\" onclick=\"convertToInteractive('df-2ed29d9d-130d-473d-8bea-cb38e4d7f4ce')\"\n",
              "            title=\"Convert this dataframe to an interactive table.\"\n",
              "            style=\"display:none;\">\n",
              "\n",
              "  <svg xmlns=\"http://www.w3.org/2000/svg\" height=\"24px\" viewBox=\"0 -960 960 960\">\n",
              "    <path d=\"M120-120v-720h720v720H120Zm60-500h600v-160H180v160Zm220 220h160v-160H400v160Zm0 220h160v-160H400v160ZM180-400h160v-160H180v160Zm440 0h160v-160H620v160ZM180-180h160v-160H180v160Zm440 0h160v-160H620v160Z\"/>\n",
              "  </svg>\n",
              "    </button>\n",
              "\n",
              "  <style>\n",
              "    .colab-df-container {\n",
              "      display:flex;\n",
              "      gap: 12px;\n",
              "    }\n",
              "\n",
              "    .colab-df-convert {\n",
              "      background-color: #E8F0FE;\n",
              "      border: none;\n",
              "      border-radius: 50%;\n",
              "      cursor: pointer;\n",
              "      display: none;\n",
              "      fill: #1967D2;\n",
              "      height: 32px;\n",
              "      padding: 0 0 0 0;\n",
              "      width: 32px;\n",
              "    }\n",
              "\n",
              "    .colab-df-convert:hover {\n",
              "      background-color: #E2EBFA;\n",
              "      box-shadow: 0px 1px 2px rgba(60, 64, 67, 0.3), 0px 1px 3px 1px rgba(60, 64, 67, 0.15);\n",
              "      fill: #174EA6;\n",
              "    }\n",
              "\n",
              "    .colab-df-buttons div {\n",
              "      margin-bottom: 4px;\n",
              "    }\n",
              "\n",
              "    [theme=dark] .colab-df-convert {\n",
              "      background-color: #3B4455;\n",
              "      fill: #D2E3FC;\n",
              "    }\n",
              "\n",
              "    [theme=dark] .colab-df-convert:hover {\n",
              "      background-color: #434B5C;\n",
              "      box-shadow: 0px 1px 3px 1px rgba(0, 0, 0, 0.15);\n",
              "      filter: drop-shadow(0px 1px 2px rgba(0, 0, 0, 0.3));\n",
              "      fill: #FFFFFF;\n",
              "    }\n",
              "  </style>\n",
              "\n",
              "    <script>\n",
              "      const buttonEl =\n",
              "        document.querySelector('#df-2ed29d9d-130d-473d-8bea-cb38e4d7f4ce button.colab-df-convert');\n",
              "      buttonEl.style.display =\n",
              "        google.colab.kernel.accessAllowed ? 'block' : 'none';\n",
              "\n",
              "      async function convertToInteractive(key) {\n",
              "        const element = document.querySelector('#df-2ed29d9d-130d-473d-8bea-cb38e4d7f4ce');\n",
              "        const dataTable =\n",
              "          await google.colab.kernel.invokeFunction('convertToInteractive',\n",
              "                                                    [key], {});\n",
              "        if (!dataTable) return;\n",
              "\n",
              "        const docLinkHtml = 'Like what you see? Visit the ' +\n",
              "          '<a target=\"_blank\" href=https://colab.research.google.com/notebooks/data_table.ipynb>data table notebook</a>'\n",
              "          + ' to learn more about interactive tables.';\n",
              "        element.innerHTML = '';\n",
              "        dataTable['output_type'] = 'display_data';\n",
              "        await google.colab.output.renderOutput(dataTable, element);\n",
              "        const docLink = document.createElement('div');\n",
              "        docLink.innerHTML = docLinkHtml;\n",
              "        element.appendChild(docLink);\n",
              "      }\n",
              "    </script>\n",
              "  </div>\n",
              "\n",
              "\n",
              "<div id=\"df-95bc1bc9-4978-432f-bdaa-cae065a69370\">\n",
              "  <button class=\"colab-df-quickchart\" onclick=\"quickchart('df-95bc1bc9-4978-432f-bdaa-cae065a69370')\"\n",
              "            title=\"Suggest charts\"\n",
              "            style=\"display:none;\">\n",
              "\n",
              "<svg xmlns=\"http://www.w3.org/2000/svg\" height=\"24px\"viewBox=\"0 0 24 24\"\n",
              "     width=\"24px\">\n",
              "    <g>\n",
              "        <path d=\"M19 3H5c-1.1 0-2 .9-2 2v14c0 1.1.9 2 2 2h14c1.1 0 2-.9 2-2V5c0-1.1-.9-2-2-2zM9 17H7v-7h2v7zm4 0h-2V7h2v10zm4 0h-2v-4h2v4z\"/>\n",
              "    </g>\n",
              "</svg>\n",
              "  </button>\n",
              "\n",
              "<style>\n",
              "  .colab-df-quickchart {\n",
              "      --bg-color: #E8F0FE;\n",
              "      --fill-color: #1967D2;\n",
              "      --hover-bg-color: #E2EBFA;\n",
              "      --hover-fill-color: #174EA6;\n",
              "      --disabled-fill-color: #AAA;\n",
              "      --disabled-bg-color: #DDD;\n",
              "  }\n",
              "\n",
              "  [theme=dark] .colab-df-quickchart {\n",
              "      --bg-color: #3B4455;\n",
              "      --fill-color: #D2E3FC;\n",
              "      --hover-bg-color: #434B5C;\n",
              "      --hover-fill-color: #FFFFFF;\n",
              "      --disabled-bg-color: #3B4455;\n",
              "      --disabled-fill-color: #666;\n",
              "  }\n",
              "\n",
              "  .colab-df-quickchart {\n",
              "    background-color: var(--bg-color);\n",
              "    border: none;\n",
              "    border-radius: 50%;\n",
              "    cursor: pointer;\n",
              "    display: none;\n",
              "    fill: var(--fill-color);\n",
              "    height: 32px;\n",
              "    padding: 0;\n",
              "    width: 32px;\n",
              "  }\n",
              "\n",
              "  .colab-df-quickchart:hover {\n",
              "    background-color: var(--hover-bg-color);\n",
              "    box-shadow: 0 1px 2px rgba(60, 64, 67, 0.3), 0 1px 3px 1px rgba(60, 64, 67, 0.15);\n",
              "    fill: var(--button-hover-fill-color);\n",
              "  }\n",
              "\n",
              "  .colab-df-quickchart-complete:disabled,\n",
              "  .colab-df-quickchart-complete:disabled:hover {\n",
              "    background-color: var(--disabled-bg-color);\n",
              "    fill: var(--disabled-fill-color);\n",
              "    box-shadow: none;\n",
              "  }\n",
              "\n",
              "  .colab-df-spinner {\n",
              "    border: 2px solid var(--fill-color);\n",
              "    border-color: transparent;\n",
              "    border-bottom-color: var(--fill-color);\n",
              "    animation:\n",
              "      spin 1s steps(1) infinite;\n",
              "  }\n",
              "\n",
              "  @keyframes spin {\n",
              "    0% {\n",
              "      border-color: transparent;\n",
              "      border-bottom-color: var(--fill-color);\n",
              "      border-left-color: var(--fill-color);\n",
              "    }\n",
              "    20% {\n",
              "      border-color: transparent;\n",
              "      border-left-color: var(--fill-color);\n",
              "      border-top-color: var(--fill-color);\n",
              "    }\n",
              "    30% {\n",
              "      border-color: transparent;\n",
              "      border-left-color: var(--fill-color);\n",
              "      border-top-color: var(--fill-color);\n",
              "      border-right-color: var(--fill-color);\n",
              "    }\n",
              "    40% {\n",
              "      border-color: transparent;\n",
              "      border-right-color: var(--fill-color);\n",
              "      border-top-color: var(--fill-color);\n",
              "    }\n",
              "    60% {\n",
              "      border-color: transparent;\n",
              "      border-right-color: var(--fill-color);\n",
              "    }\n",
              "    80% {\n",
              "      border-color: transparent;\n",
              "      border-right-color: var(--fill-color);\n",
              "      border-bottom-color: var(--fill-color);\n",
              "    }\n",
              "    90% {\n",
              "      border-color: transparent;\n",
              "      border-bottom-color: var(--fill-color);\n",
              "    }\n",
              "  }\n",
              "</style>\n",
              "\n",
              "  <script>\n",
              "    async function quickchart(key) {\n",
              "      const quickchartButtonEl =\n",
              "        document.querySelector('#' + key + ' button');\n",
              "      quickchartButtonEl.disabled = true;  // To prevent multiple clicks.\n",
              "      quickchartButtonEl.classList.add('colab-df-spinner');\n",
              "      try {\n",
              "        const charts = await google.colab.kernel.invokeFunction(\n",
              "            'suggestCharts', [key], {});\n",
              "      } catch (error) {\n",
              "        console.error('Error during call to suggestCharts:', error);\n",
              "      }\n",
              "      quickchartButtonEl.classList.remove('colab-df-spinner');\n",
              "      quickchartButtonEl.classList.add('colab-df-quickchart-complete');\n",
              "    }\n",
              "    (() => {\n",
              "      let quickchartButtonEl =\n",
              "        document.querySelector('#df-95bc1bc9-4978-432f-bdaa-cae065a69370 button');\n",
              "      quickchartButtonEl.style.display =\n",
              "        google.colab.kernel.accessAllowed ? 'block' : 'none';\n",
              "    })();\n",
              "  </script>\n",
              "</div>\n",
              "\n",
              "    </div>\n",
              "  </div>\n"
            ],
            "application/vnd.google.colaboratory.intrinsic+json": {
              "type": "dataframe",
              "variable_name": "depresion_df"
            },
            "application/vnd.google.colaboratory.module+javascript": "\n      import \"https://ssl.gstatic.com/colaboratory/data_table/f565ec32c7e6656f/data_table.js\";\n\n      const table = window.createDataTable({\n        data: [[{\n            'v': 0,\n            'f': \"0\",\n        },\n\"Christine Barker\",\n{\n            'v': 31,\n            'f': \"31\",\n        },\n\"Married\",\n\"Bachelor's Degree\",\n{\n            'v': 2,\n            'f': \"2\",\n        },\n{\n            'v': 0,\n            'f': \"0\",\n        },\n{\n            'v': 1,\n            'f': \"1\",\n        },\n{\n            'v': 0,\n            'f': \"0\",\n        },\n{\n            'v': 26265.67,\n            'f': \"26265.67\",\n        },\n{\n            'v': 1,\n            'f': \"1\",\n        },\n{\n            'v': 1,\n            'f': \"1\",\n        },\n{\n            'v': 1,\n            'f': \"1\",\n        },\n{\n            'v': 1,\n            'f': \"1\",\n        },\n{\n            'v': 0,\n            'f': \"0\",\n        },\n{\n            'v': 1,\n            'f': \"1\",\n        },\n{\n            'v': 1,\n            'f': \"1\",\n        }],\n [{\n            'v': 1,\n            'f': \"1\",\n        },\n\"Jacqueline Lewis\",\n{\n            'v': 55,\n            'f': \"55\",\n        },\n\"Married\",\n\"High School\",\n{\n            'v': 1,\n            'f': \"1\",\n        },\n{\n            'v': 0,\n            'f': \"0\",\n        },\n{\n            'v': 0,\n            'f': \"0\",\n        },\n{\n            'v': 1,\n            'f': \"1\",\n        },\n{\n            'v': 42710.36,\n            'f': \"42710.36\",\n        },\n{\n            'v': 2,\n            'f': \"2\",\n        },\n{\n            'v': 0,\n            'f': \"0\",\n        },\n{\n            'v': 1,\n            'f': \"1\",\n        },\n{\n            'v': 1,\n            'f': \"1\",\n        },\n{\n            'v': 0,\n            'f': \"0\",\n        },\n{\n            'v': 0,\n            'f': \"0\",\n        },\n{\n            'v': 1,\n            'f': \"1\",\n        }],\n [{\n            'v': 2,\n            'f': \"2\",\n        },\n\"Shannon Church\",\n{\n            'v': 78,\n            'f': \"78\",\n        },\n\"Widowed\",\n\"Master's Degree\",\n{\n            'v': 1,\n            'f': \"1\",\n        },\n{\n            'v': 0,\n            'f': \"0\",\n        },\n{\n            'v': 0,\n            'f': \"0\",\n        },\n{\n            'v': 1,\n            'f': \"1\",\n        },\n{\n            'v': 125332.79,\n            'f': \"125332.79\",\n        },\n{\n            'v': 0,\n            'f': \"0\",\n        },\n{\n            'v': 0,\n            'f': \"0\",\n        },\n{\n            'v': 2,\n            'f': \"2\",\n        },\n{\n            'v': 0,\n            'f': \"0\",\n        },\n{\n            'v': 0,\n            'f': \"0\",\n        },\n{\n            'v': 1,\n            'f': \"1\",\n        },\n{\n            'v': 0,\n            'f': \"0\",\n        }],\n [{\n            'v': 3,\n            'f': \"3\",\n        },\n\"Charles Jordan\",\n{\n            'v': 58,\n            'f': \"58\",\n        },\n\"Divorced\",\n\"Master's Degree\",\n{\n            'v': 3,\n            'f': \"3\",\n        },\n{\n            'v': 0,\n            'f': \"0\",\n        },\n{\n            'v': 2,\n            'f': \"2\",\n        },\n{\n            'v': 0,\n            'f': \"0\",\n        },\n{\n            'v': 9992.78,\n            'f': \"9992.78\",\n        },\n{\n            'v': 1,\n            'f': \"1\",\n        },\n{\n            'v': 1,\n            'f': \"1\",\n        },\n{\n            'v': 0,\n            'f': \"0\",\n        },\n{\n            'v': 0,\n            'f': \"0\",\n        },\n{\n            'v': 0,\n            'f': \"0\",\n        },\n{\n            'v': 0,\n            'f': \"0\",\n        },\n{\n            'v': 0,\n            'f': \"0\",\n        }],\n [{\n            'v': 4,\n            'f': \"4\",\n        },\n\"Michael Rich\",\n{\n            'v': 18,\n            'f': \"18\",\n        },\n\"Single\",\n\"High School\",\n{\n            'v': 0,\n            'f': \"0\",\n        },\n{\n            'v': 0,\n            'f': \"0\",\n        },\n{\n            'v': 0,\n            'f': \"0\",\n        },\n{\n            'v': 0,\n            'f': \"0\",\n        },\n{\n            'v': 8595.08,\n            'f': \"8595.08\",\n        },\n{\n            'v': 0,\n            'f': \"0\",\n        },\n{\n            'v': 1,\n            'f': \"1\",\n        },\n{\n            'v': 1,\n            'f': \"1\",\n        },\n{\n            'v': 1,\n            'f': \"1\",\n        },\n{\n            'v': 0,\n            'f': \"0\",\n        },\n{\n            'v': 1,\n            'f': \"1\",\n        },\n{\n            'v': 1,\n            'f': \"1\",\n        }],\n [{\n            'v': 5,\n            'f': \"5\",\n        },\n\"Kathy Hill\",\n{\n            'v': 20,\n            'f': \"20\",\n        },\n\"Single\",\n\"High School\",\n{\n            'v': 0,\n            'f': \"0\",\n        },\n{\n            'v': 1,\n            'f': \"1\",\n        },\n{\n            'v': 1,\n            'f': \"1\",\n        },\n{\n            'v': 1,\n            'f': \"1\",\n        },\n{\n            'v': 44448.91,\n            'f': \"44448.91\",\n        },\n{\n            'v': 0,\n            'f': \"0\",\n        },\n{\n            'v': 0,\n            'f': \"0\",\n        },\n{\n            'v': 1,\n            'f': \"1\",\n        },\n{\n            'v': 0,\n            'f': \"0\",\n        },\n{\n            'v': 1,\n            'f': \"1\",\n        },\n{\n            'v': 0,\n            'f': \"0\",\n        },\n{\n            'v': 0,\n            'f': \"0\",\n        }],\n [{\n            'v': 6,\n            'f': \"6\",\n        },\n\"Crystal Delgado\",\n{\n            'v': 60,\n            'f': \"60\",\n        },\n\"Widowed\",\n\"Associate Degree\",\n{\n            'v': 1,\n            'f': \"1\",\n        },\n{\n            'v': 0,\n            'f': \"0\",\n        },\n{\n            'v': 0,\n            'f': \"0\",\n        },\n{\n            'v': 0,\n            'f': \"0\",\n        },\n{\n            'v': 22565.47,\n            'f': \"22565.47\",\n        },\n{\n            'v': 1,\n            'f': \"1\",\n        },\n{\n            'v': 1,\n            'f': \"1\",\n        },\n{\n            'v': 0,\n            'f': \"0\",\n        },\n{\n            'v': 0,\n            'f': \"0\",\n        },\n{\n            'v': 1,\n            'f': \"1\",\n        },\n{\n            'v': 0,\n            'f': \"0\",\n        },\n{\n            'v': 0,\n            'f': \"0\",\n        }],\n [{\n            'v': 7,\n            'f': \"7\",\n        },\n\"Charles Kaiser\",\n{\n            'v': 31,\n            'f': \"31\",\n        },\n\"Single\",\n\"High School\",\n{\n            'v': 0,\n            'f': \"0\",\n        },\n{\n            'v': 0,\n            'f': \"0\",\n        },\n{\n            'v': 1,\n            'f': \"1\",\n        },\n{\n            'v': 1,\n            'f': \"1\",\n        },\n{\n            'v': 39608.18,\n            'f': \"39608.18\",\n        },\n{\n            'v': 1,\n            'f': \"1\",\n        },\n{\n            'v': 0,\n            'f': \"0\",\n        },\n{\n            'v': 2,\n            'f': \"2\",\n        },\n{\n            'v': 0,\n            'f': \"0\",\n        },\n{\n            'v': 0,\n            'f': \"0\",\n        },\n{\n            'v': 0,\n            'f': \"0\",\n        },\n{\n            'v': 0,\n            'f': \"0\",\n        }],\n [{\n            'v': 8,\n            'f': \"8\",\n        },\n\"Kathryn Taylor\",\n{\n            'v': 50,\n            'f': \"50\",\n        },\n\"Divorced\",\n\"Bachelor's Degree\",\n{\n            'v': 0,\n            'f': \"0\",\n        },\n{\n            'v': 0,\n            'f': \"0\",\n        },\n{\n            'v': 1,\n            'f': \"1\",\n        },\n{\n            'v': 1,\n            'f': \"1\",\n        },\n{\n            'v': 93360.07,\n            'f': \"93360.07\",\n        },\n{\n            'v': 1,\n            'f': \"1\",\n        },\n{\n            'v': 2,\n            'f': \"2\",\n        },\n{\n            'v': 2,\n            'f': \"2\",\n        },\n{\n            'v': 0,\n            'f': \"0\",\n        },\n{\n            'v': 1,\n            'f': \"1\",\n        },\n{\n            'v': 0,\n            'f': \"0\",\n        },\n{\n            'v': 1,\n            'f': \"1\",\n        }],\n [{\n            'v': 9,\n            'f': \"9\",\n        },\n\"Alexander Hernandez\",\n{\n            'v': 77,\n            'f': \"77\",\n        },\n\"Married\",\n\"Bachelor's Degree\",\n{\n            'v': 2,\n            'f': \"2\",\n        },\n{\n            'v': 0,\n            'f': \"0\",\n        },\n{\n            'v': 0,\n            'f': \"0\",\n        },\n{\n            'v': 1,\n            'f': \"1\",\n        },\n{\n            'v': 77597.84,\n            'f': \"77597.84\",\n        },\n{\n            'v': 0,\n            'f': \"0\",\n        },\n{\n            'v': 0,\n            'f': \"0\",\n        },\n{\n            'v': 0,\n            'f': \"0\",\n        },\n{\n            'v': 1,\n            'f': \"1\",\n        },\n{\n            'v': 0,\n            'f': \"0\",\n        },\n{\n            'v': 0,\n            'f': \"0\",\n        },\n{\n            'v': 0,\n            'f': \"0\",\n        }],\n [{\n            'v': 10,\n            'f': \"10\",\n        },\n\"Scott Butler\",\n{\n            'v': 70,\n            'f': \"70\",\n        },\n\"Married\",\n\"High School\",\n{\n            'v': 1,\n            'f': \"1\",\n        },\n{\n            'v': 0,\n            'f': \"0\",\n        },\n{\n            'v': 2,\n            'f': \"2\",\n        },\n{\n            'v': 0,\n            'f': \"0\",\n        },\n{\n            'v': 28528.97,\n            'f': \"28528.97\",\n        },\n{\n            'v': 1,\n            'f': \"1\",\n        },\n{\n            'v': 1,\n            'f': \"1\",\n        },\n{\n            'v': 1,\n            'f': \"1\",\n        },\n{\n            'v': 1,\n            'f': \"1\",\n        },\n{\n            'v': 1,\n            'f': \"1\",\n        },\n{\n            'v': 0,\n            'f': \"0\",\n        },\n{\n            'v': 1,\n            'f': \"1\",\n        }],\n [{\n            'v': 11,\n            'f': \"11\",\n        },\n\"Anthony Rowe\",\n{\n            'v': 59,\n            'f': \"59\",\n        },\n\"Married\",\n\"Bachelor's Degree\",\n{\n            'v': 1,\n            'f': \"1\",\n        },\n{\n            'v': 0,\n            'f': \"0\",\n        },\n{\n            'v': 0,\n            'f': \"0\",\n        },\n{\n            'v': 1,\n            'f': \"1\",\n        },\n{\n            'v': 61225.16,\n            'f': \"61225.16\",\n        },\n{\n            'v': 1,\n            'f': \"1\",\n        },\n{\n            'v': 0,\n            'f': \"0\",\n        },\n{\n            'v': 1,\n            'f': \"1\",\n        },\n{\n            'v': 0,\n            'f': \"0\",\n        },\n{\n            'v': 0,\n            'f': \"0\",\n        },\n{\n            'v': 0,\n            'f': \"0\",\n        },\n{\n            'v': 0,\n            'f': \"0\",\n        }],\n [{\n            'v': 12,\n            'f': \"12\",\n        },\n\"Megan Haley\",\n{\n            'v': 33,\n            'f': \"33\",\n        },\n\"Married\",\n\"Bachelor's Degree\",\n{\n            'v': 4,\n            'f': \"4\",\n        },\n{\n            'v': 0,\n            'f': \"0\",\n        },\n{\n            'v': 0,\n            'f': \"0\",\n        },\n{\n            'v': 0,\n            'f': \"0\",\n        },\n{\n            'v': 10145.1,\n            'f': \"10145.1\",\n        },\n{\n            'v': 1,\n            'f': \"1\",\n        },\n{\n            'v': 1,\n            'f': \"1\",\n        },\n{\n            'v': 1,\n            'f': \"1\",\n        },\n{\n            'v': 1,\n            'f': \"1\",\n        },\n{\n            'v': 0,\n            'f': \"0\",\n        },\n{\n            'v': 0,\n            'f': \"0\",\n        },\n{\n            'v': 0,\n            'f': \"0\",\n        }],\n [{\n            'v': 13,\n            'f': \"13\",\n        },\n\"Anne Gonzalez\",\n{\n            'v': 70,\n            'f': \"70\",\n        },\n\"Widowed\",\n\"Master's Degree\",\n{\n            'v': 1,\n            'f': \"1\",\n        },\n{\n            'v': 0,\n            'f': \"0\",\n        },\n{\n            'v': 2,\n            'f': \"2\",\n        },\n{\n            'v': 0,\n            'f': \"0\",\n        },\n{\n            'v': 13428.05,\n            'f': \"13428.05\",\n        },\n{\n            'v': 2,\n            'f': \"2\",\n        },\n{\n            'v': 2,\n            'f': \"2\",\n        },\n{\n            'v': 1,\n            'f': \"1\",\n        },\n{\n            'v': 0,\n            'f': \"0\",\n        },\n{\n            'v': 0,\n            'f': \"0\",\n        },\n{\n            'v': 0,\n            'f': \"0\",\n        },\n{\n            'v': 1,\n            'f': \"1\",\n        }],\n [{\n            'v': 14,\n            'f': \"14\",\n        },\n\"Linda Bush\",\n{\n            'v': 66,\n            'f': \"66\",\n        },\n\"Widowed\",\n\"Bachelor's Degree\",\n{\n            'v': 1,\n            'f': \"1\",\n        },\n{\n            'v': 0,\n            'f': \"0\",\n        },\n{\n            'v': 0,\n            'f': \"0\",\n        },\n{\n            'v': 0,\n            'f': \"0\",\n        },\n{\n            'v': 16853.76,\n            'f': \"16853.76\",\n        },\n{\n            'v': 1,\n            'f': \"1\",\n        },\n{\n            'v': 1,\n            'f': \"1\",\n        },\n{\n            'v': 1,\n            'f': \"1\",\n        },\n{\n            'v': 0,\n            'f': \"0\",\n        },\n{\n            'v': 0,\n            'f': \"0\",\n        },\n{\n            'v': 1,\n            'f': \"1\",\n        },\n{\n            'v': 1,\n            'f': \"1\",\n        }]],\n        columns: [[\"number\", \"index\"], [\"string\", \"Name\"], [\"number\", \"Age\"], [\"string\", \"Marital Status\"], [\"string\", \"Education Level\"], [\"number\", \"Number of Children\"], [\"number\", \"Smoking Status\"], [\"number\", \"Physical Activity Level\"], [\"number\", \"Employment Status\"], [\"number\", \"Income\"], [\"number\", \"Alcohol Consumption\"], [\"number\", \"Dietary Habits\"], [\"number\", \"Sleep Patterns\"], [\"number\", \"History of Mental Illness\"], [\"number\", \"History of Substance Abuse\"], [\"number\", \"Family History of Depression\"], [\"number\", \"Chronic Medical Conditions\"]],\n        columnOptions: [{\"width\": \"1px\", \"className\": \"index_column\"}],\n        rowsPerPage: 25,\n        helpUrl: \"https://colab.research.google.com/notebooks/data_table.ipynb\",\n        suppressOutputScrolling: true,\n        minimumWidth: undefined,\n      });\n\n      function appendQuickchartButton(parentElement) {\n        let quickchartButtonContainerElement = document.createElement('div');\n        quickchartButtonContainerElement.innerHTML = `\n<div id=\"df-999b611e-623b-4561-a53a-4c0ad36e3799\">\n  <button class=\"colab-df-quickchart\" onclick=\"quickchart('df-999b611e-623b-4561-a53a-4c0ad36e3799')\"\n            title=\"Suggest charts\"\n            style=\"display:none;\">\n    \n<svg xmlns=\"http://www.w3.org/2000/svg\" height=\"24px\"viewBox=\"0 0 24 24\"\n     width=\"24px\">\n    <g>\n        <path d=\"M19 3H5c-1.1 0-2 .9-2 2v14c0 1.1.9 2 2 2h14c1.1 0 2-.9 2-2V5c0-1.1-.9-2-2-2zM9 17H7v-7h2v7zm4 0h-2V7h2v10zm4 0h-2v-4h2v4z\"/>\n    </g>\n</svg>\n  </button>\n  \n<style>\n  .colab-df-quickchart {\n      --bg-color: #E8F0FE;\n      --fill-color: #1967D2;\n      --hover-bg-color: #E2EBFA;\n      --hover-fill-color: #174EA6;\n      --disabled-fill-color: #AAA;\n      --disabled-bg-color: #DDD;\n  }\n\n  [theme=dark] .colab-df-quickchart {\n      --bg-color: #3B4455;\n      --fill-color: #D2E3FC;\n      --hover-bg-color: #434B5C;\n      --hover-fill-color: #FFFFFF;\n      --disabled-bg-color: #3B4455;\n      --disabled-fill-color: #666;\n  }\n\n  .colab-df-quickchart {\n    background-color: var(--bg-color);\n    border: none;\n    border-radius: 50%;\n    cursor: pointer;\n    display: none;\n    fill: var(--fill-color);\n    height: 32px;\n    padding: 0;\n    width: 32px;\n  }\n\n  .colab-df-quickchart:hover {\n    background-color: var(--hover-bg-color);\n    box-shadow: 0 1px 2px rgba(60, 64, 67, 0.3), 0 1px 3px 1px rgba(60, 64, 67, 0.15);\n    fill: var(--button-hover-fill-color);\n  }\n\n  .colab-df-quickchart-complete:disabled,\n  .colab-df-quickchart-complete:disabled:hover {\n    background-color: var(--disabled-bg-color);\n    fill: var(--disabled-fill-color);\n    box-shadow: none;\n  }\n\n  .colab-df-spinner {\n    border: 2px solid var(--fill-color);\n    border-color: transparent;\n    border-bottom-color: var(--fill-color);\n    animation:\n      spin 1s steps(1) infinite;\n  }\n\n  @keyframes spin {\n    0% {\n      border-color: transparent;\n      border-bottom-color: var(--fill-color);\n      border-left-color: var(--fill-color);\n    }\n    20% {\n      border-color: transparent;\n      border-left-color: var(--fill-color);\n      border-top-color: var(--fill-color);\n    }\n    30% {\n      border-color: transparent;\n      border-left-color: var(--fill-color);\n      border-top-color: var(--fill-color);\n      border-right-color: var(--fill-color);\n    }\n    40% {\n      border-color: transparent;\n      border-right-color: var(--fill-color);\n      border-top-color: var(--fill-color);\n    }\n    60% {\n      border-color: transparent;\n      border-right-color: var(--fill-color);\n    }\n    80% {\n      border-color: transparent;\n      border-right-color: var(--fill-color);\n      border-bottom-color: var(--fill-color);\n    }\n    90% {\n      border-color: transparent;\n      border-bottom-color: var(--fill-color);\n    }\n  }\n</style>\n\n  <script>\n    async function quickchart(key) {\n      const quickchartButtonEl =\n        document.querySelector('#' + key + ' button');\n      quickchartButtonEl.disabled = true;  // To prevent multiple clicks.\n      quickchartButtonEl.classList.add('colab-df-spinner');\n      try {\n        const charts = await google.colab.kernel.invokeFunction(\n            'suggestCharts', [key], {});\n      } catch (error) {\n        console.error('Error during call to suggestCharts:', error);\n      }\n      quickchartButtonEl.classList.remove('colab-df-spinner');\n      quickchartButtonEl.classList.add('colab-df-quickchart-complete');\n    }\n    (() => {\n      let quickchartButtonEl =\n        document.querySelector('#df-999b611e-623b-4561-a53a-4c0ad36e3799 button');\n      quickchartButtonEl.style.display =\n        google.colab.kernel.accessAllowed ? 'block' : 'none';\n    })();\n  </script>\n</div>`;\n        parentElement.appendChild(quickchartButtonContainerElement);\n      }\n\n      appendQuickchartButton(table);\n    "
          },
          "metadata": {},
          "execution_count": 112
        }
      ]
    },
    {
      "cell_type": "code",
      "source": [
        "depresion_df['Total_Riesgo'] = depresion_df[['History of Mental Illness', 'Family History of Depression', 'Chronic Medical Conditions']].sum(axis=1)\n",
        "depresion_df['Alto_Riesgo_Depresion'] = depresion_df['Total_Riesgo'].apply(lambda x: 1 if x >= 2 else 0)\n",
        "print(depresion_df['Alto_Riesgo_Depresion'].value_counts())"
      ],
      "metadata": {
        "colab": {
          "base_uri": "https://localhost:8080/"
        },
        "id": "y75ySae5pWS9",
        "outputId": "130ceb5c-e4a2-4c9a-d7e0-8a220d0be1e7"
      },
      "execution_count": null,
      "outputs": [
        {
          "output_type": "stream",
          "name": "stdout",
          "text": [
            "Alto_Riesgo_Depresion\n",
            "0    323817\n",
            "1     89951\n",
            "Name: count, dtype: int64\n"
          ]
        }
      ]
    },
    {
      "cell_type": "markdown",
      "source": [
        "# **Feature Selection**"
      ],
      "metadata": {
        "id": "I5nJ05E_hQvG"
      }
    },
    {
      "cell_type": "markdown",
      "source": [
        "Dado que no poseo una variable objetivo definida en función de los datos obtenidos del dataset, procedo a la creación de una llamada \"Riesgo_Depresión\" y luego procedo a establecer el riesgo de padecer dicha enfermedad; considerando las características de \"Historial de enfermedades mentales\", \"Historial Familiar de Depresión\" y \"Chronic Medical Conditions\" como las variables dependientes de mayor influencia."
      ],
      "metadata": {
        "id": "3g0ImzE5hTkz"
      }
    },
    {
      "cell_type": "code",
      "source": [
        "# Creo la columna de la variable objetivo\n",
        "depresion_df['Riesgo_Depresion'] = 0\n",
        "\n",
        "# Defino las condiciones que deben darse para que se asigne el valor \"1\" en caso de riesgo de depresión\n",
        "condiciones = (\n",
        "    (depresion_df['History of Mental Illness'] == 1) |\n",
        "    (depresion_df['Family History of Depression'] == 1) |\n",
        "    (depresion_df['Chronic Medical Conditions'] == 1)\n",
        ")\n",
        "\n",
        "# Asigno el valor \"1\" para \"Si, posee riesgo\"\n",
        "depresion_df.loc[condiciones, 'Riesgo_Depresion'] = 1"
      ],
      "metadata": {
        "id": "CIEfr6qfm6gs"
      },
      "execution_count": null,
      "outputs": []
    },
    {
      "cell_type": "code",
      "source": [
        "# Con la variable \"Alto_Riesgo_Depresion\" busco conocer la cantidad de personas que poseen dicho riesgo, siendo 0 como \"No posee\" y 1: \"Sí posee\" en función si la sumatoria de las tres variables es mayor o igual a 2\n",
        "depresion_df['Total_Riesgo'] = depresion_df[['History of Mental Illness', 'Family History of Depression', 'Chronic Medical Conditions']].sum(axis=1)\n",
        "depresion_df['Alto_Riesgo_Depresion'] = depresion_df['Total_Riesgo'].apply(lambda x: 1 if x >= 2 else 0)\n",
        "print(depresion_df['Alto_Riesgo_Depresion'].value_counts())"
      ],
      "metadata": {
        "colab": {
          "base_uri": "https://localhost:8080/"
        },
        "id": "nlBb_LYbpx0K",
        "outputId": "5f581c6e-82f3-404d-cbe8-1926a1e00b9e"
      },
      "execution_count": null,
      "outputs": [
        {
          "output_type": "stream",
          "name": "stdout",
          "text": [
            "Alto_Riesgo_Depresion\n",
            "0    323817\n",
            "1     89951\n",
            "Name: count, dtype: int64\n"
          ]
        }
      ]
    },
    {
      "cell_type": "code",
      "source": [
        "depresion_df.head(15)"
      ],
      "metadata": {
        "colab": {
          "base_uri": "https://localhost:8080/",
          "height": 697
        },
        "id": "doClDQAHp15-",
        "outputId": "240cb555-c918-43e1-e07f-b9c1c6b9c02b"
      },
      "execution_count": null,
      "outputs": [
        {
          "output_type": "execute_result",
          "data": {
            "text/plain": [
              "                   Name  Age Marital Status    Education Level  \\\n",
              "0      Christine Barker   31        Married  Bachelor's Degree   \n",
              "1      Jacqueline Lewis   55        Married        High School   \n",
              "2        Shannon Church   78        Widowed    Master's Degree   \n",
              "3        Charles Jordan   58       Divorced    Master's Degree   \n",
              "4          Michael Rich   18         Single        High School   \n",
              "5            Kathy Hill   20         Single        High School   \n",
              "6       Crystal Delgado   60        Widowed   Associate Degree   \n",
              "7        Charles Kaiser   31         Single        High School   \n",
              "8        Kathryn Taylor   50       Divorced  Bachelor's Degree   \n",
              "9   Alexander Hernandez   77        Married  Bachelor's Degree   \n",
              "10         Scott Butler   70        Married        High School   \n",
              "11         Anthony Rowe   59        Married  Bachelor's Degree   \n",
              "12          Megan Haley   33        Married  Bachelor's Degree   \n",
              "13        Anne Gonzalez   70        Widowed    Master's Degree   \n",
              "14           Linda Bush   66        Widowed  Bachelor's Degree   \n",
              "\n",
              "    Number of Children Smoking Status Physical Activity Level  \\\n",
              "0                    2              0                       1   \n",
              "1                    1              0                       0   \n",
              "2                    1              0                       0   \n",
              "3                    3              0                       2   \n",
              "4                    0              0                       0   \n",
              "5                    0              1                       1   \n",
              "6                    1              0                       0   \n",
              "7                    0              0                       1   \n",
              "8                    0              0                       1   \n",
              "9                    2              0                       0   \n",
              "10                   1              0                       2   \n",
              "11                   1              0                       0   \n",
              "12                   4              0                       0   \n",
              "13                   1              0                       2   \n",
              "14                   1              0                       0   \n",
              "\n",
              "   Employment Status     Income Alcohol Consumption Dietary Habits  \\\n",
              "0                  0   26265.67                   1              1   \n",
              "1                  1   42710.36                   2              0   \n",
              "2                  1  125332.79                   0              0   \n",
              "3                  0    9992.78                   1              1   \n",
              "4                  0    8595.08                   0              1   \n",
              "5                  1   44448.91                   0              0   \n",
              "6                  0   22565.47                   1              1   \n",
              "7                  1   39608.18                   1              0   \n",
              "8                  1   93360.07                   1              2   \n",
              "9                  1   77597.84                   0              0   \n",
              "10                 0   28528.97                   1              1   \n",
              "11                 1   61225.16                   1              0   \n",
              "12                 0   10145.10                   1              1   \n",
              "13                 0   13428.05                   2              2   \n",
              "14                 0   16853.76                   1              1   \n",
              "\n",
              "   Sleep Patterns History of Mental Illness History of Substance Abuse  \\\n",
              "0               1                         1                          0   \n",
              "1               1                         1                          0   \n",
              "2               2                         0                          0   \n",
              "3               0                         0                          0   \n",
              "4               1                         1                          0   \n",
              "5               1                         0                          1   \n",
              "6               0                         0                          1   \n",
              "7               2                         0                          0   \n",
              "8               2                         0                          1   \n",
              "9               0                         1                          0   \n",
              "10              1                         1                          1   \n",
              "11              1                         0                          0   \n",
              "12              1                         1                          0   \n",
              "13              1                         0                          0   \n",
              "14              1                         0                          0   \n",
              "\n",
              "   Family History of Depression Chronic Medical Conditions Total_Riesgo  \\\n",
              "0                             1                          1            3   \n",
              "1                             0                          1            2   \n",
              "2                             1                          0            1   \n",
              "3                             0                          0            0   \n",
              "4                             1                          1            3   \n",
              "5                             0                          0            0   \n",
              "6                             0                          0            0   \n",
              "7                             0                          0            0   \n",
              "8                             0                          1            1   \n",
              "9                             0                          0            1   \n",
              "10                            0                          1            2   \n",
              "11                            0                          0            0   \n",
              "12                            0                          0            1   \n",
              "13                            0                          1            1   \n",
              "14                            1                          1            2   \n",
              "\n",
              "    Alto_Riesgo_Depresion  Riesgo_Depresion  \n",
              "0                       1                 1  \n",
              "1                       1                 1  \n",
              "2                       0                 1  \n",
              "3                       0                 0  \n",
              "4                       1                 1  \n",
              "5                       0                 0  \n",
              "6                       0                 0  \n",
              "7                       0                 0  \n",
              "8                       0                 1  \n",
              "9                       0                 1  \n",
              "10                      1                 1  \n",
              "11                      0                 0  \n",
              "12                      0                 1  \n",
              "13                      0                 1  \n",
              "14                      1                 1  "
            ],
            "text/html": [
              "\n",
              "  <div id=\"df-2040401d-f25a-4293-a2ae-213b0c2db22e\" class=\"colab-df-container\">\n",
              "    <div>\n",
              "<style scoped>\n",
              "    .dataframe tbody tr th:only-of-type {\n",
              "        vertical-align: middle;\n",
              "    }\n",
              "\n",
              "    .dataframe tbody tr th {\n",
              "        vertical-align: top;\n",
              "    }\n",
              "\n",
              "    .dataframe thead th {\n",
              "        text-align: right;\n",
              "    }\n",
              "</style>\n",
              "<table border=\"1\" class=\"dataframe\">\n",
              "  <thead>\n",
              "    <tr style=\"text-align: right;\">\n",
              "      <th></th>\n",
              "      <th>Name</th>\n",
              "      <th>Age</th>\n",
              "      <th>Marital Status</th>\n",
              "      <th>Education Level</th>\n",
              "      <th>Number of Children</th>\n",
              "      <th>Smoking Status</th>\n",
              "      <th>Physical Activity Level</th>\n",
              "      <th>Employment Status</th>\n",
              "      <th>Income</th>\n",
              "      <th>Alcohol Consumption</th>\n",
              "      <th>Dietary Habits</th>\n",
              "      <th>Sleep Patterns</th>\n",
              "      <th>History of Mental Illness</th>\n",
              "      <th>History of Substance Abuse</th>\n",
              "      <th>Family History of Depression</th>\n",
              "      <th>Chronic Medical Conditions</th>\n",
              "      <th>Total_Riesgo</th>\n",
              "      <th>Alto_Riesgo_Depresion</th>\n",
              "      <th>Riesgo_Depresion</th>\n",
              "    </tr>\n",
              "  </thead>\n",
              "  <tbody>\n",
              "    <tr>\n",
              "      <th>0</th>\n",
              "      <td>Christine Barker</td>\n",
              "      <td>31</td>\n",
              "      <td>Married</td>\n",
              "      <td>Bachelor's Degree</td>\n",
              "      <td>2</td>\n",
              "      <td>0</td>\n",
              "      <td>1</td>\n",
              "      <td>0</td>\n",
              "      <td>26265.67</td>\n",
              "      <td>1</td>\n",
              "      <td>1</td>\n",
              "      <td>1</td>\n",
              "      <td>1</td>\n",
              "      <td>0</td>\n",
              "      <td>1</td>\n",
              "      <td>1</td>\n",
              "      <td>3</td>\n",
              "      <td>1</td>\n",
              "      <td>1</td>\n",
              "    </tr>\n",
              "    <tr>\n",
              "      <th>1</th>\n",
              "      <td>Jacqueline Lewis</td>\n",
              "      <td>55</td>\n",
              "      <td>Married</td>\n",
              "      <td>High School</td>\n",
              "      <td>1</td>\n",
              "      <td>0</td>\n",
              "      <td>0</td>\n",
              "      <td>1</td>\n",
              "      <td>42710.36</td>\n",
              "      <td>2</td>\n",
              "      <td>0</td>\n",
              "      <td>1</td>\n",
              "      <td>1</td>\n",
              "      <td>0</td>\n",
              "      <td>0</td>\n",
              "      <td>1</td>\n",
              "      <td>2</td>\n",
              "      <td>1</td>\n",
              "      <td>1</td>\n",
              "    </tr>\n",
              "    <tr>\n",
              "      <th>2</th>\n",
              "      <td>Shannon Church</td>\n",
              "      <td>78</td>\n",
              "      <td>Widowed</td>\n",
              "      <td>Master's Degree</td>\n",
              "      <td>1</td>\n",
              "      <td>0</td>\n",
              "      <td>0</td>\n",
              "      <td>1</td>\n",
              "      <td>125332.79</td>\n",
              "      <td>0</td>\n",
              "      <td>0</td>\n",
              "      <td>2</td>\n",
              "      <td>0</td>\n",
              "      <td>0</td>\n",
              "      <td>1</td>\n",
              "      <td>0</td>\n",
              "      <td>1</td>\n",
              "      <td>0</td>\n",
              "      <td>1</td>\n",
              "    </tr>\n",
              "    <tr>\n",
              "      <th>3</th>\n",
              "      <td>Charles Jordan</td>\n",
              "      <td>58</td>\n",
              "      <td>Divorced</td>\n",
              "      <td>Master's Degree</td>\n",
              "      <td>3</td>\n",
              "      <td>0</td>\n",
              "      <td>2</td>\n",
              "      <td>0</td>\n",
              "      <td>9992.78</td>\n",
              "      <td>1</td>\n",
              "      <td>1</td>\n",
              "      <td>0</td>\n",
              "      <td>0</td>\n",
              "      <td>0</td>\n",
              "      <td>0</td>\n",
              "      <td>0</td>\n",
              "      <td>0</td>\n",
              "      <td>0</td>\n",
              "      <td>0</td>\n",
              "    </tr>\n",
              "    <tr>\n",
              "      <th>4</th>\n",
              "      <td>Michael Rich</td>\n",
              "      <td>18</td>\n",
              "      <td>Single</td>\n",
              "      <td>High School</td>\n",
              "      <td>0</td>\n",
              "      <td>0</td>\n",
              "      <td>0</td>\n",
              "      <td>0</td>\n",
              "      <td>8595.08</td>\n",
              "      <td>0</td>\n",
              "      <td>1</td>\n",
              "      <td>1</td>\n",
              "      <td>1</td>\n",
              "      <td>0</td>\n",
              "      <td>1</td>\n",
              "      <td>1</td>\n",
              "      <td>3</td>\n",
              "      <td>1</td>\n",
              "      <td>1</td>\n",
              "    </tr>\n",
              "    <tr>\n",
              "      <th>5</th>\n",
              "      <td>Kathy Hill</td>\n",
              "      <td>20</td>\n",
              "      <td>Single</td>\n",
              "      <td>High School</td>\n",
              "      <td>0</td>\n",
              "      <td>1</td>\n",
              "      <td>1</td>\n",
              "      <td>1</td>\n",
              "      <td>44448.91</td>\n",
              "      <td>0</td>\n",
              "      <td>0</td>\n",
              "      <td>1</td>\n",
              "      <td>0</td>\n",
              "      <td>1</td>\n",
              "      <td>0</td>\n",
              "      <td>0</td>\n",
              "      <td>0</td>\n",
              "      <td>0</td>\n",
              "      <td>0</td>\n",
              "    </tr>\n",
              "    <tr>\n",
              "      <th>6</th>\n",
              "      <td>Crystal Delgado</td>\n",
              "      <td>60</td>\n",
              "      <td>Widowed</td>\n",
              "      <td>Associate Degree</td>\n",
              "      <td>1</td>\n",
              "      <td>0</td>\n",
              "      <td>0</td>\n",
              "      <td>0</td>\n",
              "      <td>22565.47</td>\n",
              "      <td>1</td>\n",
              "      <td>1</td>\n",
              "      <td>0</td>\n",
              "      <td>0</td>\n",
              "      <td>1</td>\n",
              "      <td>0</td>\n",
              "      <td>0</td>\n",
              "      <td>0</td>\n",
              "      <td>0</td>\n",
              "      <td>0</td>\n",
              "    </tr>\n",
              "    <tr>\n",
              "      <th>7</th>\n",
              "      <td>Charles Kaiser</td>\n",
              "      <td>31</td>\n",
              "      <td>Single</td>\n",
              "      <td>High School</td>\n",
              "      <td>0</td>\n",
              "      <td>0</td>\n",
              "      <td>1</td>\n",
              "      <td>1</td>\n",
              "      <td>39608.18</td>\n",
              "      <td>1</td>\n",
              "      <td>0</td>\n",
              "      <td>2</td>\n",
              "      <td>0</td>\n",
              "      <td>0</td>\n",
              "      <td>0</td>\n",
              "      <td>0</td>\n",
              "      <td>0</td>\n",
              "      <td>0</td>\n",
              "      <td>0</td>\n",
              "    </tr>\n",
              "    <tr>\n",
              "      <th>8</th>\n",
              "      <td>Kathryn Taylor</td>\n",
              "      <td>50</td>\n",
              "      <td>Divorced</td>\n",
              "      <td>Bachelor's Degree</td>\n",
              "      <td>0</td>\n",
              "      <td>0</td>\n",
              "      <td>1</td>\n",
              "      <td>1</td>\n",
              "      <td>93360.07</td>\n",
              "      <td>1</td>\n",
              "      <td>2</td>\n",
              "      <td>2</td>\n",
              "      <td>0</td>\n",
              "      <td>1</td>\n",
              "      <td>0</td>\n",
              "      <td>1</td>\n",
              "      <td>1</td>\n",
              "      <td>0</td>\n",
              "      <td>1</td>\n",
              "    </tr>\n",
              "    <tr>\n",
              "      <th>9</th>\n",
              "      <td>Alexander Hernandez</td>\n",
              "      <td>77</td>\n",
              "      <td>Married</td>\n",
              "      <td>Bachelor's Degree</td>\n",
              "      <td>2</td>\n",
              "      <td>0</td>\n",
              "      <td>0</td>\n",
              "      <td>1</td>\n",
              "      <td>77597.84</td>\n",
              "      <td>0</td>\n",
              "      <td>0</td>\n",
              "      <td>0</td>\n",
              "      <td>1</td>\n",
              "      <td>0</td>\n",
              "      <td>0</td>\n",
              "      <td>0</td>\n",
              "      <td>1</td>\n",
              "      <td>0</td>\n",
              "      <td>1</td>\n",
              "    </tr>\n",
              "    <tr>\n",
              "      <th>10</th>\n",
              "      <td>Scott Butler</td>\n",
              "      <td>70</td>\n",
              "      <td>Married</td>\n",
              "      <td>High School</td>\n",
              "      <td>1</td>\n",
              "      <td>0</td>\n",
              "      <td>2</td>\n",
              "      <td>0</td>\n",
              "      <td>28528.97</td>\n",
              "      <td>1</td>\n",
              "      <td>1</td>\n",
              "      <td>1</td>\n",
              "      <td>1</td>\n",
              "      <td>1</td>\n",
              "      <td>0</td>\n",
              "      <td>1</td>\n",
              "      <td>2</td>\n",
              "      <td>1</td>\n",
              "      <td>1</td>\n",
              "    </tr>\n",
              "    <tr>\n",
              "      <th>11</th>\n",
              "      <td>Anthony Rowe</td>\n",
              "      <td>59</td>\n",
              "      <td>Married</td>\n",
              "      <td>Bachelor's Degree</td>\n",
              "      <td>1</td>\n",
              "      <td>0</td>\n",
              "      <td>0</td>\n",
              "      <td>1</td>\n",
              "      <td>61225.16</td>\n",
              "      <td>1</td>\n",
              "      <td>0</td>\n",
              "      <td>1</td>\n",
              "      <td>0</td>\n",
              "      <td>0</td>\n",
              "      <td>0</td>\n",
              "      <td>0</td>\n",
              "      <td>0</td>\n",
              "      <td>0</td>\n",
              "      <td>0</td>\n",
              "    </tr>\n",
              "    <tr>\n",
              "      <th>12</th>\n",
              "      <td>Megan Haley</td>\n",
              "      <td>33</td>\n",
              "      <td>Married</td>\n",
              "      <td>Bachelor's Degree</td>\n",
              "      <td>4</td>\n",
              "      <td>0</td>\n",
              "      <td>0</td>\n",
              "      <td>0</td>\n",
              "      <td>10145.10</td>\n",
              "      <td>1</td>\n",
              "      <td>1</td>\n",
              "      <td>1</td>\n",
              "      <td>1</td>\n",
              "      <td>0</td>\n",
              "      <td>0</td>\n",
              "      <td>0</td>\n",
              "      <td>1</td>\n",
              "      <td>0</td>\n",
              "      <td>1</td>\n",
              "    </tr>\n",
              "    <tr>\n",
              "      <th>13</th>\n",
              "      <td>Anne Gonzalez</td>\n",
              "      <td>70</td>\n",
              "      <td>Widowed</td>\n",
              "      <td>Master's Degree</td>\n",
              "      <td>1</td>\n",
              "      <td>0</td>\n",
              "      <td>2</td>\n",
              "      <td>0</td>\n",
              "      <td>13428.05</td>\n",
              "      <td>2</td>\n",
              "      <td>2</td>\n",
              "      <td>1</td>\n",
              "      <td>0</td>\n",
              "      <td>0</td>\n",
              "      <td>0</td>\n",
              "      <td>1</td>\n",
              "      <td>1</td>\n",
              "      <td>0</td>\n",
              "      <td>1</td>\n",
              "    </tr>\n",
              "    <tr>\n",
              "      <th>14</th>\n",
              "      <td>Linda Bush</td>\n",
              "      <td>66</td>\n",
              "      <td>Widowed</td>\n",
              "      <td>Bachelor's Degree</td>\n",
              "      <td>1</td>\n",
              "      <td>0</td>\n",
              "      <td>0</td>\n",
              "      <td>0</td>\n",
              "      <td>16853.76</td>\n",
              "      <td>1</td>\n",
              "      <td>1</td>\n",
              "      <td>1</td>\n",
              "      <td>0</td>\n",
              "      <td>0</td>\n",
              "      <td>1</td>\n",
              "      <td>1</td>\n",
              "      <td>2</td>\n",
              "      <td>1</td>\n",
              "      <td>1</td>\n",
              "    </tr>\n",
              "  </tbody>\n",
              "</table>\n",
              "</div>\n",
              "    <div class=\"colab-df-buttons\">\n",
              "\n",
              "  <div class=\"colab-df-container\">\n",
              "    <button class=\"colab-df-convert\" onclick=\"convertToInteractive('df-2040401d-f25a-4293-a2ae-213b0c2db22e')\"\n",
              "            title=\"Convert this dataframe to an interactive table.\"\n",
              "            style=\"display:none;\">\n",
              "\n",
              "  <svg xmlns=\"http://www.w3.org/2000/svg\" height=\"24px\" viewBox=\"0 -960 960 960\">\n",
              "    <path d=\"M120-120v-720h720v720H120Zm60-500h600v-160H180v160Zm220 220h160v-160H400v160Zm0 220h160v-160H400v160ZM180-400h160v-160H180v160Zm440 0h160v-160H620v160ZM180-180h160v-160H180v160Zm440 0h160v-160H620v160Z\"/>\n",
              "  </svg>\n",
              "    </button>\n",
              "\n",
              "  <style>\n",
              "    .colab-df-container {\n",
              "      display:flex;\n",
              "      gap: 12px;\n",
              "    }\n",
              "\n",
              "    .colab-df-convert {\n",
              "      background-color: #E8F0FE;\n",
              "      border: none;\n",
              "      border-radius: 50%;\n",
              "      cursor: pointer;\n",
              "      display: none;\n",
              "      fill: #1967D2;\n",
              "      height: 32px;\n",
              "      padding: 0 0 0 0;\n",
              "      width: 32px;\n",
              "    }\n",
              "\n",
              "    .colab-df-convert:hover {\n",
              "      background-color: #E2EBFA;\n",
              "      box-shadow: 0px 1px 2px rgba(60, 64, 67, 0.3), 0px 1px 3px 1px rgba(60, 64, 67, 0.15);\n",
              "      fill: #174EA6;\n",
              "    }\n",
              "\n",
              "    .colab-df-buttons div {\n",
              "      margin-bottom: 4px;\n",
              "    }\n",
              "\n",
              "    [theme=dark] .colab-df-convert {\n",
              "      background-color: #3B4455;\n",
              "      fill: #D2E3FC;\n",
              "    }\n",
              "\n",
              "    [theme=dark] .colab-df-convert:hover {\n",
              "      background-color: #434B5C;\n",
              "      box-shadow: 0px 1px 3px 1px rgba(0, 0, 0, 0.15);\n",
              "      filter: drop-shadow(0px 1px 2px rgba(0, 0, 0, 0.3));\n",
              "      fill: #FFFFFF;\n",
              "    }\n",
              "  </style>\n",
              "\n",
              "    <script>\n",
              "      const buttonEl =\n",
              "        document.querySelector('#df-2040401d-f25a-4293-a2ae-213b0c2db22e button.colab-df-convert');\n",
              "      buttonEl.style.display =\n",
              "        google.colab.kernel.accessAllowed ? 'block' : 'none';\n",
              "\n",
              "      async function convertToInteractive(key) {\n",
              "        const element = document.querySelector('#df-2040401d-f25a-4293-a2ae-213b0c2db22e');\n",
              "        const dataTable =\n",
              "          await google.colab.kernel.invokeFunction('convertToInteractive',\n",
              "                                                    [key], {});\n",
              "        if (!dataTable) return;\n",
              "\n",
              "        const docLinkHtml = 'Like what you see? Visit the ' +\n",
              "          '<a target=\"_blank\" href=https://colab.research.google.com/notebooks/data_table.ipynb>data table notebook</a>'\n",
              "          + ' to learn more about interactive tables.';\n",
              "        element.innerHTML = '';\n",
              "        dataTable['output_type'] = 'display_data';\n",
              "        await google.colab.output.renderOutput(dataTable, element);\n",
              "        const docLink = document.createElement('div');\n",
              "        docLink.innerHTML = docLinkHtml;\n",
              "        element.appendChild(docLink);\n",
              "      }\n",
              "    </script>\n",
              "  </div>\n",
              "\n",
              "\n",
              "<div id=\"df-8d9449d8-209b-4a03-ad1d-298cbbbf24e7\">\n",
              "  <button class=\"colab-df-quickchart\" onclick=\"quickchart('df-8d9449d8-209b-4a03-ad1d-298cbbbf24e7')\"\n",
              "            title=\"Suggest charts\"\n",
              "            style=\"display:none;\">\n",
              "\n",
              "<svg xmlns=\"http://www.w3.org/2000/svg\" height=\"24px\"viewBox=\"0 0 24 24\"\n",
              "     width=\"24px\">\n",
              "    <g>\n",
              "        <path d=\"M19 3H5c-1.1 0-2 .9-2 2v14c0 1.1.9 2 2 2h14c1.1 0 2-.9 2-2V5c0-1.1-.9-2-2-2zM9 17H7v-7h2v7zm4 0h-2V7h2v10zm4 0h-2v-4h2v4z\"/>\n",
              "    </g>\n",
              "</svg>\n",
              "  </button>\n",
              "\n",
              "<style>\n",
              "  .colab-df-quickchart {\n",
              "      --bg-color: #E8F0FE;\n",
              "      --fill-color: #1967D2;\n",
              "      --hover-bg-color: #E2EBFA;\n",
              "      --hover-fill-color: #174EA6;\n",
              "      --disabled-fill-color: #AAA;\n",
              "      --disabled-bg-color: #DDD;\n",
              "  }\n",
              "\n",
              "  [theme=dark] .colab-df-quickchart {\n",
              "      --bg-color: #3B4455;\n",
              "      --fill-color: #D2E3FC;\n",
              "      --hover-bg-color: #434B5C;\n",
              "      --hover-fill-color: #FFFFFF;\n",
              "      --disabled-bg-color: #3B4455;\n",
              "      --disabled-fill-color: #666;\n",
              "  }\n",
              "\n",
              "  .colab-df-quickchart {\n",
              "    background-color: var(--bg-color);\n",
              "    border: none;\n",
              "    border-radius: 50%;\n",
              "    cursor: pointer;\n",
              "    display: none;\n",
              "    fill: var(--fill-color);\n",
              "    height: 32px;\n",
              "    padding: 0;\n",
              "    width: 32px;\n",
              "  }\n",
              "\n",
              "  .colab-df-quickchart:hover {\n",
              "    background-color: var(--hover-bg-color);\n",
              "    box-shadow: 0 1px 2px rgba(60, 64, 67, 0.3), 0 1px 3px 1px rgba(60, 64, 67, 0.15);\n",
              "    fill: var(--button-hover-fill-color);\n",
              "  }\n",
              "\n",
              "  .colab-df-quickchart-complete:disabled,\n",
              "  .colab-df-quickchart-complete:disabled:hover {\n",
              "    background-color: var(--disabled-bg-color);\n",
              "    fill: var(--disabled-fill-color);\n",
              "    box-shadow: none;\n",
              "  }\n",
              "\n",
              "  .colab-df-spinner {\n",
              "    border: 2px solid var(--fill-color);\n",
              "    border-color: transparent;\n",
              "    border-bottom-color: var(--fill-color);\n",
              "    animation:\n",
              "      spin 1s steps(1) infinite;\n",
              "  }\n",
              "\n",
              "  @keyframes spin {\n",
              "    0% {\n",
              "      border-color: transparent;\n",
              "      border-bottom-color: var(--fill-color);\n",
              "      border-left-color: var(--fill-color);\n",
              "    }\n",
              "    20% {\n",
              "      border-color: transparent;\n",
              "      border-left-color: var(--fill-color);\n",
              "      border-top-color: var(--fill-color);\n",
              "    }\n",
              "    30% {\n",
              "      border-color: transparent;\n",
              "      border-left-color: var(--fill-color);\n",
              "      border-top-color: var(--fill-color);\n",
              "      border-right-color: var(--fill-color);\n",
              "    }\n",
              "    40% {\n",
              "      border-color: transparent;\n",
              "      border-right-color: var(--fill-color);\n",
              "      border-top-color: var(--fill-color);\n",
              "    }\n",
              "    60% {\n",
              "      border-color: transparent;\n",
              "      border-right-color: var(--fill-color);\n",
              "    }\n",
              "    80% {\n",
              "      border-color: transparent;\n",
              "      border-right-color: var(--fill-color);\n",
              "      border-bottom-color: var(--fill-color);\n",
              "    }\n",
              "    90% {\n",
              "      border-color: transparent;\n",
              "      border-bottom-color: var(--fill-color);\n",
              "    }\n",
              "  }\n",
              "</style>\n",
              "\n",
              "  <script>\n",
              "    async function quickchart(key) {\n",
              "      const quickchartButtonEl =\n",
              "        document.querySelector('#' + key + ' button');\n",
              "      quickchartButtonEl.disabled = true;  // To prevent multiple clicks.\n",
              "      quickchartButtonEl.classList.add('colab-df-spinner');\n",
              "      try {\n",
              "        const charts = await google.colab.kernel.invokeFunction(\n",
              "            'suggestCharts', [key], {});\n",
              "      } catch (error) {\n",
              "        console.error('Error during call to suggestCharts:', error);\n",
              "      }\n",
              "      quickchartButtonEl.classList.remove('colab-df-spinner');\n",
              "      quickchartButtonEl.classList.add('colab-df-quickchart-complete');\n",
              "    }\n",
              "    (() => {\n",
              "      let quickchartButtonEl =\n",
              "        document.querySelector('#df-8d9449d8-209b-4a03-ad1d-298cbbbf24e7 button');\n",
              "      quickchartButtonEl.style.display =\n",
              "        google.colab.kernel.accessAllowed ? 'block' : 'none';\n",
              "    })();\n",
              "  </script>\n",
              "</div>\n",
              "\n",
              "    </div>\n",
              "  </div>\n"
            ],
            "application/vnd.google.colaboratory.intrinsic+json": {
              "type": "dataframe",
              "variable_name": "depresion_df"
            },
            "application/vnd.google.colaboratory.module+javascript": "\n      import \"https://ssl.gstatic.com/colaboratory/data_table/f565ec32c7e6656f/data_table.js\";\n\n      const table = window.createDataTable({\n        data: [[{\n            'v': 0,\n            'f': \"0\",\n        },\n\"Christine Barker\",\n{\n            'v': 31,\n            'f': \"31\",\n        },\n\"Married\",\n\"Bachelor's Degree\",\n{\n            'v': 2,\n            'f': \"2\",\n        },\n{\n            'v': 0,\n            'f': \"0\",\n        },\n{\n            'v': 1,\n            'f': \"1\",\n        },\n{\n            'v': 0,\n            'f': \"0\",\n        },\n{\n            'v': 26265.67,\n            'f': \"26265.67\",\n        },\n{\n            'v': 1,\n            'f': \"1\",\n        },\n{\n            'v': 1,\n            'f': \"1\",\n        },\n{\n            'v': 1,\n            'f': \"1\",\n        },\n{\n            'v': 1,\n            'f': \"1\",\n        },\n{\n            'v': 0,\n            'f': \"0\",\n        },\n{\n            'v': 1,\n            'f': \"1\",\n        },\n{\n            'v': 1,\n            'f': \"1\",\n        },\n{\n            'v': 3,\n            'f': \"3\",\n        },\n{\n            'v': 1,\n            'f': \"1\",\n        },\n{\n            'v': 1,\n            'f': \"1\",\n        }],\n [{\n            'v': 1,\n            'f': \"1\",\n        },\n\"Jacqueline Lewis\",\n{\n            'v': 55,\n            'f': \"55\",\n        },\n\"Married\",\n\"High School\",\n{\n            'v': 1,\n            'f': \"1\",\n        },\n{\n            'v': 0,\n            'f': \"0\",\n        },\n{\n            'v': 0,\n            'f': \"0\",\n        },\n{\n            'v': 1,\n            'f': \"1\",\n        },\n{\n            'v': 42710.36,\n            'f': \"42710.36\",\n        },\n{\n            'v': 2,\n            'f': \"2\",\n        },\n{\n            'v': 0,\n            'f': \"0\",\n        },\n{\n            'v': 1,\n            'f': \"1\",\n        },\n{\n            'v': 1,\n            'f': \"1\",\n        },\n{\n            'v': 0,\n            'f': \"0\",\n        },\n{\n            'v': 0,\n            'f': \"0\",\n        },\n{\n            'v': 1,\n            'f': \"1\",\n        },\n{\n            'v': 2,\n            'f': \"2\",\n        },\n{\n            'v': 1,\n            'f': \"1\",\n        },\n{\n            'v': 1,\n            'f': \"1\",\n        }],\n [{\n            'v': 2,\n            'f': \"2\",\n        },\n\"Shannon Church\",\n{\n            'v': 78,\n            'f': \"78\",\n        },\n\"Widowed\",\n\"Master's Degree\",\n{\n            'v': 1,\n            'f': \"1\",\n        },\n{\n            'v': 0,\n            'f': \"0\",\n        },\n{\n            'v': 0,\n            'f': \"0\",\n        },\n{\n            'v': 1,\n            'f': \"1\",\n        },\n{\n            'v': 125332.79,\n            'f': \"125332.79\",\n        },\n{\n            'v': 0,\n            'f': \"0\",\n        },\n{\n            'v': 0,\n            'f': \"0\",\n        },\n{\n            'v': 2,\n            'f': \"2\",\n        },\n{\n            'v': 0,\n            'f': \"0\",\n        },\n{\n            'v': 0,\n            'f': \"0\",\n        },\n{\n            'v': 1,\n            'f': \"1\",\n        },\n{\n            'v': 0,\n            'f': \"0\",\n        },\n{\n            'v': 1,\n            'f': \"1\",\n        },\n{\n            'v': 0,\n            'f': \"0\",\n        },\n{\n            'v': 1,\n            'f': \"1\",\n        }],\n [{\n            'v': 3,\n            'f': \"3\",\n        },\n\"Charles Jordan\",\n{\n            'v': 58,\n            'f': \"58\",\n        },\n\"Divorced\",\n\"Master's Degree\",\n{\n            'v': 3,\n            'f': \"3\",\n        },\n{\n            'v': 0,\n            'f': \"0\",\n        },\n{\n            'v': 2,\n            'f': \"2\",\n        },\n{\n            'v': 0,\n            'f': \"0\",\n        },\n{\n            'v': 9992.78,\n            'f': \"9992.78\",\n        },\n{\n            'v': 1,\n            'f': \"1\",\n        },\n{\n            'v': 1,\n            'f': \"1\",\n        },\n{\n            'v': 0,\n            'f': \"0\",\n        },\n{\n            'v': 0,\n            'f': \"0\",\n        },\n{\n            'v': 0,\n            'f': \"0\",\n        },\n{\n            'v': 0,\n            'f': \"0\",\n        },\n{\n            'v': 0,\n            'f': \"0\",\n        },\n{\n            'v': 0,\n            'f': \"0\",\n        },\n{\n            'v': 0,\n            'f': \"0\",\n        },\n{\n            'v': 0,\n            'f': \"0\",\n        }],\n [{\n            'v': 4,\n            'f': \"4\",\n        },\n\"Michael Rich\",\n{\n            'v': 18,\n            'f': \"18\",\n        },\n\"Single\",\n\"High School\",\n{\n            'v': 0,\n            'f': \"0\",\n        },\n{\n            'v': 0,\n            'f': \"0\",\n        },\n{\n            'v': 0,\n            'f': \"0\",\n        },\n{\n            'v': 0,\n            'f': \"0\",\n        },\n{\n            'v': 8595.08,\n            'f': \"8595.08\",\n        },\n{\n            'v': 0,\n            'f': \"0\",\n        },\n{\n            'v': 1,\n            'f': \"1\",\n        },\n{\n            'v': 1,\n            'f': \"1\",\n        },\n{\n            'v': 1,\n            'f': \"1\",\n        },\n{\n            'v': 0,\n            'f': \"0\",\n        },\n{\n            'v': 1,\n            'f': \"1\",\n        },\n{\n            'v': 1,\n            'f': \"1\",\n        },\n{\n            'v': 3,\n            'f': \"3\",\n        },\n{\n            'v': 1,\n            'f': \"1\",\n        },\n{\n            'v': 1,\n            'f': \"1\",\n        }],\n [{\n            'v': 5,\n            'f': \"5\",\n        },\n\"Kathy Hill\",\n{\n            'v': 20,\n            'f': \"20\",\n        },\n\"Single\",\n\"High School\",\n{\n            'v': 0,\n            'f': \"0\",\n        },\n{\n            'v': 1,\n            'f': \"1\",\n        },\n{\n            'v': 1,\n            'f': \"1\",\n        },\n{\n            'v': 1,\n            'f': \"1\",\n        },\n{\n            'v': 44448.91,\n            'f': \"44448.91\",\n        },\n{\n            'v': 0,\n            'f': \"0\",\n        },\n{\n            'v': 0,\n            'f': \"0\",\n        },\n{\n            'v': 1,\n            'f': \"1\",\n        },\n{\n            'v': 0,\n            'f': \"0\",\n        },\n{\n            'v': 1,\n            'f': \"1\",\n        },\n{\n            'v': 0,\n            'f': \"0\",\n        },\n{\n            'v': 0,\n            'f': \"0\",\n        },\n{\n            'v': 0,\n            'f': \"0\",\n        },\n{\n            'v': 0,\n            'f': \"0\",\n        },\n{\n            'v': 0,\n            'f': \"0\",\n        }],\n [{\n            'v': 6,\n            'f': \"6\",\n        },\n\"Crystal Delgado\",\n{\n            'v': 60,\n            'f': \"60\",\n        },\n\"Widowed\",\n\"Associate Degree\",\n{\n            'v': 1,\n            'f': \"1\",\n        },\n{\n            'v': 0,\n            'f': \"0\",\n        },\n{\n            'v': 0,\n            'f': \"0\",\n        },\n{\n            'v': 0,\n            'f': \"0\",\n        },\n{\n            'v': 22565.47,\n            'f': \"22565.47\",\n        },\n{\n            'v': 1,\n            'f': \"1\",\n        },\n{\n            'v': 1,\n            'f': \"1\",\n        },\n{\n            'v': 0,\n            'f': \"0\",\n        },\n{\n            'v': 0,\n            'f': \"0\",\n        },\n{\n            'v': 1,\n            'f': \"1\",\n        },\n{\n            'v': 0,\n            'f': \"0\",\n        },\n{\n            'v': 0,\n            'f': \"0\",\n        },\n{\n            'v': 0,\n            'f': \"0\",\n        },\n{\n            'v': 0,\n            'f': \"0\",\n        },\n{\n            'v': 0,\n            'f': \"0\",\n        }],\n [{\n            'v': 7,\n            'f': \"7\",\n        },\n\"Charles Kaiser\",\n{\n            'v': 31,\n            'f': \"31\",\n        },\n\"Single\",\n\"High School\",\n{\n            'v': 0,\n            'f': \"0\",\n        },\n{\n            'v': 0,\n            'f': \"0\",\n        },\n{\n            'v': 1,\n            'f': \"1\",\n        },\n{\n            'v': 1,\n            'f': \"1\",\n        },\n{\n            'v': 39608.18,\n            'f': \"39608.18\",\n        },\n{\n            'v': 1,\n            'f': \"1\",\n        },\n{\n            'v': 0,\n            'f': \"0\",\n        },\n{\n            'v': 2,\n            'f': \"2\",\n        },\n{\n            'v': 0,\n            'f': \"0\",\n        },\n{\n            'v': 0,\n            'f': \"0\",\n        },\n{\n            'v': 0,\n            'f': \"0\",\n        },\n{\n            'v': 0,\n            'f': \"0\",\n        },\n{\n            'v': 0,\n            'f': \"0\",\n        },\n{\n            'v': 0,\n            'f': \"0\",\n        },\n{\n            'v': 0,\n            'f': \"0\",\n        }],\n [{\n            'v': 8,\n            'f': \"8\",\n        },\n\"Kathryn Taylor\",\n{\n            'v': 50,\n            'f': \"50\",\n        },\n\"Divorced\",\n\"Bachelor's Degree\",\n{\n            'v': 0,\n            'f': \"0\",\n        },\n{\n            'v': 0,\n            'f': \"0\",\n        },\n{\n            'v': 1,\n            'f': \"1\",\n        },\n{\n            'v': 1,\n            'f': \"1\",\n        },\n{\n            'v': 93360.07,\n            'f': \"93360.07\",\n        },\n{\n            'v': 1,\n            'f': \"1\",\n        },\n{\n            'v': 2,\n            'f': \"2\",\n        },\n{\n            'v': 2,\n            'f': \"2\",\n        },\n{\n            'v': 0,\n            'f': \"0\",\n        },\n{\n            'v': 1,\n            'f': \"1\",\n        },\n{\n            'v': 0,\n            'f': \"0\",\n        },\n{\n            'v': 1,\n            'f': \"1\",\n        },\n{\n            'v': 1,\n            'f': \"1\",\n        },\n{\n            'v': 0,\n            'f': \"0\",\n        },\n{\n            'v': 1,\n            'f': \"1\",\n        }],\n [{\n            'v': 9,\n            'f': \"9\",\n        },\n\"Alexander Hernandez\",\n{\n            'v': 77,\n            'f': \"77\",\n        },\n\"Married\",\n\"Bachelor's Degree\",\n{\n            'v': 2,\n            'f': \"2\",\n        },\n{\n            'v': 0,\n            'f': \"0\",\n        },\n{\n            'v': 0,\n            'f': \"0\",\n        },\n{\n            'v': 1,\n            'f': \"1\",\n        },\n{\n            'v': 77597.84,\n            'f': \"77597.84\",\n        },\n{\n            'v': 0,\n            'f': \"0\",\n        },\n{\n            'v': 0,\n            'f': \"0\",\n        },\n{\n            'v': 0,\n            'f': \"0\",\n        },\n{\n            'v': 1,\n            'f': \"1\",\n        },\n{\n            'v': 0,\n            'f': \"0\",\n        },\n{\n            'v': 0,\n            'f': \"0\",\n        },\n{\n            'v': 0,\n            'f': \"0\",\n        },\n{\n            'v': 1,\n            'f': \"1\",\n        },\n{\n            'v': 0,\n            'f': \"0\",\n        },\n{\n            'v': 1,\n            'f': \"1\",\n        }],\n [{\n            'v': 10,\n            'f': \"10\",\n        },\n\"Scott Butler\",\n{\n            'v': 70,\n            'f': \"70\",\n        },\n\"Married\",\n\"High School\",\n{\n            'v': 1,\n            'f': \"1\",\n        },\n{\n            'v': 0,\n            'f': \"0\",\n        },\n{\n            'v': 2,\n            'f': \"2\",\n        },\n{\n            'v': 0,\n            'f': \"0\",\n        },\n{\n            'v': 28528.97,\n            'f': \"28528.97\",\n        },\n{\n            'v': 1,\n            'f': \"1\",\n        },\n{\n            'v': 1,\n            'f': \"1\",\n        },\n{\n            'v': 1,\n            'f': \"1\",\n        },\n{\n            'v': 1,\n            'f': \"1\",\n        },\n{\n            'v': 1,\n            'f': \"1\",\n        },\n{\n            'v': 0,\n            'f': \"0\",\n        },\n{\n            'v': 1,\n            'f': \"1\",\n        },\n{\n            'v': 2,\n            'f': \"2\",\n        },\n{\n            'v': 1,\n            'f': \"1\",\n        },\n{\n            'v': 1,\n            'f': \"1\",\n        }],\n [{\n            'v': 11,\n            'f': \"11\",\n        },\n\"Anthony Rowe\",\n{\n            'v': 59,\n            'f': \"59\",\n        },\n\"Married\",\n\"Bachelor's Degree\",\n{\n            'v': 1,\n            'f': \"1\",\n        },\n{\n            'v': 0,\n            'f': \"0\",\n        },\n{\n            'v': 0,\n            'f': \"0\",\n        },\n{\n            'v': 1,\n            'f': \"1\",\n        },\n{\n            'v': 61225.16,\n            'f': \"61225.16\",\n        },\n{\n            'v': 1,\n            'f': \"1\",\n        },\n{\n            'v': 0,\n            'f': \"0\",\n        },\n{\n            'v': 1,\n            'f': \"1\",\n        },\n{\n            'v': 0,\n            'f': \"0\",\n        },\n{\n            'v': 0,\n            'f': \"0\",\n        },\n{\n            'v': 0,\n            'f': \"0\",\n        },\n{\n            'v': 0,\n            'f': \"0\",\n        },\n{\n            'v': 0,\n            'f': \"0\",\n        },\n{\n            'v': 0,\n            'f': \"0\",\n        },\n{\n            'v': 0,\n            'f': \"0\",\n        }],\n [{\n            'v': 12,\n            'f': \"12\",\n        },\n\"Megan Haley\",\n{\n            'v': 33,\n            'f': \"33\",\n        },\n\"Married\",\n\"Bachelor's Degree\",\n{\n            'v': 4,\n            'f': \"4\",\n        },\n{\n            'v': 0,\n            'f': \"0\",\n        },\n{\n            'v': 0,\n            'f': \"0\",\n        },\n{\n            'v': 0,\n            'f': \"0\",\n        },\n{\n            'v': 10145.1,\n            'f': \"10145.1\",\n        },\n{\n            'v': 1,\n            'f': \"1\",\n        },\n{\n            'v': 1,\n            'f': \"1\",\n        },\n{\n            'v': 1,\n            'f': \"1\",\n        },\n{\n            'v': 1,\n            'f': \"1\",\n        },\n{\n            'v': 0,\n            'f': \"0\",\n        },\n{\n            'v': 0,\n            'f': \"0\",\n        },\n{\n            'v': 0,\n            'f': \"0\",\n        },\n{\n            'v': 1,\n            'f': \"1\",\n        },\n{\n            'v': 0,\n            'f': \"0\",\n        },\n{\n            'v': 1,\n            'f': \"1\",\n        }],\n [{\n            'v': 13,\n            'f': \"13\",\n        },\n\"Anne Gonzalez\",\n{\n            'v': 70,\n            'f': \"70\",\n        },\n\"Widowed\",\n\"Master's Degree\",\n{\n            'v': 1,\n            'f': \"1\",\n        },\n{\n            'v': 0,\n            'f': \"0\",\n        },\n{\n            'v': 2,\n            'f': \"2\",\n        },\n{\n            'v': 0,\n            'f': \"0\",\n        },\n{\n            'v': 13428.05,\n            'f': \"13428.05\",\n        },\n{\n            'v': 2,\n            'f': \"2\",\n        },\n{\n            'v': 2,\n            'f': \"2\",\n        },\n{\n            'v': 1,\n            'f': \"1\",\n        },\n{\n            'v': 0,\n            'f': \"0\",\n        },\n{\n            'v': 0,\n            'f': \"0\",\n        },\n{\n            'v': 0,\n            'f': \"0\",\n        },\n{\n            'v': 1,\n            'f': \"1\",\n        },\n{\n            'v': 1,\n            'f': \"1\",\n        },\n{\n            'v': 0,\n            'f': \"0\",\n        },\n{\n            'v': 1,\n            'f': \"1\",\n        }],\n [{\n            'v': 14,\n            'f': \"14\",\n        },\n\"Linda Bush\",\n{\n            'v': 66,\n            'f': \"66\",\n        },\n\"Widowed\",\n\"Bachelor's Degree\",\n{\n            'v': 1,\n            'f': \"1\",\n        },\n{\n            'v': 0,\n            'f': \"0\",\n        },\n{\n            'v': 0,\n            'f': \"0\",\n        },\n{\n            'v': 0,\n            'f': \"0\",\n        },\n{\n            'v': 16853.76,\n            'f': \"16853.76\",\n        },\n{\n            'v': 1,\n            'f': \"1\",\n        },\n{\n            'v': 1,\n            'f': \"1\",\n        },\n{\n            'v': 1,\n            'f': \"1\",\n        },\n{\n            'v': 0,\n            'f': \"0\",\n        },\n{\n            'v': 0,\n            'f': \"0\",\n        },\n{\n            'v': 1,\n            'f': \"1\",\n        },\n{\n            'v': 1,\n            'f': \"1\",\n        },\n{\n            'v': 2,\n            'f': \"2\",\n        },\n{\n            'v': 1,\n            'f': \"1\",\n        },\n{\n            'v': 1,\n            'f': \"1\",\n        }]],\n        columns: [[\"number\", \"index\"], [\"string\", \"Name\"], [\"number\", \"Age\"], [\"string\", \"Marital Status\"], [\"string\", \"Education Level\"], [\"number\", \"Number of Children\"], [\"number\", \"Smoking Status\"], [\"number\", \"Physical Activity Level\"], [\"number\", \"Employment Status\"], [\"number\", \"Income\"], [\"number\", \"Alcohol Consumption\"], [\"number\", \"Dietary Habits\"], [\"number\", \"Sleep Patterns\"], [\"number\", \"History of Mental Illness\"], [\"number\", \"History of Substance Abuse\"], [\"number\", \"Family History of Depression\"], [\"number\", \"Chronic Medical Conditions\"], [\"number\", \"Total_Riesgo\"], [\"number\", \"Alto_Riesgo_Depresion\"], [\"number\", \"Riesgo_Depresion\"]],\n        columnOptions: [{\"width\": \"1px\", \"className\": \"index_column\"}],\n        rowsPerPage: 25,\n        helpUrl: \"https://colab.research.google.com/notebooks/data_table.ipynb\",\n        suppressOutputScrolling: true,\n        minimumWidth: undefined,\n      });\n\n      function appendQuickchartButton(parentElement) {\n        let quickchartButtonContainerElement = document.createElement('div');\n        quickchartButtonContainerElement.innerHTML = `\n<div id=\"df-06f8afcb-5afc-4077-a291-43d5d9d41770\">\n  <button class=\"colab-df-quickchart\" onclick=\"quickchart('df-06f8afcb-5afc-4077-a291-43d5d9d41770')\"\n            title=\"Suggest charts\"\n            style=\"display:none;\">\n    \n<svg xmlns=\"http://www.w3.org/2000/svg\" height=\"24px\"viewBox=\"0 0 24 24\"\n     width=\"24px\">\n    <g>\n        <path d=\"M19 3H5c-1.1 0-2 .9-2 2v14c0 1.1.9 2 2 2h14c1.1 0 2-.9 2-2V5c0-1.1-.9-2-2-2zM9 17H7v-7h2v7zm4 0h-2V7h2v10zm4 0h-2v-4h2v4z\"/>\n    </g>\n</svg>\n  </button>\n  \n<style>\n  .colab-df-quickchart {\n      --bg-color: #E8F0FE;\n      --fill-color: #1967D2;\n      --hover-bg-color: #E2EBFA;\n      --hover-fill-color: #174EA6;\n      --disabled-fill-color: #AAA;\n      --disabled-bg-color: #DDD;\n  }\n\n  [theme=dark] .colab-df-quickchart {\n      --bg-color: #3B4455;\n      --fill-color: #D2E3FC;\n      --hover-bg-color: #434B5C;\n      --hover-fill-color: #FFFFFF;\n      --disabled-bg-color: #3B4455;\n      --disabled-fill-color: #666;\n  }\n\n  .colab-df-quickchart {\n    background-color: var(--bg-color);\n    border: none;\n    border-radius: 50%;\n    cursor: pointer;\n    display: none;\n    fill: var(--fill-color);\n    height: 32px;\n    padding: 0;\n    width: 32px;\n  }\n\n  .colab-df-quickchart:hover {\n    background-color: var(--hover-bg-color);\n    box-shadow: 0 1px 2px rgba(60, 64, 67, 0.3), 0 1px 3px 1px rgba(60, 64, 67, 0.15);\n    fill: var(--button-hover-fill-color);\n  }\n\n  .colab-df-quickchart-complete:disabled,\n  .colab-df-quickchart-complete:disabled:hover {\n    background-color: var(--disabled-bg-color);\n    fill: var(--disabled-fill-color);\n    box-shadow: none;\n  }\n\n  .colab-df-spinner {\n    border: 2px solid var(--fill-color);\n    border-color: transparent;\n    border-bottom-color: var(--fill-color);\n    animation:\n      spin 1s steps(1) infinite;\n  }\n\n  @keyframes spin {\n    0% {\n      border-color: transparent;\n      border-bottom-color: var(--fill-color);\n      border-left-color: var(--fill-color);\n    }\n    20% {\n      border-color: transparent;\n      border-left-color: var(--fill-color);\n      border-top-color: var(--fill-color);\n    }\n    30% {\n      border-color: transparent;\n      border-left-color: var(--fill-color);\n      border-top-color: var(--fill-color);\n      border-right-color: var(--fill-color);\n    }\n    40% {\n      border-color: transparent;\n      border-right-color: var(--fill-color);\n      border-top-color: var(--fill-color);\n    }\n    60% {\n      border-color: transparent;\n      border-right-color: var(--fill-color);\n    }\n    80% {\n      border-color: transparent;\n      border-right-color: var(--fill-color);\n      border-bottom-color: var(--fill-color);\n    }\n    90% {\n      border-color: transparent;\n      border-bottom-color: var(--fill-color);\n    }\n  }\n</style>\n\n  <script>\n    async function quickchart(key) {\n      const quickchartButtonEl =\n        document.querySelector('#' + key + ' button');\n      quickchartButtonEl.disabled = true;  // To prevent multiple clicks.\n      quickchartButtonEl.classList.add('colab-df-spinner');\n      try {\n        const charts = await google.colab.kernel.invokeFunction(\n            'suggestCharts', [key], {});\n      } catch (error) {\n        console.error('Error during call to suggestCharts:', error);\n      }\n      quickchartButtonEl.classList.remove('colab-df-spinner');\n      quickchartButtonEl.classList.add('colab-df-quickchart-complete');\n    }\n    (() => {\n      let quickchartButtonEl =\n        document.querySelector('#df-06f8afcb-5afc-4077-a291-43d5d9d41770 button');\n      quickchartButtonEl.style.display =\n        google.colab.kernel.accessAllowed ? 'block' : 'none';\n    })();\n  </script>\n</div>`;\n        parentElement.appendChild(quickchartButtonContainerElement);\n      }\n\n      appendQuickchartButton(table);\n    "
          },
          "metadata": {},
          "execution_count": 116
        }
      ]
    },
    {
      "cell_type": "markdown",
      "source": [
        "### Selección de variable objetivo y variables independientes"
      ],
      "metadata": {
        "id": "Vuklc3dA7GUD"
      }
    },
    {
      "cell_type": "code",
      "source": [
        "X = depresion_df.drop(['Alto_Riesgo_Depresion','Name', 'Marital Status', 'Education Level'], axis=1)\n",
        "y = depresion_df['Alto_Riesgo_Depresion']"
      ],
      "metadata": {
        "id": "UTkzqMGd7RJf"
      },
      "execution_count": null,
      "outputs": []
    },
    {
      "cell_type": "code",
      "source": [
        "# Variables independientes\n",
        "X.columns"
      ],
      "metadata": {
        "colab": {
          "base_uri": "https://localhost:8080/"
        },
        "id": "zNZaUsSA7iRk",
        "outputId": "16fd06a0-d022-4f6d-e8af-f03fd20c68d1"
      },
      "execution_count": null,
      "outputs": [
        {
          "output_type": "execute_result",
          "data": {
            "text/plain": [
              "Index(['Age', 'Number of Children', 'Smoking Status',\n",
              "       'Physical Activity Level', 'Employment Status', 'Income',\n",
              "       'Alcohol Consumption', 'Dietary Habits', 'Sleep Patterns',\n",
              "       'History of Mental Illness', 'History of Substance Abuse',\n",
              "       'Family History of Depression', 'Chronic Medical Conditions',\n",
              "       'Total_Riesgo', 'Riesgo_Depresion'],\n",
              "      dtype='object')"
            ]
          },
          "metadata": {},
          "execution_count": 118
        }
      ]
    },
    {
      "cell_type": "code",
      "source": [
        "# Variable dependiente\n",
        "y.sample(15)"
      ],
      "metadata": {
        "colab": {
          "base_uri": "https://localhost:8080/",
          "height": 554
        },
        "id": "ure-Se8n7mMV",
        "outputId": "19087103-9228-4098-a9dd-a1ae7ead6122"
      },
      "execution_count": null,
      "outputs": [
        {
          "output_type": "execute_result",
          "data": {
            "text/plain": [
              "106716    0\n",
              "264881    0\n",
              "206401    0\n",
              "45166     0\n",
              "218017    0\n",
              "71023     0\n",
              "369926    0\n",
              "306543    0\n",
              "62636     0\n",
              "383123    0\n",
              "75125     1\n",
              "138340    0\n",
              "387433    0\n",
              "249407    0\n",
              "215908    0\n",
              "Name: Alto_Riesgo_Depresion, dtype: int64"
            ],
            "text/html": [
              "<div>\n",
              "<style scoped>\n",
              "    .dataframe tbody tr th:only-of-type {\n",
              "        vertical-align: middle;\n",
              "    }\n",
              "\n",
              "    .dataframe tbody tr th {\n",
              "        vertical-align: top;\n",
              "    }\n",
              "\n",
              "    .dataframe thead th {\n",
              "        text-align: right;\n",
              "    }\n",
              "</style>\n",
              "<table border=\"1\" class=\"dataframe\">\n",
              "  <thead>\n",
              "    <tr style=\"text-align: right;\">\n",
              "      <th></th>\n",
              "      <th>Alto_Riesgo_Depresion</th>\n",
              "    </tr>\n",
              "  </thead>\n",
              "  <tbody>\n",
              "    <tr>\n",
              "      <th>106716</th>\n",
              "      <td>0</td>\n",
              "    </tr>\n",
              "    <tr>\n",
              "      <th>264881</th>\n",
              "      <td>0</td>\n",
              "    </tr>\n",
              "    <tr>\n",
              "      <th>206401</th>\n",
              "      <td>0</td>\n",
              "    </tr>\n",
              "    <tr>\n",
              "      <th>45166</th>\n",
              "      <td>0</td>\n",
              "    </tr>\n",
              "    <tr>\n",
              "      <th>218017</th>\n",
              "      <td>0</td>\n",
              "    </tr>\n",
              "    <tr>\n",
              "      <th>71023</th>\n",
              "      <td>0</td>\n",
              "    </tr>\n",
              "    <tr>\n",
              "      <th>369926</th>\n",
              "      <td>0</td>\n",
              "    </tr>\n",
              "    <tr>\n",
              "      <th>306543</th>\n",
              "      <td>0</td>\n",
              "    </tr>\n",
              "    <tr>\n",
              "      <th>62636</th>\n",
              "      <td>0</td>\n",
              "    </tr>\n",
              "    <tr>\n",
              "      <th>383123</th>\n",
              "      <td>0</td>\n",
              "    </tr>\n",
              "    <tr>\n",
              "      <th>75125</th>\n",
              "      <td>1</td>\n",
              "    </tr>\n",
              "    <tr>\n",
              "      <th>138340</th>\n",
              "      <td>0</td>\n",
              "    </tr>\n",
              "    <tr>\n",
              "      <th>387433</th>\n",
              "      <td>0</td>\n",
              "    </tr>\n",
              "    <tr>\n",
              "      <th>249407</th>\n",
              "      <td>0</td>\n",
              "    </tr>\n",
              "    <tr>\n",
              "      <th>215908</th>\n",
              "      <td>0</td>\n",
              "    </tr>\n",
              "  </tbody>\n",
              "</table>\n",
              "</div><br><label><b>dtype:</b> int64</label>"
            ]
          },
          "metadata": {},
          "execution_count": 119
        }
      ]
    },
    {
      "cell_type": "markdown",
      "source": [
        "# **Modelos**"
      ],
      "metadata": {
        "id": "t4TeFG6G5NsP"
      }
    },
    {
      "cell_type": "markdown",
      "source": [
        "## Modelo de regresión logística"
      ],
      "metadata": {
        "id": "FrolXub-5TJJ"
      }
    },
    {
      "cell_type": "markdown",
      "source": [
        "### Librerías necesarias para la implementación"
      ],
      "metadata": {
        "id": "9oIjZNem5l6I"
      }
    },
    {
      "cell_type": "code",
      "source": [
        "from sklearn.model_selection import train_test_split\n",
        "from sklearn.linear_model import LogisticRegression\n",
        "from sklearn.metrics import classification_report, confusion_matrix, accuracy_score"
      ],
      "metadata": {
        "id": "jGnNmrUh5rBY"
      },
      "execution_count": null,
      "outputs": []
    },
    {
      "cell_type": "markdown",
      "source": [
        "### Definición de datos en conjuntos de entrenamiento y prueba"
      ],
      "metadata": {
        "id": "cZ_2QoVl8QHY"
      }
    },
    {
      "cell_type": "code",
      "source": [
        "# Establezco un entrenamiento del 70% y una prueba del 30%\n",
        "X_train, X_test, y_train, y_test = train_test_split(X, y, test_size=0.3, random_state=42)"
      ],
      "metadata": {
        "id": "5Keo95nz8XVG"
      },
      "execution_count": null,
      "outputs": []
    },
    {
      "cell_type": "code",
      "source": [
        "# Insto al modelo de regresión logística\n",
        "logreg = LogisticRegression()\n",
        "\n",
        "# Entreno el modelo con los datos de entrenamiento\n",
        "logreg.fit(X_train, y_train)"
      ],
      "metadata": {
        "colab": {
          "base_uri": "https://localhost:8080/",
          "height": 75
        },
        "id": "m8r7qUb68nuj",
        "outputId": "aac43cc8-9b79-48c0-a799-c7eecd341bfe"
      },
      "execution_count": null,
      "outputs": [
        {
          "output_type": "execute_result",
          "data": {
            "text/plain": [
              "LogisticRegression()"
            ],
            "text/html": [
              "<style>#sk-container-id-5 {color: black;}#sk-container-id-5 pre{padding: 0;}#sk-container-id-5 div.sk-toggleable {background-color: white;}#sk-container-id-5 label.sk-toggleable__label {cursor: pointer;display: block;width: 100%;margin-bottom: 0;padding: 0.3em;box-sizing: border-box;text-align: center;}#sk-container-id-5 label.sk-toggleable__label-arrow:before {content: \"▸\";float: left;margin-right: 0.25em;color: #696969;}#sk-container-id-5 label.sk-toggleable__label-arrow:hover:before {color: black;}#sk-container-id-5 div.sk-estimator:hover label.sk-toggleable__label-arrow:before {color: black;}#sk-container-id-5 div.sk-toggleable__content {max-height: 0;max-width: 0;overflow: hidden;text-align: left;background-color: #f0f8ff;}#sk-container-id-5 div.sk-toggleable__content pre {margin: 0.2em;color: black;border-radius: 0.25em;background-color: #f0f8ff;}#sk-container-id-5 input.sk-toggleable__control:checked~div.sk-toggleable__content {max-height: 200px;max-width: 100%;overflow: auto;}#sk-container-id-5 input.sk-toggleable__control:checked~label.sk-toggleable__label-arrow:before {content: \"▾\";}#sk-container-id-5 div.sk-estimator input.sk-toggleable__control:checked~label.sk-toggleable__label {background-color: #d4ebff;}#sk-container-id-5 div.sk-label input.sk-toggleable__control:checked~label.sk-toggleable__label {background-color: #d4ebff;}#sk-container-id-5 input.sk-hidden--visually {border: 0;clip: rect(1px 1px 1px 1px);clip: rect(1px, 1px, 1px, 1px);height: 1px;margin: -1px;overflow: hidden;padding: 0;position: absolute;width: 1px;}#sk-container-id-5 div.sk-estimator {font-family: monospace;background-color: #f0f8ff;border: 1px dotted black;border-radius: 0.25em;box-sizing: border-box;margin-bottom: 0.5em;}#sk-container-id-5 div.sk-estimator:hover {background-color: #d4ebff;}#sk-container-id-5 div.sk-parallel-item::after {content: \"\";width: 100%;border-bottom: 1px solid gray;flex-grow: 1;}#sk-container-id-5 div.sk-label:hover label.sk-toggleable__label {background-color: #d4ebff;}#sk-container-id-5 div.sk-serial::before {content: \"\";position: absolute;border-left: 1px solid gray;box-sizing: border-box;top: 0;bottom: 0;left: 50%;z-index: 0;}#sk-container-id-5 div.sk-serial {display: flex;flex-direction: column;align-items: center;background-color: white;padding-right: 0.2em;padding-left: 0.2em;position: relative;}#sk-container-id-5 div.sk-item {position: relative;z-index: 1;}#sk-container-id-5 div.sk-parallel {display: flex;align-items: stretch;justify-content: center;background-color: white;position: relative;}#sk-container-id-5 div.sk-item::before, #sk-container-id-5 div.sk-parallel-item::before {content: \"\";position: absolute;border-left: 1px solid gray;box-sizing: border-box;top: 0;bottom: 0;left: 50%;z-index: -1;}#sk-container-id-5 div.sk-parallel-item {display: flex;flex-direction: column;z-index: 1;position: relative;background-color: white;}#sk-container-id-5 div.sk-parallel-item:first-child::after {align-self: flex-end;width: 50%;}#sk-container-id-5 div.sk-parallel-item:last-child::after {align-self: flex-start;width: 50%;}#sk-container-id-5 div.sk-parallel-item:only-child::after {width: 0;}#sk-container-id-5 div.sk-dashed-wrapped {border: 1px dashed gray;margin: 0 0.4em 0.5em 0.4em;box-sizing: border-box;padding-bottom: 0.4em;background-color: white;}#sk-container-id-5 div.sk-label label {font-family: monospace;font-weight: bold;display: inline-block;line-height: 1.2em;}#sk-container-id-5 div.sk-label-container {text-align: center;}#sk-container-id-5 div.sk-container {/* jupyter's `normalize.less` sets `[hidden] { display: none; }` but bootstrap.min.css set `[hidden] { display: none !important; }` so we also need the `!important` here to be able to override the default hidden behavior on the sphinx rendered scikit-learn.org. See: https://github.com/scikit-learn/scikit-learn/issues/21755 */display: inline-block !important;position: relative;}#sk-container-id-5 div.sk-text-repr-fallback {display: none;}</style><div id=\"sk-container-id-5\" class=\"sk-top-container\"><div class=\"sk-text-repr-fallback\"><pre>LogisticRegression()</pre><b>In a Jupyter environment, please rerun this cell to show the HTML representation or trust the notebook. <br />On GitHub, the HTML representation is unable to render, please try loading this page with nbviewer.org.</b></div><div class=\"sk-container\" hidden><div class=\"sk-item\"><div class=\"sk-estimator sk-toggleable\"><input class=\"sk-toggleable__control sk-hidden--visually\" id=\"sk-estimator-id-5\" type=\"checkbox\" checked><label for=\"sk-estimator-id-5\" class=\"sk-toggleable__label sk-toggleable__label-arrow\">LogisticRegression</label><div class=\"sk-toggleable__content\"><pre>LogisticRegression()</pre></div></div></div></div></div>"
            ]
          },
          "metadata": {},
          "execution_count": 122
        }
      ]
    },
    {
      "cell_type": "code",
      "source": [
        "y_pred = logreg.predict(X_test)"
      ],
      "metadata": {
        "id": "BxOkULqD9wDh"
      },
      "execution_count": null,
      "outputs": []
    },
    {
      "cell_type": "code",
      "source": [
        "print(confusion_matrix(y_test, y_pred))\n",
        "print(classification_report(y_test, y_pred))"
      ],
      "metadata": {
        "colab": {
          "base_uri": "https://localhost:8080/"
        },
        "id": "c8qOAnAd9yHl",
        "outputId": "944aa0d2-0cd1-4835-ea5e-520e937e1d17"
      },
      "execution_count": null,
      "outputs": [
        {
          "output_type": "stream",
          "name": "stdout",
          "text": [
            "[[97020     0]\n",
            " [27111     0]]\n",
            "              precision    recall  f1-score   support\n",
            "\n",
            "           0       0.78      1.00      0.88     97020\n",
            "           1       0.00      0.00      0.00     27111\n",
            "\n",
            "    accuracy                           0.78    124131\n",
            "   macro avg       0.39      0.50      0.44    124131\n",
            "weighted avg       0.61      0.78      0.69    124131\n",
            "\n"
          ]
        },
        {
          "output_type": "stream",
          "name": "stderr",
          "text": [
            "/usr/local/lib/python3.10/dist-packages/sklearn/metrics/_classification.py:1471: UndefinedMetricWarning: Precision and F-score are ill-defined and being set to 0.0 in labels with no predicted samples. Use `zero_division` parameter to control this behavior.\n",
            "  _warn_prf(average, modifier, msg_start, len(result))\n",
            "/usr/local/lib/python3.10/dist-packages/sklearn/metrics/_classification.py:1471: UndefinedMetricWarning: Precision and F-score are ill-defined and being set to 0.0 in labels with no predicted samples. Use `zero_division` parameter to control this behavior.\n",
            "  _warn_prf(average, modifier, msg_start, len(result))\n",
            "/usr/local/lib/python3.10/dist-packages/sklearn/metrics/_classification.py:1471: UndefinedMetricWarning: Precision and F-score are ill-defined and being set to 0.0 in labels with no predicted samples. Use `zero_division` parameter to control this behavior.\n",
            "  _warn_prf(average, modifier, msg_start, len(result))\n"
          ]
        }
      ]
    },
    {
      "cell_type": "code",
      "source": [
        "# Creo la matriz de confusion\n",
        "confusion_mtx = confusion_matrix(y_test, y_pred)\n",
        "\n",
        "# Imprimo la matriz de confusión\n",
        "print(\"Matriz de confusión:\")\n",
        "print(confusion_mtx)\n",
        "\n",
        "# Creo el heatmap\n",
        "g = sns.heatmap(confusion_mtx, annot=True, cmap='Blues', fmt='d')\n",
        "\n",
        "# Ajusto las etiquetas del eje x e y\n",
        "g.set(title='Matriz de confusión', ylabel ='Valor real', xlabel='Predicción')\n",
        "g.set_xticklabels(['No depresión', 'Depresión'])\n",
        "g.set_yticklabels(['No depresión', 'Depresión'])\n",
        "\n",
        "plt.show()"
      ],
      "metadata": {
        "colab": {
          "base_uri": "https://localhost:8080/",
          "height": 524
        },
        "id": "rQ50QaVvLlxR",
        "outputId": "c7283c19-94f1-4b74-d280-1e8af5add7e8"
      },
      "execution_count": null,
      "outputs": [
        {
          "output_type": "stream",
          "name": "stdout",
          "text": [
            "Matriz de confusión:\n",
            "[[97020     0]\n",
            " [27111     0]]\n"
          ]
        },
        {
          "output_type": "display_data",
          "data": {
            "text/plain": [
              "<Figure size 640x480 with 2 Axes>"
            ],
            "image/png": "[encoded data removed]"
          },
          "metadata": {}
        }
      ]
    },
    {
      "cell_type": "markdown",
      "source": [
        "**Conclusiones parciales sobre la regresión logística aplicada**\n",
        "Con los valores propuestos y obtenidos, si bien se puede determinar la eficacia del modelo en un 78% para predecir los casos que no tienen riesgo de sufrir depresión en concordancia con los que no lo sufrieron, para predecir el riesgo de poder sufrir dicho síndrome el modelo no funciona. Por tal motivo se procede a cambiar el \"random_state=42\" a un numero ligeramente mayor con el fin de aumentar la cantidad de valores dentro de cada iteración para poder hacer más representativo el valor de la clase; en este caso, minoritaria."
      ],
      "metadata": {
        "id": "NSodTseGCkkh"
      }
    },
    {
      "cell_type": "code",
      "source": [
        "# Establezco un entrenamiento del 70% y una prueba del 30%\n",
        "X_train, X_test, y_train, y_test = train_test_split(X, y, test_size=0.3, random_state=65)"
      ],
      "metadata": {
        "id": "kDVMtSsNDJVx"
      },
      "execution_count": null,
      "outputs": []
    },
    {
      "cell_type": "code",
      "source": [
        "# Insto al modelo de regresión logística\n",
        "logreg = LogisticRegression()\n",
        "\n",
        "# Entreno el modelo con los datos de entrenamiento\n",
        "logreg.fit(X_train, y_train)"
      ],
      "metadata": {
        "colab": {
          "base_uri": "https://localhost:8080/",
          "height": 75
        },
        "id": "5P4ijR9lDQ3k",
        "outputId": "a93ebfed-9f15-4fc5-a464-06fc621e4835"
      },
      "execution_count": null,
      "outputs": [
        {
          "output_type": "execute_result",
          "data": {
            "text/plain": [
              "LogisticRegression()"
            ],
            "text/html": [
              "<style>#sk-container-id-6 {color: black;}#sk-container-id-6 pre{padding: 0;}#sk-container-id-6 div.sk-toggleable {background-color: white;}#sk-container-id-6 label.sk-toggleable__label {cursor: pointer;display: block;width: 100%;margin-bottom: 0;padding: 0.3em;box-sizing: border-box;text-align: center;}#sk-container-id-6 label.sk-toggleable__label-arrow:before {content: \"▸\";float: left;margin-right: 0.25em;color: #696969;}#sk-container-id-6 label.sk-toggleable__label-arrow:hover:before {color: black;}#sk-container-id-6 div.sk-estimator:hover label.sk-toggleable__label-arrow:before {color: black;}#sk-container-id-6 div.sk-toggleable__content {max-height: 0;max-width: 0;overflow: hidden;text-align: left;background-color: #f0f8ff;}#sk-container-id-6 div.sk-toggleable__content pre {margin: 0.2em;color: black;border-radius: 0.25em;background-color: #f0f8ff;}#sk-container-id-6 input.sk-toggleable__control:checked~div.sk-toggleable__content {max-height: 200px;max-width: 100%;overflow: auto;}#sk-container-id-6 input.sk-toggleable__control:checked~label.sk-toggleable__label-arrow:before {content: \"▾\";}#sk-container-id-6 div.sk-estimator input.sk-toggleable__control:checked~label.sk-toggleable__label {background-color: #d4ebff;}#sk-container-id-6 div.sk-label input.sk-toggleable__control:checked~label.sk-toggleable__label {background-color: #d4ebff;}#sk-container-id-6 input.sk-hidden--visually {border: 0;clip: rect(1px 1px 1px 1px);clip: rect(1px, 1px, 1px, 1px);height: 1px;margin: -1px;overflow: hidden;padding: 0;position: absolute;width: 1px;}#sk-container-id-6 div.sk-estimator {font-family: monospace;background-color: #f0f8ff;border: 1px dotted black;border-radius: 0.25em;box-sizing: border-box;margin-bottom: 0.5em;}#sk-container-id-6 div.sk-estimator:hover {background-color: #d4ebff;}#sk-container-id-6 div.sk-parallel-item::after {content: \"\";width: 100%;border-bottom: 1px solid gray;flex-grow: 1;}#sk-container-id-6 div.sk-label:hover label.sk-toggleable__label {background-color: #d4ebff;}#sk-container-id-6 div.sk-serial::before {content: \"\";position: absolute;border-left: 1px solid gray;box-sizing: border-box;top: 0;bottom: 0;left: 50%;z-index: 0;}#sk-container-id-6 div.sk-serial {display: flex;flex-direction: column;align-items: center;background-color: white;padding-right: 0.2em;padding-left: 0.2em;position: relative;}#sk-container-id-6 div.sk-item {position: relative;z-index: 1;}#sk-container-id-6 div.sk-parallel {display: flex;align-items: stretch;justify-content: center;background-color: white;position: relative;}#sk-container-id-6 div.sk-item::before, #sk-container-id-6 div.sk-parallel-item::before {content: \"\";position: absolute;border-left: 1px solid gray;box-sizing: border-box;top: 0;bottom: 0;left: 50%;z-index: -1;}#sk-container-id-6 div.sk-parallel-item {display: flex;flex-direction: column;z-index: 1;position: relative;background-color: white;}#sk-container-id-6 div.sk-parallel-item:first-child::after {align-self: flex-end;width: 50%;}#sk-container-id-6 div.sk-parallel-item:last-child::after {align-self: flex-start;width: 50%;}#sk-container-id-6 div.sk-parallel-item:only-child::after {width: 0;}#sk-container-id-6 div.sk-dashed-wrapped {border: 1px dashed gray;margin: 0 0.4em 0.5em 0.4em;box-sizing: border-box;padding-bottom: 0.4em;background-color: white;}#sk-container-id-6 div.sk-label label {font-family: monospace;font-weight: bold;display: inline-block;line-height: 1.2em;}#sk-container-id-6 div.sk-label-container {text-align: center;}#sk-container-id-6 div.sk-container {/* jupyter's `normalize.less` sets `[hidden] { display: none; }` but bootstrap.min.css set `[hidden] { display: none !important; }` so we also need the `!important` here to be able to override the default hidden behavior on the sphinx rendered scikit-learn.org. See: https://github.com/scikit-learn/scikit-learn/issues/21755 */display: inline-block !important;position: relative;}#sk-container-id-6 div.sk-text-repr-fallback {display: none;}</style><div id=\"sk-container-id-6\" class=\"sk-top-container\"><div class=\"sk-text-repr-fallback\"><pre>LogisticRegression()</pre><b>In a Jupyter environment, please rerun this cell to show the HTML representation or trust the notebook. <br />On GitHub, the HTML representation is unable to render, please try loading this page with nbviewer.org.</b></div><div class=\"sk-container\" hidden><div class=\"sk-item\"><div class=\"sk-estimator sk-toggleable\"><input class=\"sk-toggleable__control sk-hidden--visually\" id=\"sk-estimator-id-6\" type=\"checkbox\" checked><label for=\"sk-estimator-id-6\" class=\"sk-toggleable__label sk-toggleable__label-arrow\">LogisticRegression</label><div class=\"sk-toggleable__content\"><pre>LogisticRegression()</pre></div></div></div></div></div>"
            ]
          },
          "metadata": {},
          "execution_count": 127
        }
      ]
    },
    {
      "cell_type": "code",
      "source": [
        "y_pred = logreg.predict(X_test)"
      ],
      "metadata": {
        "id": "vQgMb2llDT_t"
      },
      "execution_count": null,
      "outputs": []
    },
    {
      "cell_type": "code",
      "source": [
        "print(classification_report(y_test, y_pred))"
      ],
      "metadata": {
        "colab": {
          "base_uri": "https://localhost:8080/"
        },
        "id": "c7FCEkgHDW-k",
        "outputId": "f9fd2802-6fbc-4eb3-dbf3-1a578c261881"
      },
      "execution_count": null,
      "outputs": [
        {
          "output_type": "stream",
          "name": "stdout",
          "text": [
            "              precision    recall  f1-score   support\n",
            "\n",
            "           0       0.97      0.92      0.94     97215\n",
            "           1       0.76      0.88      0.81     26916\n",
            "\n",
            "    accuracy                           0.91    124131\n",
            "   macro avg       0.86      0.90      0.88    124131\n",
            "weighted avg       0.92      0.91      0.91    124131\n",
            "\n"
          ]
        }
      ]
    },
    {
      "cell_type": "code",
      "source": [
        "# Creo la matriz de confusion\n",
        "confusion_mtx = confusion_matrix(y_test, y_pred)\n",
        "\n",
        "# Imprimo la matriz de confusión\n",
        "print(\"Matriz de confusión:\")\n",
        "print(confusion_mtx)\n",
        "\n",
        "# Creo el heatmap\n",
        "g = sns.heatmap(confusion_mtx, annot=True, cmap='Blues', fmt='d')\n",
        "\n",
        "# Ajusto las etiquetas del eje x e y\n",
        "g.set(title='Matriz de confusión', ylabel ='Valor real', xlabel='Predicción')\n",
        "g.set_xticklabels(['No depresión', 'Depresión'])\n",
        "g.set_yticklabels(['No depresión', 'Depresión'])\n",
        "\n",
        "plt.show()"
      ],
      "metadata": {
        "colab": {
          "base_uri": "https://localhost:8080/",
          "height": 524
        },
        "id": "dskDuiHMDbI6",
        "outputId": "d874eef8-9abe-4cf9-abfd-6691673276a0"
      },
      "execution_count": null,
      "outputs": [
        {
          "output_type": "stream",
          "name": "stdout",
          "text": [
            "Matriz de confusión:\n",
            "[[89544  7671]\n",
            " [ 3236 23680]]\n"
          ]
        },
        {
          "output_type": "display_data",
          "data": {
            "text/plain": [
              "<Figure size 640x480 with 2 Axes>"
            ],
            "image/png": "[encoded data removed]"
          },
          "metadata": {}
        }
      ]
    },
    {
      "cell_type": "markdown",
      "source": [
        "**Conclusiones sobre el nuevo gráfico de regresión logística**\n",
        "Esta vez, como consecuencia de haber realizado el modelo con un random_state=65, se puede apreciar que si bien sigue prediciendo con mayor exactitud los casos que no poseen depresión, ahora el grado de precisión sobre los que si la poseen aumentó drásticamente; con una sensibilidad del 88% (frente al 0% mostrado precedentemente). Por tal motivo, el f1-score mejora en la predicción con los casos con el síndrome.\n",
        "Al haber obtenido estos nuevos resultados, también mejora el accuracy (ahora con el 91% de efectividad prediciendo tanto los casos con como sin depresión)"
      ],
      "metadata": {
        "id": "Jtoc3yaUDn0C"
      }
    },
    {
      "cell_type": "markdown",
      "source": [
        "## Arbol de Decisión"
      ],
      "metadata": {
        "id": "nH4wmGppVWRW"
      }
    },
    {
      "cell_type": "code",
      "source": [
        "# Importo librerías para realizar un árbol de decisión\n",
        "from sklearn.model_selection import train_test_split\n",
        "from sklearn.tree import DecisionTreeClassifier\n",
        "from sklearn.tree import plot_tree\n"
      ],
      "metadata": {
        "id": "qpEUgbODT5Yv"
      },
      "execution_count": null,
      "outputs": []
    },
    {
      "cell_type": "code",
      "source": [
        "X_train, X_test, y_train, y_test = train_test_split(X, y, test_size=0.3, random_state=42)"
      ],
      "metadata": {
        "id": "_DbZFdktT9mo"
      },
      "execution_count": null,
      "outputs": []
    },
    {
      "cell_type": "code",
      "source": [
        "model = DecisionTreeClassifier(random_state=42)\n",
        "model.fit(X_train, y_train)"
      ],
      "metadata": {
        "colab": {
          "base_uri": "https://localhost:8080/",
          "height": 75
        },
        "id": "BFl6A0yIUGAE",
        "outputId": "17ff5eff-21bf-46c3-86c6-7f6a70495ea3"
      },
      "execution_count": null,
      "outputs": [
        {
          "output_type": "execute_result",
          "data": {
            "text/plain": [
              "DecisionTreeClassifier(random_state=42)"
            ],
            "text/html": [
              "<style>#sk-container-id-7 {color: black;}#sk-container-id-7 pre{padding: 0;}#sk-container-id-7 div.sk-toggleable {background-color: white;}#sk-container-id-7 label.sk-toggleable__label {cursor: pointer;display: block;width: 100%;margin-bottom: 0;padding: 0.3em;box-sizing: border-box;text-align: center;}#sk-container-id-7 label.sk-toggleable__label-arrow:before {content: \"▸\";float: left;margin-right: 0.25em;color: #696969;}#sk-container-id-7 label.sk-toggleable__label-arrow:hover:before {color: black;}#sk-container-id-7 div.sk-estimator:hover label.sk-toggleable__label-arrow:before {color: black;}#sk-container-id-7 div.sk-toggleable__content {max-height: 0;max-width: 0;overflow: hidden;text-align: left;background-color: #f0f8ff;}#sk-container-id-7 div.sk-toggleable__content pre {margin: 0.2em;color: black;border-radius: 0.25em;background-color: #f0f8ff;}#sk-container-id-7 input.sk-toggleable__control:checked~div.sk-toggleable__content {max-height: 200px;max-width: 100%;overflow: auto;}#sk-container-id-7 input.sk-toggleable__control:checked~label.sk-toggleable__label-arrow:before {content: \"▾\";}#sk-container-id-7 div.sk-estimator input.sk-toggleable__control:checked~label.sk-toggleable__label {background-color: #d4ebff;}#sk-container-id-7 div.sk-label input.sk-toggleable__control:checked~label.sk-toggleable__label {background-color: #d4ebff;}#sk-container-id-7 input.sk-hidden--visually {border: 0;clip: rect(1px 1px 1px 1px);clip: rect(1px, 1px, 1px, 1px);height: 1px;margin: -1px;overflow: hidden;padding: 0;position: absolute;width: 1px;}#sk-container-id-7 div.sk-estimator {font-family: monospace;background-color: #f0f8ff;border: 1px dotted black;border-radius: 0.25em;box-sizing: border-box;margin-bottom: 0.5em;}#sk-container-id-7 div.sk-estimator:hover {background-color: #d4ebff;}#sk-container-id-7 div.sk-parallel-item::after {content: \"\";width: 100%;border-bottom: 1px solid gray;flex-grow: 1;}#sk-container-id-7 div.sk-label:hover label.sk-toggleable__label {background-color: #d4ebff;}#sk-container-id-7 div.sk-serial::before {content: \"\";position: absolute;border-left: 1px solid gray;box-sizing: border-box;top: 0;bottom: 0;left: 50%;z-index: 0;}#sk-container-id-7 div.sk-serial {display: flex;flex-direction: column;align-items: center;background-color: white;padding-right: 0.2em;padding-left: 0.2em;position: relative;}#sk-container-id-7 div.sk-item {position: relative;z-index: 1;}#sk-container-id-7 div.sk-parallel {display: flex;align-items: stretch;justify-content: center;background-color: white;position: relative;}#sk-container-id-7 div.sk-item::before, #sk-container-id-7 div.sk-parallel-item::before {content: \"\";position: absolute;border-left: 1px solid gray;box-sizing: border-box;top: 0;bottom: 0;left: 50%;z-index: -1;}#sk-container-id-7 div.sk-parallel-item {display: flex;flex-direction: column;z-index: 1;position: relative;background-color: white;}#sk-container-id-7 div.sk-parallel-item:first-child::after {align-self: flex-end;width: 50%;}#sk-container-id-7 div.sk-parallel-item:last-child::after {align-self: flex-start;width: 50%;}#sk-container-id-7 div.sk-parallel-item:only-child::after {width: 0;}#sk-container-id-7 div.sk-dashed-wrapped {border: 1px dashed gray;margin: 0 0.4em 0.5em 0.4em;box-sizing: border-box;padding-bottom: 0.4em;background-color: white;}#sk-container-id-7 div.sk-label label {font-family: monospace;font-weight: bold;display: inline-block;line-height: 1.2em;}#sk-container-id-7 div.sk-label-container {text-align: center;}#sk-container-id-7 div.sk-container {/* jupyter's `normalize.less` sets `[hidden] { display: none; }` but bootstrap.min.css set `[hidden] { display: none !important; }` so we also need the `!important` here to be able to override the default hidden behavior on the sphinx rendered scikit-learn.org. See: https://github.com/scikit-learn/scikit-learn/issues/21755 */display: inline-block !important;position: relative;}#sk-container-id-7 div.sk-text-repr-fallback {display: none;}</style><div id=\"sk-container-id-7\" class=\"sk-top-container\"><div class=\"sk-text-repr-fallback\"><pre>DecisionTreeClassifier(random_state=42)</pre><b>In a Jupyter environment, please rerun this cell to show the HTML representation or trust the notebook. <br />On GitHub, the HTML representation is unable to render, please try loading this page with nbviewer.org.</b></div><div class=\"sk-container\" hidden><div class=\"sk-item\"><div class=\"sk-estimator sk-toggleable\"><input class=\"sk-toggleable__control sk-hidden--visually\" id=\"sk-estimator-id-7\" type=\"checkbox\" checked><label for=\"sk-estimator-id-7\" class=\"sk-toggleable__label sk-toggleable__label-arrow\">DecisionTreeClassifier</label><div class=\"sk-toggleable__content\"><pre>DecisionTreeClassifier(random_state=42)</pre></div></div></div></div></div>"
            ]
          },
          "metadata": {},
          "execution_count": 133
        }
      ]
    },
    {
      "cell_type": "code",
      "source": [
        "#Evaluación del modelo predictor\n",
        "predictions = model.predict(X_test)\n",
        "\n",
        "# Calculo la precisión del modelo predictor\n",
        "accuracy = accuracy_score(y_test, predictions)\n",
        "print(f'Accuracy: {accuracy}')\n",
        "\n",
        "# Mostrar la matriz de confusión\n",
        "cm = confusion_matrix(y_test, predictions)\n",
        "print(cm)\n",
        "\n",
        "# Creo el heatmap\n",
        "g = sns.heatmap(cm, annot=True, cmap='Greens', fmt='d')\n",
        "\n",
        "# Ajusto las etiquetas del eje x e y\n",
        "g.set(title='Matriz de confusión', ylabel ='Valor real', xlabel='Predicción')"
      ],
      "metadata": {
        "colab": {
          "base_uri": "https://localhost:8080/",
          "height": 576
        },
        "id": "oTfWKgrBUKwz",
        "outputId": "8390c427-4f9a-4f30-c6c4-a93ff404a313"
      },
      "execution_count": null,
      "outputs": [
        {
          "output_type": "stream",
          "name": "stdout",
          "text": [
            "Accuracy: 1.0\n",
            "[[97020     0]\n",
            " [    0 27111]]\n"
          ]
        },
        {
          "output_type": "execute_result",
          "data": {
            "text/plain": [
              "[Text(0.5, 1.0, 'Matriz de confusión'),\n",
              " Text(50.722222222222214, 0.5, 'Valor real'),\n",
              " Text(0.5, 23.52222222222222, 'Predicción')]"
            ]
          },
          "metadata": {},
          "execution_count": 134
        },
        {
          "output_type": "display_data",
          "data": {
            "text/plain": [
              "<Figure size 640x480 with 2 Axes>"
            ],
            "image/png": "[encoded data removed]"
          },
          "metadata": {}
        }
      ]
    },
    {
      "cell_type": "markdown",
      "source": [
        "En este método, que el accuracy de 1 no quiere decir que sea fiable ya que solo está prediciendo los casos que tuvieron depresión y los que no lo tuvieron, dejando de lado los que fueron predichos y no lo tenían como así también, los no predichos y que lo tenían. Por lo tanto la conclusión final no es tomada solamente con este modelo."
      ],
      "metadata": {
        "id": "VR1mX7gpZOd5"
      }
    },
    {
      "cell_type": "code",
      "source": [
        "feature_names = X_train.columns\n",
        "\n",
        "# Visualizar el árbol de decisión\n",
        "fig, ax = plt.subplots(figsize=(10, 6))\n",
        "plot_tree(model, feature_names=feature_names, filled=True, class_names=['No Depresión', 'Depresión'])\n",
        "plt.show()"
      ],
      "metadata": {
        "colab": {
          "base_uri": "https://localhost:8080/",
          "height": 499
        },
        "id": "Ne8zxKIWUeRw",
        "outputId": "8f652bea-57b7-4f0b-a3da-9d7adef2d606"
      },
      "execution_count": null,
      "outputs": [
        {
          "output_type": "display_data",
          "data": {
            "text/plain": [
              "<Figure size 1000x600 with 1 Axes>"
            ],
            "image/png": "[encoded data removed]"
          },
          "metadata": {}
        }
      ]
    },
    {
      "cell_type": "markdown",
      "source": [
        "## Regresión Lineal"
      ],
      "metadata": {
        "id": "nI7Ky5-Aj1fT"
      }
    },
    {
      "cell_type": "code",
      "source": [
        "# Importo librerías necesarias\n",
        "from sklearn.model_selection import train_test_split\n",
        "from sklearn.linear_model import LinearRegression\n",
        "from sklearn.metrics import mean_squared_error, r2_score\n",
        "from sklearn.preprocessing import StandardScaler, OneHotEncoder\n",
        "from sklearn.compose import ColumnTransformer\n",
        "from sklearn.pipeline import Pipeline"
      ],
      "metadata": {
        "id": "FVk8zopmhhMm"
      },
      "execution_count": null,
      "outputs": []
    },
    {
      "cell_type": "code",
      "source": [
        "# Analizo cómo quedó compuesto mi dataset\n",
        "print(depresion_df.columns)"
      ],
      "metadata": {
        "id": "KqPsX5cXh64Q",
        "outputId": "ff423df3-3023-4644-ae82-30e630258f31",
        "colab": {
          "base_uri": "https://localhost:8080/"
        }
      },
      "execution_count": null,
      "outputs": [
        {
          "output_type": "stream",
          "name": "stdout",
          "text": [
            "Index(['Name', 'Age', 'Marital Status', 'Education Level',\n",
            "       'Number of Children', 'Smoking Status', 'Physical Activity Level',\n",
            "       'Employment Status', 'Income', 'Alcohol Consumption', 'Dietary Habits',\n",
            "       'Sleep Patterns', 'History of Mental Illness',\n",
            "       'History of Substance Abuse', 'Family History of Depression',\n",
            "       'Chronic Medical Conditions', 'Total_Riesgo', 'Alto_Riesgo_Depresion',\n",
            "       'Riesgo_Depresion'],\n",
            "      dtype='object')\n"
          ]
        }
      ]
    },
    {
      "cell_type": "code",
      "source": [
        "# En función de la composición, establezco las variables necesarias para la regresión\n",
        "X = depresion_df[['Age', 'Number of Children', 'Smoking Status', 'Physical Activity Level',\n",
        "        'Employment Status', 'Income', 'Alcohol Consumption', 'Dietary Habits',\n",
        "        'Sleep Patterns', 'History of Mental Illness', 'History of Substance Abuse',\n",
        "        'Family History of Depression', 'Chronic Medical Conditions']]\n",
        "y = depresion_df['Riesgo_Depresion']\n",
        "\n",
        "categorical_features = ['Smoking Status', 'Physical Activity Level', 'Employment Status',\n",
        "                        'Dietary Habits', 'History of Mental Illness', 'History of Substance Abuse',\n",
        "                        'Family History of Depression', 'Chronic Medical Conditions']\n",
        "numerical_features = ['Age', 'Number of Children', 'Income', 'Alcohol Consumption']\n",
        "\n",
        "preprocessor = ColumnTransformer(\n",
        "    transformers=[\n",
        "        ('num', StandardScaler(), numerical_features),\n",
        "        ('cat', OneHotEncoder(), categorical_features)])"
      ],
      "metadata": {
        "id": "M_BgINhbhkKO"
      },
      "execution_count": null,
      "outputs": []
    },
    {
      "cell_type": "code",
      "source": [
        "X_train, X_test, y_train, y_test = train_test_split(X, y, test_size=0.2, random_state=42)"
      ],
      "metadata": {
        "id": "7RJ5Uoy7iuFa"
      },
      "execution_count": null,
      "outputs": []
    },
    {
      "cell_type": "code",
      "source": [
        "model = Pipeline(steps=[('preprocessor', preprocessor),\n",
        "                        ('regressor', LinearRegression())])\n",
        "\n",
        "model.fit(X_train, y_train)"
      ],
      "metadata": {
        "colab": {
          "base_uri": "https://localhost:8080/",
          "height": 192
        },
        "id": "k79vGs12iwWM",
        "outputId": "cffb00d1-5593-4e07-d89f-c892cd0efc51"
      },
      "execution_count": null,
      "outputs": [
        {
          "output_type": "execute_result",
          "data": {
            "text/plain": [
              "Pipeline(steps=[('preprocessor',\n",
              "                 ColumnTransformer(transformers=[('num', StandardScaler(),\n",
              "                                                  ['Age', 'Number of Children',\n",
              "                                                   'Income',\n",
              "                                                   'Alcohol Consumption']),\n",
              "                                                 ('cat', OneHotEncoder(),\n",
              "                                                  ['Smoking Status',\n",
              "                                                   'Physical Activity Level',\n",
              "                                                   'Employment Status',\n",
              "                                                   'Dietary Habits',\n",
              "                                                   'History of Mental Illness',\n",
              "                                                   'History of Substance Abuse',\n",
              "                                                   'Family History of '\n",
              "                                                   'Depression',\n",
              "                                                   'Chronic Medical '\n",
              "                                                   'Conditions'])])),\n",
              "                ('regressor', LinearRegression())])"
            ],
            "text/html": [
              "<style>#sk-container-id-8 {color: black;}#sk-container-id-8 pre{padding: 0;}#sk-container-id-8 div.sk-toggleable {background-color: white;}#sk-container-id-8 label.sk-toggleable__label {cursor: pointer;display: block;width: 100%;margin-bottom: 0;padding: 0.3em;box-sizing: border-box;text-align: center;}#sk-container-id-8 label.sk-toggleable__label-arrow:before {content: \"▸\";float: left;margin-right: 0.25em;color: #696969;}#sk-container-id-8 label.sk-toggleable__label-arrow:hover:before {color: black;}#sk-container-id-8 div.sk-estimator:hover label.sk-toggleable__label-arrow:before {color: black;}#sk-container-id-8 div.sk-toggleable__content {max-height: 0;max-width: 0;overflow: hidden;text-align: left;background-color: #f0f8ff;}#sk-container-id-8 div.sk-toggleable__content pre {margin: 0.2em;color: black;border-radius: 0.25em;background-color: #f0f8ff;}#sk-container-id-8 input.sk-toggleable__control:checked~div.sk-toggleable__content {max-height: 200px;max-width: 100%;overflow: auto;}#sk-container-id-8 input.sk-toggleable__control:checked~label.sk-toggleable__label-arrow:before {content: \"▾\";}#sk-container-id-8 div.sk-estimator input.sk-toggleable__control:checked~label.sk-toggleable__label {background-color: #d4ebff;}#sk-container-id-8 div.sk-label input.sk-toggleable__control:checked~label.sk-toggleable__label {background-color: #d4ebff;}#sk-container-id-8 input.sk-hidden--visually {border: 0;clip: rect(1px 1px 1px 1px);clip: rect(1px, 1px, 1px, 1px);height: 1px;margin: -1px;overflow: hidden;padding: 0;position: absolute;width: 1px;}#sk-container-id-8 div.sk-estimator {font-family: monospace;background-color: #f0f8ff;border: 1px dotted black;border-radius: 0.25em;box-sizing: border-box;margin-bottom: 0.5em;}#sk-container-id-8 div.sk-estimator:hover {background-color: #d4ebff;}#sk-container-id-8 div.sk-parallel-item::after {content: \"\";width: 100%;border-bottom: 1px solid gray;flex-grow: 1;}#sk-container-id-8 div.sk-label:hover label.sk-toggleable__label {background-color: #d4ebff;}#sk-container-id-8 div.sk-serial::before {content: \"\";position: absolute;border-left: 1px solid gray;box-sizing: border-box;top: 0;bottom: 0;left: 50%;z-index: 0;}#sk-container-id-8 div.sk-serial {display: flex;flex-direction: column;align-items: center;background-color: white;padding-right: 0.2em;padding-left: 0.2em;position: relative;}#sk-container-id-8 div.sk-item {position: relative;z-index: 1;}#sk-container-id-8 div.sk-parallel {display: flex;align-items: stretch;justify-content: center;background-color: white;position: relative;}#sk-container-id-8 div.sk-item::before, #sk-container-id-8 div.sk-parallel-item::before {content: \"\";position: absolute;border-left: 1px solid gray;box-sizing: border-box;top: 0;bottom: 0;left: 50%;z-index: -1;}#sk-container-id-8 div.sk-parallel-item {display: flex;flex-direction: column;z-index: 1;position: relative;background-color: white;}#sk-container-id-8 div.sk-parallel-item:first-child::after {align-self: flex-end;width: 50%;}#sk-container-id-8 div.sk-parallel-item:last-child::after {align-self: flex-start;width: 50%;}#sk-container-id-8 div.sk-parallel-item:only-child::after {width: 0;}#sk-container-id-8 div.sk-dashed-wrapped {border: 1px dashed gray;margin: 0 0.4em 0.5em 0.4em;box-sizing: border-box;padding-bottom: 0.4em;background-color: white;}#sk-container-id-8 div.sk-label label {font-family: monospace;font-weight: bold;display: inline-block;line-height: 1.2em;}#sk-container-id-8 div.sk-label-container {text-align: center;}#sk-container-id-8 div.sk-container {/* jupyter's `normalize.less` sets `[hidden] { display: none; }` but bootstrap.min.css set `[hidden] { display: none !important; }` so we also need the `!important` here to be able to override the default hidden behavior on the sphinx rendered scikit-learn.org. See: https://github.com/scikit-learn/scikit-learn/issues/21755 */display: inline-block !important;position: relative;}#sk-container-id-8 div.sk-text-repr-fallback {display: none;}</style><div id=\"sk-container-id-8\" class=\"sk-top-container\"><div class=\"sk-text-repr-fallback\"><pre>Pipeline(steps=[(&#x27;preprocessor&#x27;,\n",
              "                 ColumnTransformer(transformers=[(&#x27;num&#x27;, StandardScaler(),\n",
              "                                                  [&#x27;Age&#x27;, &#x27;Number of Children&#x27;,\n",
              "                                                   &#x27;Income&#x27;,\n",
              "                                                   &#x27;Alcohol Consumption&#x27;]),\n",
              "                                                 (&#x27;cat&#x27;, OneHotEncoder(),\n",
              "                                                  [&#x27;Smoking Status&#x27;,\n",
              "                                                   &#x27;Physical Activity Level&#x27;,\n",
              "                                                   &#x27;Employment Status&#x27;,\n",
              "                                                   &#x27;Dietary Habits&#x27;,\n",
              "                                                   &#x27;History of Mental Illness&#x27;,\n",
              "                                                   &#x27;History of Substance Abuse&#x27;,\n",
              "                                                   &#x27;Family History of &#x27;\n",
              "                                                   &#x27;Depression&#x27;,\n",
              "                                                   &#x27;Chronic Medical &#x27;\n",
              "                                                   &#x27;Conditions&#x27;])])),\n",
              "                (&#x27;regressor&#x27;, LinearRegression())])</pre><b>In a Jupyter environment, please rerun this cell to show the HTML representation or trust the notebook. <br />On GitHub, the HTML representation is unable to render, please try loading this page with nbviewer.org.</b></div><div class=\"sk-container\" hidden><div class=\"sk-item sk-dashed-wrapped\"><div class=\"sk-label-container\"><div class=\"sk-label sk-toggleable\"><input class=\"sk-toggleable__control sk-hidden--visually\" id=\"sk-estimator-id-8\" type=\"checkbox\" ><label for=\"sk-estimator-id-8\" class=\"sk-toggleable__label sk-toggleable__label-arrow\">Pipeline</label><div class=\"sk-toggleable__content\"><pre>Pipeline(steps=[(&#x27;preprocessor&#x27;,\n",
              "                 ColumnTransformer(transformers=[(&#x27;num&#x27;, StandardScaler(),\n",
              "                                                  [&#x27;Age&#x27;, &#x27;Number of Children&#x27;,\n",
              "                                                   &#x27;Income&#x27;,\n",
              "                                                   &#x27;Alcohol Consumption&#x27;]),\n",
              "                                                 (&#x27;cat&#x27;, OneHotEncoder(),\n",
              "                                                  [&#x27;Smoking Status&#x27;,\n",
              "                                                   &#x27;Physical Activity Level&#x27;,\n",
              "                                                   &#x27;Employment Status&#x27;,\n",
              "                                                   &#x27;Dietary Habits&#x27;,\n",
              "                                                   &#x27;History of Mental Illness&#x27;,\n",
              "                                                   &#x27;History of Substance Abuse&#x27;,\n",
              "                                                   &#x27;Family History of &#x27;\n",
              "                                                   &#x27;Depression&#x27;,\n",
              "                                                   &#x27;Chronic Medical &#x27;\n",
              "                                                   &#x27;Conditions&#x27;])])),\n",
              "                (&#x27;regressor&#x27;, LinearRegression())])</pre></div></div></div><div class=\"sk-serial\"><div class=\"sk-item sk-dashed-wrapped\"><div class=\"sk-label-container\"><div class=\"sk-label sk-toggleable\"><input class=\"sk-toggleable__control sk-hidden--visually\" id=\"sk-estimator-id-9\" type=\"checkbox\" ><label for=\"sk-estimator-id-9\" class=\"sk-toggleable__label sk-toggleable__label-arrow\">preprocessor: ColumnTransformer</label><div class=\"sk-toggleable__content\"><pre>ColumnTransformer(transformers=[(&#x27;num&#x27;, StandardScaler(),\n",
              "                                 [&#x27;Age&#x27;, &#x27;Number of Children&#x27;, &#x27;Income&#x27;,\n",
              "                                  &#x27;Alcohol Consumption&#x27;]),\n",
              "                                (&#x27;cat&#x27;, OneHotEncoder(),\n",
              "                                 [&#x27;Smoking Status&#x27;, &#x27;Physical Activity Level&#x27;,\n",
              "                                  &#x27;Employment Status&#x27;, &#x27;Dietary Habits&#x27;,\n",
              "                                  &#x27;History of Mental Illness&#x27;,\n",
              "                                  &#x27;History of Substance Abuse&#x27;,\n",
              "                                  &#x27;Family History of Depression&#x27;,\n",
              "                                  &#x27;Chronic Medical Conditions&#x27;])])</pre></div></div></div><div class=\"sk-parallel\"><div class=\"sk-parallel-item\"><div class=\"sk-item\"><div class=\"sk-label-container\"><div class=\"sk-label sk-toggleable\"><input class=\"sk-toggleable__control sk-hidden--visually\" id=\"sk-estimator-id-10\" type=\"checkbox\" ><label for=\"sk-estimator-id-10\" class=\"sk-toggleable__label sk-toggleable__label-arrow\">num</label><div class=\"sk-toggleable__content\"><pre>[&#x27;Age&#x27;, &#x27;Number of Children&#x27;, &#x27;Income&#x27;, &#x27;Alcohol Consumption&#x27;]</pre></div></div></div><div class=\"sk-serial\"><div class=\"sk-item\"><div class=\"sk-estimator sk-toggleable\"><input class=\"sk-toggleable__control sk-hidden--visually\" id=\"sk-estimator-id-11\" type=\"checkbox\" ><label for=\"sk-estimator-id-11\" class=\"sk-toggleable__label sk-toggleable__label-arrow\">StandardScaler</label><div class=\"sk-toggleable__content\"><pre>StandardScaler()</pre></div></div></div></div></div></div><div class=\"sk-parallel-item\"><div class=\"sk-item\"><div class=\"sk-label-container\"><div class=\"sk-label sk-toggleable\"><input class=\"sk-toggleable__control sk-hidden--visually\" id=\"sk-estimator-id-12\" type=\"checkbox\" ><label for=\"sk-estimator-id-12\" class=\"sk-toggleable__label sk-toggleable__label-arrow\">cat</label><div class=\"sk-toggleable__content\"><pre>[&#x27;Smoking Status&#x27;, &#x27;Physical Activity Level&#x27;, &#x27;Employment Status&#x27;, &#x27;Dietary Habits&#x27;, &#x27;History of Mental Illness&#x27;, &#x27;History of Substance Abuse&#x27;, &#x27;Family History of Depression&#x27;, &#x27;Chronic Medical Conditions&#x27;]</pre></div></div></div><div class=\"sk-serial\"><div class=\"sk-item\"><div class=\"sk-estimator sk-toggleable\"><input class=\"sk-toggleable__control sk-hidden--visually\" id=\"sk-estimator-id-13\" type=\"checkbox\" ><label for=\"sk-estimator-id-13\" class=\"sk-toggleable__label sk-toggleable__label-arrow\">OneHotEncoder</label><div class=\"sk-toggleable__content\"><pre>OneHotEncoder()</pre></div></div></div></div></div></div></div></div><div class=\"sk-item\"><div class=\"sk-estimator sk-toggleable\"><input class=\"sk-toggleable__control sk-hidden--visually\" id=\"sk-estimator-id-14\" type=\"checkbox\" ><label for=\"sk-estimator-id-14\" class=\"sk-toggleable__label sk-toggleable__label-arrow\">LinearRegression</label><div class=\"sk-toggleable__content\"><pre>LinearRegression()</pre></div></div></div></div></div></div></div>"
            ]
          },
          "metadata": {},
          "execution_count": 140
        }
      ]
    },
    {
      "cell_type": "code",
      "source": [
        "# Calculo el error cuadrático medio y el coeficiente de determinación R^2\n",
        "predictions = model.predict(X_test)\n",
        "mse = mean_squared_error(y_test, predictions)\n",
        "r2 = r2_score(y_test, predictions)\n",
        "\n",
        "print(f'Mean Squared Error: {mse}')\n",
        "print(f'R^2 Score: {r2}')"
      ],
      "metadata": {
        "colab": {
          "base_uri": "https://localhost:8080/"
        },
        "id": "X5n5jYWoi0zH",
        "outputId": "49ccfe26-5e1f-4cf2-9d6d-e8ef01f823d6"
      },
      "execution_count": null,
      "outputs": [
        {
          "output_type": "stream",
          "name": "stdout",
          "text": [
            "Mean Squared Error: 0.07402166686463235\n",
            "R^2 Score: 0.6707378001842095\n"
          ]
        }
      ]
    },
    {
      "cell_type": "markdown",
      "source": [
        "En función de los datos obtenidos por el MSE, el mismo, al ser tan pequeño sugiere que el modelo tiene un grado aceptable de precisión en sus predicciones. Con el R2 mido la variabilidad de los datos por lo que, en base al valor obtenido, puedo inferir que; si bien hay cosas por mejorar (un 33% de la variabilidad no pudo ser analizada en base al modelo planteado), el modelo de regresión simple se ajusta bastante a las predicciones realizadas."
      ],
      "metadata": {
        "id": "sHmYoidUjF6N"
      }
    },
    {
      "cell_type": "markdown",
      "source": [
        "# **Conclusiones Finales**"
      ],
      "metadata": {
        "id": "qqXMXz4Hbb60"
      }
    },
    {
      "cell_type": "markdown",
      "source": [
        "Como conclusión final puedo inferir que los mejores métodos para realizar predicciones sobre la posibilidad o no de poseer depresión es la regresión logística (con un random_state mayor al convencional) o con la regresión logística dado que el R2 en ésta última tuvo un grado de aceptación del 67%. Esto se da en base a las variables utilizadas en los modelos; como ser, uso de sustancias, alcohol, padecimiento de enfermedades mentales, historial médico familiar y otras enfermedades subyacentes. Por lo expuesto, el público objetivo al que fue dirigido el presente proyecto debería tomar medidas de concientización para evitar el síndrome o, en su defecto, tratar de reducir el número de personas que poseen factores de riesgo."
      ],
      "metadata": {
        "id": "dgMotBZRbhpG"
      }
    },
    {
      "cell_type": "markdown",
      "source": [],
      "metadata": {
        "id": "qIqaJjEXcpCG"
      }
    }
  ]
}